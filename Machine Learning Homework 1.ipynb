{
 "cells": [
  {
   "cell_type": "markdown",
   "metadata": {},
   "source": [
    "# Homework 1: Perceptrons\n",
    "### Due Thursday, January 17, 2019, 5pm\n",
    "#### Jesse Zhu\n",
    "#### ML-W2019\n",
    "\n",
    "Using the MNIST hand-written digits dataset, we aim to use perceptrons to categorize the labeled data through supervised learning. As this is a single-layer, the result is not expected to be perfect, but should be noticeably better than random. Each data point will be 785 values between 0 and 1, representing the grayscale value of each pixel in the original image. These values will be used to update our weight values over the course of 50 epochs, resulting in our 10 perceptrons (digits 0 to 9) being trained at the end. Finally, we will run test data through these trained perceptrons and take the maximum value of the 10 perceptrons as the predicted result."
   ]
  },
  {
   "cell_type": "code",
   "execution_count": 70,
   "metadata": {},
   "outputs": [],
   "source": [
    "#import pandas as pd\n",
    "import numpy as np\n",
    "from matplotlib import pyplot as plt"
   ]
  },
  {
   "cell_type": "code",
   "execution_count": 30,
   "metadata": {},
   "outputs": [],
   "source": [
    "#IMPORT DATA#################\n",
    "testfile = \"mnist_test.csv\"\n",
    "trainfile = \"mnist_train.csv\"\n",
    "\n",
    "# test_data = pd.read_csv(testfile)\n",
    "# train_data = pd.read_csv(trainfile)\n",
    "\n",
    "#Data is 785 columns by N rows. First column = Label (0-9), others = 0:255\n",
    "test_data = np.genfromtxt(testfile, skip_header=True, delimiter=',')\n",
    "train_data = np.genfromtxt(trainfile, skip_header=True, delimiter=',')\n",
    "\n",
    "#PREPROCESSING###############\n",
    "\n",
    "#SCALE by 255\n",
    "test_data[:,1:] /= 255\n",
    "train_data[:,1:] /= 255\n",
    "#print((test_data[0,:]))"
   ]
  },
  {
   "cell_type": "code",
   "execution_count": 218,
   "metadata": {},
   "outputs": [],
   "source": [
    "#Accuraccy function\n",
    "def acc(weights, data, debug = 0):\n",
    "    \"\"\"\n",
    "    input: \n",
    "        weights: matrix of 785 weights by 10 classes, where the first weight is the bias\n",
    "        data: matrix of N data points by 785 values, where the first value is the target (0-9), and the rest are\n",
    "            scaled gray-scale values between 0 and 1\n",
    "    output: Percentage of correct classifications, where a classification is taken using the highest perceptron\n",
    "        output value\n",
    "    \"\"\"\n",
    "    length = len(data[:,0])\n",
    "    xi = np.append(np.ones([length,1]), data[:, 1:],1)\n",
    "    out = xi @ weights[:, :]\n",
    "    amax = out.argmax(axis=1)\n",
    "    if debug:\n",
    "        print(out.shape)\n",
    "        print(amax[0:25])\n",
    "    ret = np.sum(amax == data[:,0])\n",
    "    return ret/length\n",
    "\n",
    "#Confusion matrix\n",
    "def cm(weights, data):\n",
    "    length = len(data[:,0])\n",
    "    xi = np.append(np.ones([length,1]), data[:, 1:],1)\n",
    "    m = np.zeros([11,11])\n",
    "    m[0,1:] = np.arange(10)\n",
    "    m[1:,0] = np.arange(10)\n",
    "    \n",
    "    for i in range(0, length):\n",
    "        actual = int(data[i, 0])\n",
    "        predic = int((xi[i,:] @ weights).argmax(axis=0))\n",
    "        m[actual+1, predic+1] += 1\n",
    "        \n",
    "    return m.astype(int)\n",
    "\n",
    "#Drawing function\n",
    "def draw_digit(data):\n",
    "    \"\"\"\n",
    "    input:\n",
    "        1x785 matrix of grayscaled pixel values\n",
    "    output: image of (1:785 pixels, skipping first label)\n",
    "    \"\"\"\n",
    "    img = np.reshape(data[1:], (28, 28))\n",
    "    print(img)\n",
    "    plt.imshow(img)\n",
    "    plt.show\n",
    "    \n",
    "#Training function\n",
    "def train(weights, data, lr, debug = 0):\n",
    "    \"\"\"\n",
    "    input: \n",
    "        weights: matrix of 785 weights by 10 classes, where the first weight is the bias\n",
    "        data: matrix of N data points by 785 values, where the first value is the target (0-9), and the rest are\n",
    "            scaled gray-scale values between 0 and 1\n",
    "        lr: learning rate (~ 0 to 1)\n",
    "    output:\n",
    "        Altered input weights matrix\n",
    "    \"\"\"\n",
    "    length = len(data[:,0])\n",
    "\n",
    "    for i in range(0,length):\n",
    "        xi = np.append([1], data[i, 1:]) #add \"1\" to input beginning for offset -> 1x785\n",
    "        out = np.add((data[i, 1:] @ weights[1:, :]), weights[0, :]) #1 by 10 matrix\n",
    "\n",
    "        target = np.zeros(10)\n",
    "        tindex = int(data[i,0])\n",
    "        target[tindex] = 1 #1x10 of 0s, with target index = 1\n",
    "      \n",
    "        out[out < 0] = 0\n",
    "        out[out > 0] = 1\n",
    "        if i == 0 and debug:\n",
    "            print(target-out)\n",
    "\n",
    "        deltaw = lr * np.outer(xi,(target - out)) #785x1 * 1x10 = 785x10\n",
    "        if i == 0 and debug:\n",
    "            print(deltaw[0:10,0:5])\n",
    "            print(xi[0:10])\n",
    "            print(deltaw.sum())\n",
    "            print(weights.sum())\n",
    "\n",
    "        weights += deltaw\n",
    "        if i == 0 and debug:\n",
    "            print(weights.sum())\n",
    "    \n",
    "    return"
   ]
  },
  {
   "cell_type": "code",
   "execution_count": 187,
   "metadata": {},
   "outputs": [],
   "source": [
    "init_weights = (np.random.rand(785,10) * 0.10) - 0.05\n",
    "learning_rates = [0.001, 0.01, 0.1, 1.0]"
   ]
  },
  {
   "cell_type": "code",
   "execution_count": 221,
   "metadata": {
    "scrolled": false
   },
   "outputs": [
    {
     "name": "stdout",
     "output_type": "stream",
     "text": [
      "***RATE =  0.001 ***************\n",
      "[[   0    0    1    2    3    4    5    6    7    8    9]\n",
      " [   0  953    0   13    2    2    4    5    1    0    0]\n",
      " [   1    0 1078    3    6    0   18    1    1   26    2]\n",
      " [   2   12    2  940   19   13    9   10   10   10    7]\n",
      " [   3    2    1   20  887    2   75    3    9    3    8]\n",
      " [   4    6    4   11   15  836    6    7    0    3   94]\n",
      " [   5   19    2   21   32   22  758   10    2   12   14]\n",
      " [   6   29    2   19    0    9   33  861    1    3    1]\n",
      " [   7   13    9   37   23    6   18    1  881    1   38]\n",
      " [   8   24   10   46   77   20  115    9    5  651   17]\n",
      " [   9   16    3   22   71   29   29    1   19    3  816]]\n",
      "final test acc =  0.8661866186618662\n",
      "final train acc =  0.8416806946782447\n"
     ]
    },
    {
     "data": {
      "image/png": "[encoded data removed]",
      "text/plain": [
       "<Figure size 432x288 with 1 Axes>"
      ]
     },
     "metadata": {
      "needs_background": "light"
     },
     "output_type": "display_data"
    },
    {
     "name": "stdout",
     "output_type": "stream",
     "text": [
      "***RATE =  0.01 ***************\n",
      "[[   0    0    1    2    3    4    5    6    7    8    9]\n",
      " [   0  937    0    1    3    1   22   12    2    1    1]\n",
      " [   1    0 1032    0    3    0   90    0    1    7    2]\n",
      " [   2    2    4  923   22    8   22   11   15   10   15]\n",
      " [   3    2    0   10  802    0  182    0    6    0    8]\n",
      " [   4    0    2    3    7  701    5   16    3    1  244]\n",
      " [   5    6    1    9   16    6  818    6    1    7   22]\n",
      " [   6   12    2    6    0    5   62  867    3    0    1]\n",
      " [   7    0   13   13   10    5   13    0  924    0   49]\n",
      " [   8    8    6   16  102   10  178    6   22  565   61]\n",
      " [   9    5    2   12   26    7   16    2   13    1  925]]\n",
      "final test acc =  0.8494849484948495\n",
      "final train acc =  0.8286471441190687\n"
     ]
    },
    {
     "data": {
      "image/png": "[encoded data removed]",
      "text/plain": [
       "<Figure size 432x288 with 1 Axes>"
      ]
     },
     "metadata": {
      "needs_background": "light"
     },
     "output_type": "display_data"
    },
    {
     "name": "stdout",
     "output_type": "stream",
     "text": [
      "***RATE =  0.1 ***************\n",
      "[[   0    0    1    2    3    4    5    6    7    8    9]\n",
      " [   0  950    0   11    1    1    5   10    2    0    0]\n",
      " [   1    0 1111    4    0    5    9    2    1    3    0]\n",
      " [   2   12   15  902    0   31    4   22   19   14   13]\n",
      " [   3    4   24   44  752   15  108    4   15    6   38]\n",
      " [   4    1    1    1    0  850    0   13    1    1  114]\n",
      " [   5   12    3   34    7   51  710   19    9   16   31]\n",
      " [   6    9    5    4    0    9   23  906    2    0    0]\n",
      " [   7    2   19   13    1   15    0    5  929    1   42]\n",
      " [   8   17   52   32    7   65   24   15   21  710   31]\n",
      " [   9    8    5   13    7   41    5    2   22    1  905]]\n",
      "final test acc =  0.8725872587258726\n",
      "final train acc =  0.8413806896781613\n"
     ]
    },
    {
     "data": {
      "image/png": "[encoded data removed]",
      "text/plain": [
       "<Figure size 432x288 with 1 Axes>"
      ]
     },
     "metadata": {
      "needs_background": "light"
     },
     "output_type": "display_data"
    },
    {
     "name": "stdout",
     "output_type": "stream",
     "text": [
      "***RATE =  1.0 ***************\n",
      "[[   0    0    1    2    3    4    5    6    7    8    9]\n",
      " [   0  967    0    6    0    1    3    2    1    0    0]\n",
      " [   1    0 1069    7    0    0   39    0    1   19    0]\n",
      " [   2   15    1  956    0   16    5    9    9   18    3]\n",
      " [   3    9    0  111  559    6  291    1   10   18    5]\n",
      " [   4    3    1   12    0  891    2    7    3    2   61]\n",
      " [   5   18    1   32    1   11  803    2    3   16    5]\n",
      " [   6   22    3   21    0   10   84  812    2    4    0]\n",
      " [   7    5   12   39    0   15    6    1  929    3   17]\n",
      " [   8   30    5   49    2   18   70    2   12  786    0]\n",
      " [   9   21    6   39    9   67   22    0   57   15  773]]\n",
      "final test acc =  0.8545854585458545\n",
      "final train acc =  0.8345472424540409\n"
     ]
    },
    {
     "data": {
      "image/png": "[encoded data removed]",
      "text/plain": [
       "<Figure size 432x288 with 1 Axes>"
      ]
     },
     "metadata": {
      "needs_background": "light"
     },
     "output_type": "display_data"
    }
   ],
   "source": [
    "#draw_digit(test_data[0, :])\n",
    "for rate in learning_rates:\n",
    "    print(\"***RATE = \",rate,\"***************\")\n",
    "    w = np.copy(init_weights)\n",
    "    acc_test = []\n",
    "    acc_train = []\n",
    "\n",
    "    acc_test.append(acc(w, test_data))\n",
    "    acc_train.append(acc(w, train_data))\n",
    "\n",
    "    for i in range(0,50):\n",
    "        train(w, train_data, rate)\n",
    "        acc_test.append(acc(w, test_data))\n",
    "        acc_train.append(acc(w, train_data))\n",
    "\n",
    "    print(cm(w, test_data))\n",
    "    print(\"final test acc = \", acc_test[len(acc_test)-1])\n",
    "    print(\"final train acc = \", acc_train[len(acc_train)-1])\n",
    "\n",
    "    plt.plot(acc_test)\n",
    "    plt.plot(acc_train)\n",
    "    plt.xlabel(\"epochs\")\n",
    "    plt.ylabel(\"accuracy(%)\")\n",
    "    title = \"Training and Test accuracy, learning rate = \" + str(rate)\n",
    "    plt.title(\"Training and Test accuracy\")\n",
    "    plt.legend((\"test\", \"train\"),loc='lower right')\n",
    "    plt.show()"
   ]
  },
  {
   "cell_type": "markdown",
   "metadata": {},
   "source": [
    "## Discussion\n",
    "#### LR = 0.001:\n",
    "'6' is most often classified incorrectly, and is often mistaken as '4'.\n",
    "\n",
    "#### LR = 0.01:\n",
    "'6' is most often classified incorrectly, and is often mistaken as '4'.\n",
    "\n",
    "#### LR = 0.1:\n",
    "'6' is most often classified incorrectly, and is often mistaken as '4'.\n",
    "\n",
    "#### LR = 1:\n",
    "'6' is most often classified incorrectly, and is often mistaken as '4'.\n",
    "\n",
    "Comparison:\n",
    "The lower learning rates gave a slightly smoother curve than the higher learning rates."
   ]
  },
  {
   "cell_type": "markdown",
   "metadata": {},
   "source": [
    "### Appendix of Resources\n",
    "1. Matrix multiplication\n",
    "https://stackoverflow.com/questions/21562986/numpy-matrix-vector-multiplication\n",
    "\n",
    "```python\n",
    "a = np.random.rand(1,3)\n",
    "b = np.random.rand(3,5)\n",
    "print(a@b)\n",
    "\n",
    "print(np.zeros([3,3]))\n",
    "\n",
    "np.add([1, 2, 3], [5, 5, 0])\n",
    "```\n",
    "\n",
    "2. Argmax arrays\n",
    "https://stackoverflow.com/questions/5469286/how-to-get-the-index-of-a-maximum-element-in-a-numpy-array-along-one-axis\n",
    "```python\n",
    "mm.argmax(axis=1)\n",
    "```\n",
    "\n",
    "3. Plotting 2d arrays\n",
    "https://stackoverflow.com/questions/16492830/colorplot-of-2d-array-matplotlib\n",
    "\n",
    "4. Count # Equal Array Elements\n",
    "https://stackoverflow.com/questions/25490641/check-how-many-elements-are-equal-in-two-numpy-arrays-python\n",
    "```python\n",
    "np.sum(a == b)\n",
    "```\n",
    "\n",
    "5. Multiplying 1-D arrays / transposing\n",
    "https://stackoverflow.com/questions/23566515/multiplication-of-1d-arrays-in-numpy\n",
    "```python\n",
    "b[:, None]\n",
    "```\n",
    "\n",
    "6. Positive/Negative values -> 1, 0\n",
    "https://stackoverflow.com/questions/10335090/numpy-replace-negative-values-in-array\n",
    "\n",
    "```python\n",
    "f = np.array([-2, -1, 0, 0, 3, 5, -4])\n",
    "f[f < 0] = 0\n",
    "f[f > 0] = 1\n",
    "```\n",
    "\n",
    "7. Python numpy references vs call by reference?\n",
    "https://stackoverflow.com/questions/11585793/are-numpy-arrays-passed-by-reference/11585888\n",
    "`weights = np.add(weights, deltaw) #DOES NOT WORK`\n",
    "\n",
    "`weights += blah` works"
   ]
  },
  {
   "cell_type": "code",
   "execution_count": 133,
   "metadata": {
    "scrolled": true
   },
   "outputs": [
    {
     "name": "stdout",
     "output_type": "stream",
     "text": [
      "[[ 2  4  6]\n",
      " [28 32 36]]\n",
      "[[  6   5   4]\n",
      " [ -7  -9 -11]]\n",
      "[ 1.  1.  1. -0. -0. -0.]\n",
      "[[0 0 1]\n",
      " [0 0 2]\n",
      " [0 0 3]\n",
      " [0 0 4]\n",
      " [0 0 5]]\n",
      "[0 0 0 0 1 1 0]\n",
      "[0. 0. 0. 0. 1.]\n",
      "[[10 10 10]\n",
      " [20 20 20]\n",
      " [30 30 30]\n",
      " [40 40 40]\n",
      " [50 50 50]]\n"
     ]
    }
   ],
   "source": [
    "a = np.array([[1, 2, 3], [4, 5, 6]])\n",
    "b = [10, 11, 12]\n",
    "a[1,:] = np.add(a[1,:], b)\n",
    "print(2*a)\n",
    "print(7-a)\n",
    "c = np.array([0.1, 0.2, 0.3, -0.4, -0.5, -0.6])\n",
    "print(np.ceil(c))\n",
    "d = np.array([[1, 2, 3, 4, 5]])\n",
    "e = np.array([[0, 0, 1]])\n",
    "print(np.transpose(d)@e)\n",
    "f = np.array([-2, -1, 0, 0, 3, 5, -4])\n",
    "f[f < 0] = 0\n",
    "f[f > 0] = 1\n",
    "print(f)\n",
    "g = np.zeros(5)\n",
    "g[4] = 1\n",
    "print(g)\n",
    "a1 = [1, 2, 3, 4, 5]\n",
    "b1 = [10, 10, 10]\n",
    "print(np.outer(a1,b1))"
   ]
  },
  {
   "cell_type": "code",
   "execution_count": 202,
   "metadata": {},
   "outputs": [
    {
     "name": "stdout",
     "output_type": "stream",
     "text": [
      "[[1.]\n",
      " [1.]]\n",
      "[[1. 1. 2. 3.]\n",
      " [1. 1. 2. 3.]]\n"
     ]
    }
   ],
   "source": [
    "c1 = np.array([[1, 2, 3],[1,2,3]])\n",
    "d1 = np.ones([2,1])\n",
    "print(d1)\n",
    "e1 = np.append(d1, c1, 1)\n",
    "print(e1)"
   ]
  },
  {
   "cell_type": "code",
   "execution_count": null,
   "metadata": {},
   "outputs": [],
   "source": []
  }
 ],
 "metadata": {
  "kernelspec": {
   "display_name": "Python 3",
   "language": "python",
   "name": "python3"
  },
  "language_info": {
   "codemirror_mode": {
    "name": "ipython",
    "version": 3
   },
   "file_extension": ".py",
   "mimetype": "text/x-python",
   "name": "python",
   "nbconvert_exporter": "python",
   "pygments_lexer": "ipython3",
   "version": "3.5.2"
  }
 },
 "nbformat": 4,
 "nbformat_minor": 2
}
