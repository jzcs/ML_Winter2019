{
 "cells": [
  {
   "cell_type": "markdown",
   "metadata": {},
   "source": [
    "# Homework 1: Perceptrons\n",
    "### Due Thursday, January 17, 2019, 5pm\n",
    "#### Jesse Zhu\n",
    "#### ML-W2019\n",
    "\n",
    "Using the MNIST hand-written digits dataset, we aim to use perceptrons to categorize the labeled data through supervised learning. As this is a single-layer, the result is not expected to be perfect, but should be noticeably better than random. Each data point will be 785 values between 0 and 1, representing the grayscale value of each pixel in the original image. These values will be used to update our weight values over the course of 50 epochs, resulting in our 10 perceptrons (digits 0 to 9) being trained at the end. Finally, we will run test data through these trained perceptrons and take the maximum value of the 10 perceptrons as the predicted result."
   ]
  },
  {
   "cell_type": "code",
   "execution_count": 70,
   "metadata": {},
   "outputs": [],
   "source": [
    "#import pandas as pd\n",
    "import numpy as np\n",
    "from matplotlib import pyplot as plt"
   ]
  },
  {
   "cell_type": "code",
   "execution_count": 30,
   "metadata": {},
   "outputs": [],
   "source": [
    "#IMPORT DATA#################\n",
    "testfile = \"mnist_test.csv\"\n",
    "trainfile = \"mnist_train.csv\"\n",
    "\n",
    "# test_data = pd.read_csv(testfile)\n",
    "# train_data = pd.read_csv(trainfile)\n",
    "\n",
    "#Data is 785 columns by N rows. First column = Label (0-9), others = 0:255\n",
    "test_data = np.genfromtxt(testfile, skip_header=True, delimiter=',')\n",
    "train_data = np.genfromtxt(trainfile, skip_header=True, delimiter=',')\n",
    "\n",
    "#PREPROCESSING###############\n",
    "\n",
    "#SCALE by 255\n",
    "test_data[:,1:] /= 255\n",
    "train_data[:,1:] /= 255\n",
    "#print((test_data[0,:]))"
   ]
  },
  {
   "cell_type": "code",
   "execution_count": 218,
   "metadata": {},
   "outputs": [],
   "source": [
    "#Accuraccy function\n",
    "def acc(weights, data, debug = 0):\n",
    "    \"\"\"\n",
    "    input: \n",
    "        weights: matrix of 785 weights by 10 classes, where the first weight is the bias\n",
    "        data: matrix of N data points by 785 values, where the first value is the target (0-9), and the rest are\n",
    "            scaled gray-scale values between 0 and 1\n",
    "    output: Percentage of correct classifications, where a classification is taken using the highest perceptron\n",
    "        output value\n",
    "    \"\"\"\n",
    "    length = len(data[:,0])\n",
    "    xi = np.append(np.ones([length,1]), data[:, 1:],1)\n",
    "    out = xi @ weights[:, :]\n",
    "    amax = out.argmax(axis=1)\n",
    "    if debug:\n",
    "        print(out.shape)\n",
    "        print(amax[0:25])\n",
    "    ret = np.sum(amax == data[:,0])\n",
    "    return ret/length\n",
    "\n",
    "#Confusion matrix\n",
    "def cm(weights, data):\n",
    "    length = len(data[:,0])\n",
    "    xi = np.append(np.ones([length,1]), data[:, 1:],1)\n",
    "    m = np.zeros([11,11])\n",
    "    m[0,1:] = np.arange(10)\n",
    "    m[1:,0] = np.arange(10)\n",
    "    \n",
    "    for i in range(0, length):\n",
    "        actual = int(data[i, 0])\n",
    "        predic = int((xi[i,:] @ weights).argmax(axis=0))\n",
    "        m[actual+1, predic+1] += 1\n",
    "        \n",
    "    return m.astype(int)\n",
    "\n",
    "#Drawing function\n",
    "def draw_digit(data):\n",
    "    \"\"\"\n",
    "    input:\n",
    "        1x785 matrix of grayscaled pixel values\n",
    "    output: image of (1:785 pixels, skipping first label)\n",
    "    \"\"\"\n",
    "    img = np.reshape(data[1:], (28, 28))\n",
    "    print(img)\n",
    "    plt.imshow(img)\n",
    "    plt.show\n",
    "    \n",
    "#Training function\n",
    "def train(weights, data, lr, debug = 0):\n",
    "    \"\"\"\n",
    "    input: \n",
    "        weights: matrix of 785 weights by 10 classes, where the first weight is the bias\n",
    "        data: matrix of N data points by 785 values, where the first value is the target (0-9), and the rest are\n",
    "            scaled gray-scale values between 0 and 1\n",
    "        lr: learning rate (~ 0 to 1)\n",
    "    output:\n",
    "        Altered input weights matrix\n",
    "    \"\"\"\n",
    "    length = len(data[:,0])\n",
    "\n",
    "    for i in range(0,length):\n",
    "        xi = np.append([1], data[i, 1:]) #add \"1\" to input beginning for offset -> 1x785\n",
    "        out = np.add((data[i, 1:] @ weights[1:, :]), weights[0, :]) #1 by 10 matrix\n",
    "\n",
    "        target = np.zeros(10)\n",
    "        tindex = int(data[i,0])\n",
    "        target[tindex] = 1 #1x10 of 0s, with target index = 1\n",
    "      \n",
    "        out[out < 0] = 0\n",
    "        out[out > 0] = 1\n",
    "        if i == 0 and debug:\n",
    "            print(target-out)\n",
    "\n",
    "        deltaw = lr * np.outer(xi,(target - out)) #785x1 * 1x10 = 785x10\n",
    "        if i == 0 and debug:\n",
    "            print(deltaw[0:10,0:5])\n",
    "            print(xi[0:10])\n",
    "            print(deltaw.sum())\n",
    "            print(weights.sum())\n",
    "\n",
    "        weights += deltaw\n",
    "        if i == 0 and debug:\n",
    "            print(weights.sum())\n",
    "    \n",
    "    return"
   ]
  },
  {
   "cell_type": "code",
   "execution_count": 224,
   "metadata": {},
   "outputs": [],
   "source": [
    "init_weights = (np.random.rand(785,10) * 0.10) - 0.05\n",
    "learning_rates = [0.01, 0.1, 1.0]"
   ]
  },
  {
   "cell_type": "code",
   "execution_count": 227,
   "metadata": {
    "scrolled": false
   },
   "outputs": [
    {
     "name": "stdout",
     "output_type": "stream",
     "text": [
      "***RATE =  0.01 ***************\n",
      "012345678910111213141516171819202122232425262728293031323334353637383940414243444546474849 \n",
      "[[   0    0    1    2    3    4    5    6    7    8    9]\n",
      " [   0  953    0    4    1    0    5   10    2    4    1]\n",
      " [   1    0 1110    3    2    3    1    3    1   12    0]\n",
      " [   2    9   40  806   86   11    9   14    8   43    6]\n",
      " [   3    6    3   15  927    0   22    5   11   11   10]\n",
      " [   4    1    3    7    3  819    0   19    3   13  114]\n",
      " [   5   12    3    1   89    8  666   44    8   37   24]\n",
      " [   6    7    5    4    1    2   25  905    1    8    0]\n",
      " [   7    3   13   19   12   15    2    1  905    8   49]\n",
      " [   8   12   31   13  109   23   15   28    5  690   48]\n",
      " [   9    7    6    3   19   13    3    3   16    8  931]]\n",
      "final test acc =  0.8712871287128713\n",
      "final train acc =  0.8805646760779346\n"
     ]
    },
    {
     "data": {
      "image/png": "[encoded data removed]",
      "text/plain": [
       "<Figure size 432x288 with 1 Axes>"
      ]
     },
     "metadata": {
      "needs_background": "light"
     },
     "output_type": "display_data"
    },
    {
     "name": "stdout",
     "output_type": "stream",
     "text": [
      "***RATE =  0.1 ***************\n",
      "012345678910111213141516171819202122232425262728293031323334353637383940414243444546474849 \n",
      "[[   0    0    1    2    3    4    5    6    7    8    9]\n",
      " [   0  952    0    2    5    0    5    7    3    5    1]\n",
      " [   1    0 1112    0    7    0    1    3    1   10    1]\n",
      " [   2    6   32  724  189    4    6   19    6   41    5]\n",
      " [   3    2    2    6  966    1    8    2    5    8   10]\n",
      " [   4    2    1    5    6  781    1   23    1   14  148]\n",
      " [   5   12    3    3  117   10  641   33    7   47   19]\n",
      " [   6    7    5    1    3    3   19  914    0    5    1]\n",
      " [   7    5   13   18   32   10    0    2  838   16   93]\n",
      " [   8    6   20    6  193   17   12   24    3  653   40]\n",
      " [   9    6    7    2   26   13    3    2    7    5  938]]\n",
      "final test acc =  0.851985198519852\n",
      "final train acc =  0.8612976882948049\n"
     ]
    },
    {
     "data": {
      "image/png": "[encoded data removed]",
      "text/plain": [
       "<Figure size 432x288 with 1 Axes>"
      ]
     },
     "metadata": {
      "needs_background": "light"
     },
     "output_type": "display_data"
    },
    {
     "name": "stdout",
     "output_type": "stream",
     "text": [
      "***RATE =  1.0 ***************\n",
      "012345678910111213141516171819202122232425262728293031323334353637383940414243444546474849 \n",
      "[[   0    0    1    2    3    4    5    6    7    8    9]\n",
      " [   0  949    0    2    4    1    3   13    2    4    2]\n",
      " [   1    0 1122    1    4    0    1    3    1    3    0]\n",
      " [   2    8   44  789  128    5    7   14    7   23    7]\n",
      " [   3    5    3   11  946    1    7    4    9    6   18]\n",
      " [   4    1    2   11    3  782    0   15    1    8  159]\n",
      " [   5    9    2    5  127   15  609   37    6   46   36]\n",
      " [   6    5    5    3    2    2   19  919    1    2    0]\n",
      " [   7    3   10   30   18   16    3    2  849    4   92]\n",
      " [   8    7   48   12  126   20   15   25    4  647   70]\n",
      " [   9    6    6    7   18   13    5    2    9    4  939]]\n",
      "final test acc =  0.8551855185518552\n",
      "final train acc =  0.862664377739629\n"
     ]
    },
    {
     "data": {
      "image/png": "[encoded data removed]",
      "text/plain": [
       "<Figure size 432x288 with 1 Axes>"
      ]
     },
     "metadata": {
      "needs_background": "light"
     },
     "output_type": "display_data"
    }
   ],
   "source": [
    "#draw_digit(test_data[0, :])\n",
    "epochs = 50\n",
    "for rate in learning_rates:\n",
    "    print(\"***RATE = \",rate,\"***************\")\n",
    "    w = np.copy(init_weights)\n",
    "    acc_test = []\n",
    "    acc_train = []\n",
    "\n",
    "    acc_test.append(acc(w, test_data))\n",
    "    acc_train.append(acc(w, train_data))\n",
    "\n",
    "    for i in range(0,epochs):\n",
    "        train(w, train_data, rate)\n",
    "        acc_test.append(acc(w, test_data))\n",
    "        acc_train.append(acc(w, train_data))\n",
    "        print(i, end='', flush=True)\n",
    "    print(\" \") #newline\n",
    "\n",
    "    print(cm(w, test_data))\n",
    "    print(\"final test acc = \", acc_test[len(acc_test)-1])\n",
    "    print(\"final train acc = \", acc_train[len(acc_train)-1])\n",
    "\n",
    "    plt.plot(acc_test)\n",
    "    plt.plot(acc_train)\n",
    "    plt.xlabel(\"epochs\")\n",
    "    plt.ylabel(\"accuracy(%)\")\n",
    "    title = \"Training and Test accuracy, learning rate = \" + str(rate)\n",
    "    plt.title(title)\n",
    "    plt.legend((\"test\", \"train\"),loc='lower right')\n",
    "    plt.show()"
   ]
  },
  {
   "cell_type": "markdown",
   "metadata": {},
   "source": [
    "## Discussion\n",
    "\n",
    "#### LR = 0.01:\n",
    "Very few mistakes for '0', '1' (~20/1000 errors), which is expected as those digits are some of the simplest shapes. I did expect some confusion between '1's and '7s, but that does not appear to be the case.\n",
    "'2' was mistaken a moderate amount (~175/1000 errors), split between 1, 3, and 8s.\n",
    "'3' was very accurate (~20/1000 errors), which is unexpected considering 2 had so much trouble, and they are both curvy numbers. It's possible 2 is more complex because it combines both a curve and a straight line at the bottom.\n",
    "'4' was moderately accurate, with the vast majority of erroneous predictions being '9', making perfect sense as those two digits look similar, and are probably the most mistaken digits for humans as well.\n",
    "'5' was moderately accurate, with mistakes concentrated mostly at '3', and a few at 6,8, and 9 as well.\n",
    "'6' was very accurate.\n",
    "'7' was very accurate, with the exception of ~50 errors attributed to 9.\n",
    "'8' was the least accurate of all the digits (~300/1000 errors), with half the errors attributed to 3. 1 and 9 were also attributed.\n",
    "'9' was decently accurate (~50/1000 errors), considering the trouble other numbers had in being mistaken for 9.\n",
    "\n",
    "#### LR = 0.1:\n",
    "The same trends in mistakes continue, though with noticeably higher errors present in the confusion matrix. For example, '8' was mistaken for '3' 109 times in the 0.01 rate, but that number jumped to ~190 in the 0.1 rate.\n",
    "\n",
    "#### LR = 1:\n",
    "'6' is most often classified incorrectly, and is often mistaken as '4'.\n",
    "\n",
    "#### Overall:\n",
    "\n",
    "There was no overfitting, as training and test rates are very close, with training data slighty higher (~1%), as expected given the network has seen them before. There is no noticeable difference in accuraccy between the training rates, as all 3 graphs show a jump to ~85% after a single epoch, and minor fluctuations afterwards. The smallest training rate, 0.01, gave the best result at 87% test accuraccy, while the 0.1 and 1.0 rates were very close at ~85%.\n",
    "\n",
    "Finally, it is interesting to note the mistakes don't appear to go both ways. 4s are mistaken for 9s a good deal, but 9s are not mistaken for 4s.\n"
   ]
  },
  {
   "cell_type": "markdown",
   "metadata": {},
   "source": [
    "### Appendix of Resources\n",
    "1. Matrix multiplication\n",
    "https://stackoverflow.com/questions/21562986/numpy-matrix-vector-multiplication\n",
    "\n",
    "```python\n",
    "a = np.random.rand(1,3)\n",
    "b = np.random.rand(3,5)\n",
    "print(a@b)\n",
    "\n",
    "print(np.zeros([3,3]))\n",
    "\n",
    "np.add([1, 2, 3], [5, 5, 0])\n",
    "```\n",
    "\n",
    "2. Argmax arrays\n",
    "https://stackoverflow.com/questions/5469286/how-to-get-the-index-of-a-maximum-element-in-a-numpy-array-along-one-axis\n",
    "```python\n",
    "mm.argmax(axis=1)\n",
    "```\n",
    "\n",
    "3. Plotting 2d arrays\n",
    "https://stackoverflow.com/questions/16492830/colorplot-of-2d-array-matplotlib\n",
    "\n",
    "4. Count # Equal Array Elements\n",
    "https://stackoverflow.com/questions/25490641/check-how-many-elements-are-equal-in-two-numpy-arrays-python\n",
    "```python\n",
    "np.sum(a == b)\n",
    "```\n",
    "\n",
    "5. Multiplying 1-D arrays / transposing\n",
    "https://stackoverflow.com/questions/23566515/multiplication-of-1d-arrays-in-numpy\n",
    "```python\n",
    "b[:, None]\n",
    "```\n",
    "\n",
    "6. Positive/Negative values -> 1, 0\n",
    "https://stackoverflow.com/questions/10335090/numpy-replace-negative-values-in-array\n",
    "\n",
    "```python\n",
    "f = np.array([-2, -1, 0, 0, 3, 5, -4])\n",
    "f[f < 0] = 0\n",
    "f[f > 0] = 1\n",
    "```\n",
    "\n",
    "7. Python numpy references vs call by reference?\n",
    "https://stackoverflow.com/questions/11585793/are-numpy-arrays-passed-by-reference/11585888\n",
    "`weights = np.add(weights, deltaw) #DOES NOT WORK`\n",
    "\n",
    "`weights += blah` works"
   ]
  },
  {
   "cell_type": "code",
   "execution_count": 133,
   "metadata": {
    "scrolled": true
   },
   "outputs": [
    {
     "name": "stdout",
     "output_type": "stream",
     "text": [
      "[[ 2  4  6]\n",
      " [28 32 36]]\n",
      "[[  6   5   4]\n",
      " [ -7  -9 -11]]\n",
      "[ 1.  1.  1. -0. -0. -0.]\n",
      "[[0 0 1]\n",
      " [0 0 2]\n",
      " [0 0 3]\n",
      " [0 0 4]\n",
      " [0 0 5]]\n",
      "[0 0 0 0 1 1 0]\n",
      "[0. 0. 0. 0. 1.]\n",
      "[[10 10 10]\n",
      " [20 20 20]\n",
      " [30 30 30]\n",
      " [40 40 40]\n",
      " [50 50 50]]\n"
     ]
    }
   ],
   "source": [
    "a = np.array([[1, 2, 3], [4, 5, 6]])\n",
    "b = [10, 11, 12]\n",
    "a[1,:] = np.add(a[1,:], b)\n",
    "print(2*a)\n",
    "print(7-a)\n",
    "c = np.array([0.1, 0.2, 0.3, -0.4, -0.5, -0.6])\n",
    "print(np.ceil(c))\n",
    "d = np.array([[1, 2, 3, 4, 5]])\n",
    "e = np.array([[0, 0, 1]])\n",
    "print(np.transpose(d)@e)\n",
    "f = np.array([-2, -1, 0, 0, 3, 5, -4])\n",
    "f[f < 0] = 0\n",
    "f[f > 0] = 1\n",
    "print(f)\n",
    "g = np.zeros(5)\n",
    "g[4] = 1\n",
    "print(g)\n",
    "a1 = [1, 2, 3, 4, 5]\n",
    "b1 = [10, 10, 10]\n",
    "print(np.outer(a1,b1))"
   ]
  },
  {
   "cell_type": "code",
   "execution_count": 202,
   "metadata": {},
   "outputs": [
    {
     "name": "stdout",
     "output_type": "stream",
     "text": [
      "[[1.]\n",
      " [1.]]\n",
      "[[1. 1. 2. 3.]\n",
      " [1. 1. 2. 3.]]\n"
     ]
    }
   ],
   "source": [
    "c1 = np.array([[1, 2, 3],[1,2,3]])\n",
    "d1 = np.ones([2,1])\n",
    "print(d1)\n",
    "e1 = np.append(d1, c1, 1)\n",
    "print(e1)"
   ]
  },
  {
   "cell_type": "code",
   "execution_count": null,
   "metadata": {},
   "outputs": [],
   "source": []
  }
 ],
 "metadata": {
  "kernelspec": {
   "display_name": "Python 3",
   "language": "python",
   "name": "python3"
  },
  "language_info": {
   "codemirror_mode": {
    "name": "ipython",
    "version": 3
   },
   "file_extension": ".py",
   "mimetype": "text/x-python",
   "name": "python",
   "nbconvert_exporter": "python",
   "pygments_lexer": "ipython3",
   "version": "3.5.2"
  }
 },
 "nbformat": 4,
 "nbformat_minor": 2
}
