{
 "cells": [
  {
   "cell_type": "markdown",
   "metadata": {},
   "source": [
    "# Homework 1: Perceptrons\n",
    "### Due Thursday, January 17, 2019, 5pm\n",
    "#### Jesse Zhu\n",
    "#### ML-W2019\n",
    "\n",
    "Using the MNIST hand-written digits dataset, we aim to use perceptrons to categorize the labeled data through supervised learning. As this is a single-layer, the result is not expected to be perfect, but should be noticeably better than random. Each data point will be 785 values between 0 and 1, representing the grayscale value of each pixel in the original image. These values will be used to update our weight values over the course of 50 epochs, resulting in our 10 perceptrons (digits 0 to 9) being trained at the end. Finally, we will run test data through these trained perceptrons and take the maximum value of the 10 perceptrons as the predicted result."
   ]
  },
  {
   "cell_type": "code",
   "execution_count": 70,
   "metadata": {},
   "outputs": [],
   "source": [
    "#import pandas as pd\n",
    "import numpy as np\n",
    "from matplotlib import pyplot as plt"
   ]
  },
  {
   "cell_type": "code",
   "execution_count": 30,
   "metadata": {},
   "outputs": [],
   "source": [
    "#IMPORT DATA#################\n",
    "testfile = \"mnist_test.csv\"\n",
    "trainfile = \"mnist_train.csv\"\n",
    "\n",
    "# test_data = pd.read_csv(testfile)\n",
    "# train_data = pd.read_csv(trainfile)\n",
    "\n",
    "#Data is 785 columns by N rows. First column = Label (0-9), others = 0:255\n",
    "test_data = np.genfromtxt(testfile, skip_header=True, delimiter=',')\n",
    "train_data = np.genfromtxt(trainfile, skip_header=True, delimiter=',')\n",
    "\n",
    "#PREPROCESSING###############\n",
    "\n",
    "#SCALE by 255\n",
    "test_data[:,1:] /= 255\n",
    "train_data[:,1:] /= 255\n",
    "#print((test_data[0,:]))"
   ]
  },
  {
   "cell_type": "code",
   "execution_count": 209,
   "metadata": {},
   "outputs": [],
   "source": [
    "#Accuraccy function\n",
    "def acc(weights, data, debug = 0):\n",
    "    \"\"\"\n",
    "    input: \n",
    "        weights: matrix of 785 weights by 10 classes, where the first weight is the bias\n",
    "        data: matrix of N data points by 785 values, where the first value is the target (0-9), and the rest are\n",
    "            scaled gray-scale values between 0 and 1\n",
    "    output: Percentage of correct classifications, where a classification is taken using the highest perceptron\n",
    "        output value\n",
    "    \"\"\"\n",
    "    length = len(data[:,0])\n",
    "    xi = np.append(np.ones([length,1]), data[:, 1:],1)\n",
    "    out = xi @ weights[:, :]\n",
    "    amax = out.argmax(axis=1)\n",
    "    if debug:\n",
    "        print(out.shape)\n",
    "        print(amax[0:25])\n",
    "    ret = np.sum(amax == data[:,0])\n",
    "    return ret/length\n",
    "\n",
    "#Confusion matrix\n",
    "def cm(weights, data):\n",
    "    length = len(data[:,0])\n",
    "    xi = np.append(np.ones([length,1]), data[:, 1:],1)\n",
    "    m = np.zeros([10,10])\n",
    "    for i in range(0, length):\n",
    "        actual = int(data[i, 0])\n",
    "        predic = int((xi[i,:] @ weights).argmax(axis=0))\n",
    "        m[actual, predic] += 1\n",
    "        \n",
    "    return m.astype(int)\n",
    "\n",
    "#Drawing function\n",
    "def draw_digit(data):\n",
    "    \"\"\"\n",
    "    input:\n",
    "        1x785 matrix of grayscaled pixel values\n",
    "    output: image of (1:785 pixels, skipping first label)\n",
    "    \"\"\"\n",
    "    img = np.reshape(data[1:], (28, 28))\n",
    "    print(img)\n",
    "    plt.imshow(img)\n",
    "    plt.show\n",
    "    \n",
    "#Training function\n",
    "def train(weights, data, lr, debug = 0):\n",
    "    \"\"\"\n",
    "    input: \n",
    "        weights: matrix of 785 weights by 10 classes, where the first weight is the bias\n",
    "        data: matrix of N data points by 785 values, where the first value is the target (0-9), and the rest are\n",
    "            scaled gray-scale values between 0 and 1\n",
    "        lr: learning rate (~ 0 to 1)\n",
    "    output:\n",
    "        Altered input weights matrix\n",
    "    \"\"\"\n",
    "    length = len(data[:,0])\n",
    "\n",
    "    for i in range(0,length):\n",
    "        xi = np.append([1], data[i, 1:]) #add \"1\" to input beginning for offset -> 1x785\n",
    "        out = np.add((data[i, 1:] @ weights[1:, :]), weights[0, :]) #1 by 10 matrix\n",
    "\n",
    "        target = np.zeros(10)\n",
    "        tindex = int(data[i,0])\n",
    "        target[tindex] = 1 #1x10 of 0s, with target index = 1\n",
    "      \n",
    "        out[out < 0] = 0\n",
    "        out[out > 0] = 1\n",
    "        if i == 0 and debug:\n",
    "            print(target-out)\n",
    "\n",
    "        deltaw = lr * np.outer(xi,(target - out)) #785x1 * 1x10 = 785x10\n",
    "        if i == 0 and debug:\n",
    "            print(deltaw[0:10,0:5])\n",
    "            print(xi[0:10])\n",
    "            print(deltaw.sum())\n",
    "            print(weights.sum())\n",
    "\n",
    "        weights += deltaw\n",
    "        if i == 0 and debug:\n",
    "            print(weights.sum())\n",
    "    \n",
    "    return"
   ]
  },
  {
   "cell_type": "code",
   "execution_count": 187,
   "metadata": {},
   "outputs": [],
   "source": [
    "init_weights = (np.random.rand(785,10) * 0.10) - 0.05\n",
    "learning_rates = [0.001, 0.01, 0.1, 1.0]"
   ]
  },
  {
   "cell_type": "code",
   "execution_count": 212,
   "metadata": {
    "scrolled": false
   },
   "outputs": [
    {
     "name": "stdout",
     "output_type": "stream",
     "text": [
      "***RATE =  0.001 ***************\n",
      "[[ 942    0   12    2    2   10    8    1    3    0]\n",
      " [   0 1074    6    2    1   22    0    1   26    3]\n",
      " [   7    2  968    2    9   11   10    9    6    8]\n",
      " [   1    1   40  777    0  156    3    8    8   16]\n",
      " [   0    3   18    1  839    2    8    1    4  106]\n",
      " [  13    2   20    5   10  809    7    2   12   12]\n",
      " [   8    2   13    0    6   39  882    1    6    1]\n",
      " [   5    9   31    6    8   15    2  906    3   42]\n",
      " [  12    6   43   25   15   98    7    6  744   18]\n",
      " [   7    2   21   11   19   17    0   15    9  908]]\n"
     ]
    },
    {
     "data": {
      "image/png": "[encoded data removed]",
      "text/plain": [
       "<Figure size 432x288 with 1 Axes>"
      ]
     },
     "metadata": {
      "needs_background": "light"
     },
     "output_type": "display_data"
    },
    {
     "name": "stdout",
     "output_type": "stream",
     "text": [
      "***RATE =  0.01 ***************\n",
      "[[ 936    0   39    0    0    1    3    1    0    0]\n",
      " [   0 1102    6    0    0   19    0    0    8    0]\n",
      " [  10    2  990    0    2    1   13    7    2    5]\n",
      " [   7    6  118  726    0  122    2   11    5   13]\n",
      " [   3    5   39    0  747    1   19    4    6  158]\n",
      " [  23    2   62    3    4  750    6    5   14   23]\n",
      " [  15    3   41    0    2   21  872    1    3    0]\n",
      " [   6   15   67    1    2    3    2  911    0   20]\n",
      " [  29   20  170    3    7   32    4   13  686   10]\n",
      " [   9   10   75   10    8   10    1   24    4  858]]\n"
     ]
    },
    {
     "data": {
      "image/png": "[encoded data removed]",
      "text/plain": [
       "<Figure size 432x288 with 1 Axes>"
      ]
     },
     "metadata": {
      "needs_background": "light"
     },
     "output_type": "display_data"
    },
    {
     "name": "stdout",
     "output_type": "stream",
     "text": [
      "***RATE =  0.1 ***************\n",
      "[[ 961    0    9    0    1    3    5    1    0    0]\n",
      " [   0 1080    4    0    1   47    0    0    3    0]\n",
      " [  12    8  952    0    7    6   20   10    7   10]\n",
      " [   6   20   64  642    1  237    1   12    6   21]\n",
      " [   0    3   16    0  838    2   18    3    1  101]\n",
      " [   9    3   26    1   10  815    7    4    8    9]\n",
      " [   9    3   11    0    2   39  891    3    0    0]\n",
      " [   5   25   20    1    6   11    2  928    1   28]\n",
      " [  20   43   96    3   18  129    6   17  612   30]\n",
      " [  13    7   36    7   17   20    5   33    0  871]]\n"
     ]
    },
    {
     "data": {
      "image/png": "[encoded data removed]",
      "text/plain": [
       "<Figure size 432x288 with 1 Axes>"
      ]
     },
     "metadata": {
      "needs_background": "light"
     },
     "output_type": "display_data"
    },
    {
     "name": "stdout",
     "output_type": "stream",
     "text": [
      "***RATE =  1.0 ***************\n",
      "[[ 953    0   15    1    1    5    2    1    2    0]\n",
      " [   0 1035    2    0    1   81    0    0   16    0]\n",
      " [   9    2  942    0    6   16   12   10   26    9]\n",
      " [   4    4   35  610    2  291    0    9   28   27]\n",
      " [   2    3   14    1  810    3   13    0    8  128]\n",
      " [   9    2   26    1    5  810    4    4   17   14]\n",
      " [  12    3   16    0    8   71  839    3    6    0]\n",
      " [   8   16   23    1    4   11    1  923    4   36]\n",
      " [  11    5   13    3   10   81    5    6  832    8]\n",
      " [  12    3   25   10   11   19    1   14    8  906]]\n"
     ]
    },
    {
     "data": {
      "image/png": "[encoded data removed]",
      "text/plain": [
       "<Figure size 432x288 with 1 Axes>"
      ]
     },
     "metadata": {
      "needs_background": "light"
     },
     "output_type": "display_data"
    }
   ],
   "source": [
    "#draw_digit(test_data[0, :])\n",
    "for rate in learning_rates:\n",
    "    print(\"***RATE = \",rate,\"***************\")\n",
    "    w = np.copy(init_weights)\n",
    "    acc_test = []\n",
    "    acc_train = []\n",
    "\n",
    "    acc_test.append(acc(w, test_data))\n",
    "    acc_train.append(acc(w, train_data))\n",
    "\n",
    "    for i in range(0,4):\n",
    "        train(w, test_data, rate)\n",
    "        acc_test.append(acc(w, test_data))\n",
    "        acc_train.append(acc(w, train_data))\n",
    "\n",
    "    print(cm(w, test_data))\n",
    "\n",
    "    plt.plot(acc_test)\n",
    "    plt.plot(acc_train)\n",
    "    plt.xlabel(\"epochs\")\n",
    "    plt.ylabel(\"accuracy(%)\")\n",
    "    title = \"Training and Test accuracy, learning rate = \" + str(rate)\n",
    "    plt.title(\"Training and Test accuracy\")\n",
    "    plt.legend((\"test\", \"train\"),loc='upper right')\n",
    "    plt.show()"
   ]
  },
  {
   "cell_type": "markdown",
   "metadata": {},
   "source": [
    "### Appendix of Resources\n",
    "1. Matrix multiplication\n",
    "https://stackoverflow.com/questions/21562986/numpy-matrix-vector-multiplication\n",
    "\n",
    "```python\n",
    "a = np.random.rand(1,3)\n",
    "b = np.random.rand(3,5)\n",
    "print(a@b)\n",
    "\n",
    "print(np.zeros([3,3]))\n",
    "\n",
    "np.add([1, 2, 3], [5, 5, 0])\n",
    "```\n",
    "\n",
    "2. Argmax arrays\n",
    "https://stackoverflow.com/questions/5469286/how-to-get-the-index-of-a-maximum-element-in-a-numpy-array-along-one-axis\n",
    "```python\n",
    "mm.argmax(axis=1)\n",
    "```\n",
    "\n",
    "3. Plotting 2d arrays\n",
    "https://stackoverflow.com/questions/16492830/colorplot-of-2d-array-matplotlib\n",
    "\n",
    "4. Count # Equal Array Elements\n",
    "https://stackoverflow.com/questions/25490641/check-how-many-elements-are-equal-in-two-numpy-arrays-python\n",
    "```python\n",
    "np.sum(a == b)\n",
    "```\n",
    "\n",
    "5. Multiplying 1-D arrays / transposing\n",
    "https://stackoverflow.com/questions/23566515/multiplication-of-1d-arrays-in-numpy\n",
    "```python\n",
    "b[:, None]\n",
    "```\n",
    "\n",
    "6. Positive/Negative values -> 1, 0\n",
    "https://stackoverflow.com/questions/10335090/numpy-replace-negative-values-in-array\n",
    "\n",
    "```python\n",
    "f = np.array([-2, -1, 0, 0, 3, 5, -4])\n",
    "f[f < 0] = 0\n",
    "f[f > 0] = 1\n",
    "```\n",
    "\n",
    "7. Python numpy references vs call by reference?\n",
    "https://stackoverflow.com/questions/11585793/are-numpy-arrays-passed-by-reference/11585888\n",
    "`weights = np.add(weights, deltaw) #DOES NOT WORK`\n",
    "\n",
    "`weights += blah` works"
   ]
  },
  {
   "cell_type": "code",
   "execution_count": 133,
   "metadata": {
    "scrolled": true
   },
   "outputs": [
    {
     "name": "stdout",
     "output_type": "stream",
     "text": [
      "[[ 2  4  6]\n",
      " [28 32 36]]\n",
      "[[  6   5   4]\n",
      " [ -7  -9 -11]]\n",
      "[ 1.  1.  1. -0. -0. -0.]\n",
      "[[0 0 1]\n",
      " [0 0 2]\n",
      " [0 0 3]\n",
      " [0 0 4]\n",
      " [0 0 5]]\n",
      "[0 0 0 0 1 1 0]\n",
      "[0. 0. 0. 0. 1.]\n",
      "[[10 10 10]\n",
      " [20 20 20]\n",
      " [30 30 30]\n",
      " [40 40 40]\n",
      " [50 50 50]]\n"
     ]
    }
   ],
   "source": [
    "a = np.array([[1, 2, 3], [4, 5, 6]])\n",
    "b = [10, 11, 12]\n",
    "a[1,:] = np.add(a[1,:], b)\n",
    "print(2*a)\n",
    "print(7-a)\n",
    "c = np.array([0.1, 0.2, 0.3, -0.4, -0.5, -0.6])\n",
    "print(np.ceil(c))\n",
    "d = np.array([[1, 2, 3, 4, 5]])\n",
    "e = np.array([[0, 0, 1]])\n",
    "print(np.transpose(d)@e)\n",
    "f = np.array([-2, -1, 0, 0, 3, 5, -4])\n",
    "f[f < 0] = 0\n",
    "f[f > 0] = 1\n",
    "print(f)\n",
    "g = np.zeros(5)\n",
    "g[4] = 1\n",
    "print(g)\n",
    "a1 = [1, 2, 3, 4, 5]\n",
    "b1 = [10, 10, 10]\n",
    "print(np.outer(a1,b1))"
   ]
  },
  {
   "cell_type": "code",
   "execution_count": 202,
   "metadata": {},
   "outputs": [
    {
     "name": "stdout",
     "output_type": "stream",
     "text": [
      "[[1.]\n",
      " [1.]]\n",
      "[[1. 1. 2. 3.]\n",
      " [1. 1. 2. 3.]]\n"
     ]
    }
   ],
   "source": [
    "c1 = np.array([[1, 2, 3],[1,2,3]])\n",
    "d1 = np.ones([2,1])\n",
    "print(d1)\n",
    "e1 = np.append(d1, c1, 1)\n",
    "print(e1)"
   ]
  },
  {
   "cell_type": "code",
   "execution_count": null,
   "metadata": {},
   "outputs": [],
   "source": []
  }
 ],
 "metadata": {
  "kernelspec": {
   "display_name": "Python 3",
   "language": "python",
   "name": "python3"
  },
  "language_info": {
   "codemirror_mode": {
    "name": "ipython",
    "version": 3
   },
   "file_extension": ".py",
   "mimetype": "text/x-python",
   "name": "python",
   "nbconvert_exporter": "python",
   "pygments_lexer": "ipython3",
   "version": "3.5.2"
  }
 },
 "nbformat": 4,
 "nbformat_minor": 2
}
