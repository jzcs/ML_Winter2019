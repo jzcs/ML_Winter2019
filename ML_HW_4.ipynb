{
 "cells": [
  {
   "cell_type": "markdown",
   "metadata": {},
   "source": [
    "# Homework 4: Naive Bayes Classification and Logistic Regression\n",
    "Due Tuesday Feb 21 5 PM\n",
    "\n",
    "In this assignment, we use the UCI spam email database (https://archive.ics.uci.edu/ml/datasets/Spambase) and analyse it using Gaussian Naive Bayes and Logistic Regression.\n",
    "\n",
    "## Part 1: Classification with Naive Bayes"
   ]
  },
  {
   "cell_type": "code",
   "execution_count": 30,
   "metadata": {},
   "outputs": [],
   "source": [
    "import pandas as pd\n",
    "import numpy as np  \n",
    "import matplotlib.pyplot as plt\n",
    "from sklearn.model_selection import train_test_split\n",
    "from sklearn import preprocessing"
   ]
  },
  {
   "cell_type": "code",
   "execution_count": 5,
   "metadata": {},
   "outputs": [
    {
     "name": "stdout",
     "output_type": "stream",
     "text": [
      "(4601, 58)\n",
      "(4601, 57)\n",
      "(4601,)\n"
     ]
    }
   ],
   "source": [
    "# Load Data\n",
    "spamdata = pd.read_csv(\"spambase.data\", header = None)\n",
    "\n",
    "spamdata.head()\n",
    "spam = spamdata.values #to numpy matrix\n",
    "print(spam.shape)\n",
    "#print(spam[0,:])\n",
    "data = spam[:,:-1] \n",
    "label = spam[:,-1]\n",
    "\n",
    "#Split data into training and test set\n",
    "X_train, X_test, y_train, y_test = train_test_split(data, label, test_size = 0.50, stratify = label)"
   ]
  },
  {
   "cell_type": "code",
   "execution_count": 28,
   "metadata": {},
   "outputs": [
    {
     "name": "stdout",
     "output_type": "stream",
     "text": [
      "total set: \t prior_spam = 0.39 \t prior_not = 0.61\n",
      "training set: \t prior_spam = 0.39 \t prior_not = 0.61\n",
      "test set: \t prior_spam = 0.39 \t prior_not = 0.61\n"
     ]
    }
   ],
   "source": [
    "# Probabilistic Model\n",
    "\n",
    "#Prior Probability for each class\n",
    "prior_spam = sum(label) / len(label)\n",
    "prior_not = 1 - prior_spam\n",
    "print(\"total set: \\t prior_spam = {0:0.2f} \\t prior_not = {1:0.2f}\".format(prior_spam, prior_not))\n",
    "\n",
    "#Verifying training / test sets\n",
    "prior_train_spam = sum(y_train) / len(y_train)\n",
    "prior_train_not = 1 - prior_train_spam\n",
    "print(\"training set: \\t prior_spam = {0:0.2f} \\t prior_not = {1:0.2f}\".format(prior_train_spam, prior_train_not))\n",
    "\n",
    "prior_test_spam = sum(y_test) / len(y_test)\n",
    "prior_test_not = 1 - prior_test_spam\n",
    "print(\"test set: \\t prior_spam = {0:0.2f} \\t prior_not = {1:0.2f}\".format(prior_test_spam, prior_test_not))"
   ]
  },
  {
   "cell_type": "code",
   "execution_count": 36,
   "metadata": {},
   "outputs": [
    {
     "name": "stdout",
     "output_type": "stream",
     "text": [
      "(2300, 57)\n",
      "0.10812608695652173\n"
     ]
    }
   ],
   "source": [
    "#Mean and standard Deviation of training set\n",
    "epsilon = 0.0001 #Add to standard deviation if 0\n",
    "\n",
    "print(X_train.shape)\n",
    "print(np.mean(X_train[:,0]))\n",
    "X_train_means = X_train.mean(axis=0)\n",
    "X_train_stds = X_train.std(axis=0)\n",
    "\n",
    "print(np.count_nonzero(X_train_std))"
   ]
  },
  {
   "cell_type": "code",
   "execution_count": null,
   "metadata": {},
   "outputs": [],
   "source": []
  }
 ],
 "metadata": {
  "kernelspec": {
   "display_name": "Python 3",
   "language": "python",
   "name": "python3"
  },
  "language_info": {
   "codemirror_mode": {
    "name": "ipython",
    "version": 3
   },
   "file_extension": ".py",
   "mimetype": "text/x-python",
   "name": "python",
   "nbconvert_exporter": "python",
   "pygments_lexer": "ipython3",
   "version": "3.5.2"
  }
 },
 "nbformat": 4,
 "nbformat_minor": 2
}
