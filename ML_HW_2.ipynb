{
 "cells": [
  {
   "cell_type": "markdown",
   "metadata": {},
   "source": [
    "# Homework 2: Two-layer neural network\n",
    "### Due Tuesday, January 29, 2019, 5pm\n",
    "#### Jesse Zhu\n",
    "#### ML-W2019\n",
    "\n",
    "Using the MNIST hand-written digits dataset, we aim to categorize the digits 0-9 with a two-layer neural network,\n",
    "composed of one hidden layer and one output layer. Both layers will use the sigmoid activation function, and the\n",
    "network is fully connected.\n",
    "\n",
    "Sigmoid function: 1/ (1+ e^-z)"
   ]
  },
  {
   "cell_type": "code",
   "execution_count": 1,
   "metadata": {},
   "outputs": [],
   "source": [
    "#import pandas as pd\n",
    "import numpy as np\n",
    "from matplotlib import pyplot as plt"
   ]
  },
  {
   "cell_type": "code",
   "execution_count": 2,
   "metadata": {},
   "outputs": [],
   "source": [
    "#IMPORT DATA#################\n",
    "testfile = \"mnist_test.csv\"\n",
    "trainfile = \"mnist_train.csv\"\n",
    "\n",
    "#Data is 785 columns by N rows. First column = Label (0-9), others = 0:255\n",
    "test_data = np.genfromtxt(testfile, skip_header=True, delimiter=',')\n",
    "train_data = np.genfromtxt(trainfile, skip_header=True, delimiter=',')\n",
    "\n",
    "#PREPROCESSING###############\n",
    "\n",
    "#SCALE to 0:1\n",
    "test_data[:,1:] /= 255\n",
    "train_data[:,1:] /= 255"
   ]
  },
  {
   "cell_type": "code",
   "execution_count": 71,
   "metadata": {},
   "outputs": [],
   "source": [
    "def sigmoid(z):\n",
    "    return 1/(1+np.exp(-z))\n",
    "\n",
    "#Accuraccy function\n",
    "def acc(w1, w2, data, debug = 0):\n",
    "    \"\"\"\n",
    "    input: \n",
    "        w1: input to hidden weights [785 by hu]\n",
    "        w2: hidden to output weights [(hu+1) by 10]\n",
    "        data: matrix of N data points by 785 values, where the first value is the target (0-9), and the rest are\n",
    "            scaled gray-scale values between 0 and 1\n",
    "    output: Percentage of correct classifications, where a classification is taken using the highest perceptron\n",
    "        output value\n",
    "    \"\"\"\n",
    "    length = len(data[:,0])\n",
    "    xi = np.append(np.ones([length,1]), data[:, 1:],1) #Append 1s for bias & strip label from data[]\n",
    "    h_act = np.array(list(map(sigmoid, xi @ w1[:, :]))) #N by (hidden_units)\n",
    "    hi = np.append(np.ones([length,1]), h_act[:,:],1) #N by (hidden_units+1)\n",
    "\n",
    "    o_act = np.array(list(map(sigmoid, hi @ w2[:, :]))) #N by 10\n",
    "\n",
    "    amax = o_act.argmax(axis=1) #Predicted value\n",
    "    if debug:\n",
    "        print(o_act.shape)\n",
    "        print(amax[0:25])\n",
    "    ret = np.sum(amax == data[:,0])\n",
    "    return ret/length\n",
    "\n",
    "#Confusion matrix\n",
    "def cm(w1,w2, data):\n",
    "    \"\"\"\n",
    "    input: \n",
    "        w1: input to hidden weights [785 by hu]\n",
    "        w2: hidden to output weights [(hu+1) by 10]\n",
    "        data: matrix of N data points by 785 values, where the first value is the target (0-9), and the rest are\n",
    "            scaled gray-scale values between 0 and 1\n",
    "    output: confusion matrix 11x11 including labels (actual vs predicted)\n",
    "    \"\"\"\n",
    "    length = len(data[:,0])\n",
    "    xi = np.append(np.ones([length,1]), data[:, 1:],1) #Append 1s for bias & strip label from data[]\n",
    "    h_act = np.array(list(map(sigmoid, xi @ w1[:, :]))) #N by (hidden_units)\n",
    "    hi = np.append(np.ones([length,1]), h_act[:,:],1) #N by (hidden_units+1)\n",
    "#sigmoid\n",
    "    o_act = np.array(list(map(sigmoid, hi @ w2[:, :]))) #N by 10\n",
    "    #o_act= hi @ w2[:, :]\n",
    "    #print(o_act[0:3,:])\n",
    "    \n",
    "    m = np.zeros([11,11])\n",
    "    m[0,1:] = np.arange(10)\n",
    "    m[1:,0] = np.arange(10)\n",
    "    \n",
    "    for i in range(0, length):\n",
    "        actual = int(data[i, 0])\n",
    "        predic = int((o_act[i,:]).argmax(axis=0))\n",
    "        m[actual+1, predic+1] += 1\n",
    "        \n",
    "    return m.astype(int)\n",
    "\n",
    "#Training through back-propagation\n",
    "def train(w1, w2, data, lr, m, debug = 0):\n",
    "    \"\"\"\n",
    "    input: \n",
    "        w1: input to hidden weights [785 by hu]\n",
    "        w2: hidden to output weights [(hu+1) by 10]\n",
    "        data: matrix of N data points by 785 values, where the first value is the target (0-9), and the rest are\n",
    "            scaled gray-scale values between 0 and 1\n",
    "        lr: learning rate, (0:1)\n",
    "        m: momentum, (0:1)\n",
    "    output: Altered input weight matricies\n",
    "    \"\"\"\n",
    "    length = len(data[:,0])\n",
    "    oh_deltas_prev = np.zeros(w2.shape) #initialize previous weights to 0 (momentum calculations)\n",
    "    hi_deltas_prev = np.zeros(w1.shape)\n",
    "\n",
    "    for i in range(0,length):\n",
    "        xi = np.append([1], data[i, 1:]) #add \"1\" to input beginning for offset -> 1x785\n",
    "        hidden = np.array(list(map(sigmoid, xi @ w1[:, :]))) #1 by (hidden_units)\n",
    "        hi = np.append([1], hidden) #1 by (hidden_units+1)\n",
    "        out = np.array(list(map(sigmoid, hi @ w2[:, :]))) #1 by 10\n",
    "        \n",
    "        target = np.full((10),0.1)\n",
    "        tindex = int(data[i,0])\n",
    "        target[tindex] = 0.9 #1x10 of 0s, with target = 0.9, else 0.1\n",
    "        #Error\n",
    "        err_o = out * (1-out) *(target-out) #1 by 10 array, output error\n",
    "        err_h = hidden * (1-hidden) * (w2[1:,:]@err_o) #hu by 1 array, hidden error\n",
    "        \n",
    "        #Backpropagation Deltas\n",
    "        oh_deltas = lr * np.outer(hi, err_o) +m*oh_deltas_prev #(hu+1) by 10\n",
    "        hi_deltas = lr * np.outer(xi, err_h) +m*hi_deltas_prev #785 by hu\n",
    "        oh_deltas_prev = oh_deltas\n",
    "        hi_deltas_prev = hi_deltas\n",
    "        #Update weights\n",
    "        w2 += oh_deltas\n",
    "        w1 += hi_deltas\n",
    "    return"
   ]
  },
  {
   "cell_type": "code",
   "execution_count": 73,
   "metadata": {},
   "outputs": [
    {
     "name": "stdout",
     "output_type": "stream",
     "text": [
      "***# Hidden =  10 ***************\n",
      "0 \n",
      "[[   0    0    1    2    3    4    5    6    7    8    9]\n",
      " [   0  926    0    1    8    3   13   13    4    2   10]\n",
      " [   1    0 1101    2    7    0    1    4    2   15    3]\n",
      " [   2   22    5  898   33   11    0   20   10   22   11]\n",
      " [   3    5    0   27  901    3    8    6    6    8   46]\n",
      " [   4    3    1    1    1  796    0   10    0   11  159]\n",
      " [   5   11    2    7  120   21  604   23    3   48   53]\n",
      " [   6   32    3    3    0   11    7  866    0    9   27]\n",
      " [   7    1    9   37   13    8    0    1  836    4  118]\n",
      " [   8    5    5    9   87   14    6    9    4  764   71]\n",
      " [   9    4    3    0   22   28    0    2    2    4  944]]\n",
      "final test acc =  0.8636863686368637\n",
      "final train acc =  0.8642644044067401\n"
     ]
    },
    {
     "data": {
      "image/png": "[encoded data removed]",
      "text/plain": [
       "<Figure size 432x288 with 1 Axes>"
      ]
     },
     "metadata": {
      "needs_background": "light"
     },
     "output_type": "display_data"
    },
    {
     "name": "stdout",
     "output_type": "stream",
     "text": [
      "***# Hidden =  20 ***************\n",
      "0 \n",
      "[[   0    0    1    2    3    4    5    6    7    8    9]\n",
      " [   0  955    0    2    2    1    3   13    2    2    0]\n",
      " [   1    0 1106    4    5    0    0    6    2   12    0]\n",
      " [   2    7    3  897   44   13    1   23   11   22   11]\n",
      " [   3    2    0   15  941    0   16    6    6   12   12]\n",
      " [   4    1    1    2    0  889    0   27    2    3   57]\n",
      " [   5    7    1    6   59    2  747   26    8   20   16]\n",
      " [   6    4    3    5    0    1    7  934    1    3    0]\n",
      " [   7    2    8   25   18    4    1    2  905    3   59]\n",
      " [   8    7    7    4   33    8    9   28    4  851   23]\n",
      " [   9    7    6    0   13   17    5    2    6   11  942]]\n",
      "final test acc =  0.9167916791679168\n",
      "final train acc =  0.9148652477541293\n"
     ]
    },
    {
     "data": {
      "image/png": "[encoded data removed]",
      "text/plain": [
       "<Figure size 432x288 with 1 Axes>"
      ]
     },
     "metadata": {
      "needs_background": "light"
     },
     "output_type": "display_data"
    },
    {
     "name": "stdout",
     "output_type": "stream",
     "text": [
      "***# Hidden =  100 ***************\n",
      "0 \n",
      "[[   0    0    1    2    3    4    5    6    7    8    9]\n",
      " [   0  962    0    0    1    1    1    5    2    8    0]\n",
      " [   1    0 1126    1    2    0    1    2    0    3    0]\n",
      " [   2    4    3  947   16    3    0    8    9   36    6]\n",
      " [   3    1    0    5  972    0    4    0    5   15    8]\n",
      " [   4    1    1    2    0  900    0    9    0    4   65]\n",
      " [   5    4    3    0   23    3  811   11    4   19   14]\n",
      " [   6    3    3    0    1    2    2  933    0   14    0]\n",
      " [   7    3   15    8    4    1    0    2  924    9   61]\n",
      " [   8    4    3    0    4    6    1    3    3  943    7]\n",
      " [   9    3    8    0    8    8    1    1    1   13  966]]\n",
      "final test acc =  0.9484948494849484\n",
      "final train acc =  0.9500658344305738\n"
     ]
    },
    {
     "data": {
      "image/png": "[encoded data removed]",
      "text/plain": [
       "<Figure size 432x288 with 1 Axes>"
      ]
     },
     "metadata": {
      "needs_background": "light"
     },
     "output_type": "display_data"
    }
   ],
   "source": [
    "epochs = 1\n",
    "learning_rate = 0.1\n",
    "momentum = 0.9\n",
    "hidden_units = [10, 20, 100]\n",
    "\n",
    "\n",
    "for hu in hidden_units:\n",
    "    print(\"***# Hidden = \",hu,\"***************\")\n",
    "    w_hi = (np.random.rand(785,hu) * 0.10) - 0.05 #weights, input to hidden\n",
    "    w_oh = (np.random.rand(hu+1,10) * 0.10) - 0.05 #weights, hidden to output\n",
    "    acc_test = []\n",
    "    acc_train = []\n",
    "\n",
    "    acc_test.append(acc(w_hi, w_oh,test_data)) #initial accuracy values\n",
    "    acc_train.append(acc(w_hi, w_oh,train_data))\n",
    "    \n",
    "    for i in range(0,epochs):\n",
    "        train(w_hi, w_oh, train_data, learning_rate, momentum)\n",
    "        acc_test.append(acc(w_hi, w_oh,test_data))\n",
    "        acc_train.append(acc(w_hi, w_oh,train_data))\n",
    "        print(i, end='', flush=True)\n",
    "    print(\" \") #newline\n",
    "    \n",
    "    print(cm(w_hi, w_oh, test_data))\n",
    "    print(\"final test acc = \", acc_test[len(acc_test)-1])\n",
    "    print(\"final train acc = \", acc_train[len(acc_train)-1])\n",
    "\n",
    "    plt.plot(acc_test)\n",
    "    plt.plot(acc_train)\n",
    "    plt.xlabel(\"epochs\")\n",
    "    plt.ylabel(\"accuracy(%)\")\n",
    "    title = \"Training and Test accuracy, hidden units = \" + str(hu)\n",
    "    plt.title(title)\n",
    "    plt.legend((\"test\", \"train\"),loc='lower right')\n",
    "    plt.show()"
   ]
  },
  {
   "cell_type": "code",
   "execution_count": 78,
   "metadata": {},
   "outputs": [
    {
     "name": "stdout",
     "output_type": "stream",
     "text": [
      "[0.52497918747894, 0.549833997312478, 0.574442516811659, 0.598687660112452, 0.6899744811276125, 0.7109495026250039]\n",
      "[0.9 0.9 0.9 0.9 0.9 0.9 0.9 0.9 0.9 0.9]\n",
      "multiply\n",
      "[ 2 10 30]\n",
      "[ 2 10 30]\n",
      "[ 5 10 15]\n",
      "[[2 3 4]\n",
      " [1 1 1]]\n",
      "[1. 1. 1.]\n",
      "[9. 3.]\n",
      "[[0. 0. 0.]\n",
      " [0. 0. 0.]]\n"
     ]
    }
   ],
   "source": [
    "test1 = np.zeros(5)\n",
    "test2 = np.append(1, test1)\n",
    "print(list(map(sigmoid,[0.1, 0.2, 0.3, 0.4, 0.8, 0.9])))\n",
    "t3 = np.full((10),0.1)\n",
    "print(1-t3)\n",
    "t1 = np.array([1,2, 3])\n",
    "t2 = np.array([2,5, 10])\n",
    "print(\"multiply\")\n",
    "print(t1*t2)\n",
    "print(np.multiply(t1,t2))\n",
    "print(np.multiply(t1,5))\n",
    "\n",
    "t4 = np.array([[2,3,4],[1,1,1]])\n",
    "t5= np.ones([3])\n",
    "print(t4)\n",
    "print(t5)\n",
    "print(t4@t5)\n",
    "print(np.zeros(t4.shape))"
   ]
  },
  {
   "cell_type": "code",
   "execution_count": null,
   "metadata": {},
   "outputs": [],
   "source": []
  }
 ],
 "metadata": {
  "kernelspec": {
   "display_name": "Python 3",
   "language": "python",
   "name": "python3"
  },
  "language_info": {
   "codemirror_mode": {
    "name": "ipython",
    "version": 3
   },
   "file_extension": ".py",
   "mimetype": "text/x-python",
   "name": "python",
   "nbconvert_exporter": "python",
   "pygments_lexer": "ipython3",
   "version": "3.5.2"
  }
 },
 "nbformat": 4,
 "nbformat_minor": 2
}
