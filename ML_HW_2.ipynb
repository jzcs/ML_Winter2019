{
 "cells": [
  {
   "cell_type": "markdown",
   "metadata": {},
   "source": [
    "# Homework 2: Two-layer neural network\n",
    "### Due Tuesday, January 29, 2019, 5pm\n",
    "#### Jesse Zhu\n",
    "#### ML-W2019\n",
    "\n",
    "Using the MNIST hand-written digits dataset, we aim to categorize the digits 0-9 with a two-layer neural network,\n",
    "composed of one hidden layer and one output layer. Both layers will use the sigmoid activation function, and the\n",
    "network is fully connected.\n",
    "\n",
    "Sigmoid function: 1/ (1+ e^-z)"
   ]
  },
  {
   "cell_type": "code",
   "execution_count": 1,
   "metadata": {},
   "outputs": [],
   "source": [
    "#import pandas as pd\n",
    "import numpy as np\n",
    "from matplotlib import pyplot as plt"
   ]
  },
  {
   "cell_type": "code",
   "execution_count": 2,
   "metadata": {},
   "outputs": [],
   "source": [
    "#IMPORT DATA#################\n",
    "testfile = \"mnist_test.csv\"\n",
    "trainfile = \"mnist_train.csv\"\n",
    "\n",
    "#Data is 785 columns by N rows. First column = Label (0-9), others = 0:255\n",
    "test_data = np.genfromtxt(testfile, skip_header=True, delimiter=',')\n",
    "train_data = np.genfromtxt(trainfile, skip_header=True, delimiter=',')\n",
    "\n",
    "#PREPROCESSING###############\n",
    "\n",
    "#SCALE to 0:1\n",
    "test_data[:,1:] /= 255\n",
    "train_data[:,1:] /= 255"
   ]
  },
  {
   "cell_type": "code",
   "execution_count": 28,
   "metadata": {},
   "outputs": [],
   "source": [
    "def sigmoid(z):\n",
    "    return 1/(1+np.exp(-z))\n",
    "\n",
    "#Accuraccy function\n",
    "def acc(w1, w2, data, debug = 0):\n",
    "    \"\"\"\n",
    "    input: \n",
    "        w1: input to hidden weights [785 by hu]\n",
    "        w2: hidden to output weights [(hu+1) by 10]\n",
    "        data: matrix of N data points by 785 values, where the first value is the target (0-9), and the rest are\n",
    "            scaled gray-scale values between 0 and 1\n",
    "    output: Percentage of correct classifications, where a classification is taken using the highest perceptron\n",
    "        output value\n",
    "    \"\"\"\n",
    "    length = len(data[:,0])\n",
    "    xi = np.append(np.ones([length,1]), data[:, 1:],1) #Append 1s for bias & strip label from data[]\n",
    "    h_act = np.array(list(map(sigmoid, xi @ w1[:, :]))) #N by (hidden_units)\n",
    "    hi = np.append(np.ones([length,1]), h_act[:,:],1) #N by (hidden_units+1)\n",
    "#sigmoid necessary for out?\n",
    "    o_act = np.array(list(map(sigmoid, hi @ w2[:, :]))) #N by 10\n",
    "\n",
    "    amax = o_act.argmax(axis=1) #Predicted value\n",
    "    if debug:\n",
    "        print(o_act.shape)\n",
    "        print(amax[0:25])\n",
    "    ret = np.sum(amax == data[:,0])\n",
    "    return ret/length\n",
    "\n",
    "#Confusion matrix\n",
    "def cm(w1,w2, data):\n",
    "    \"\"\"\n",
    "    input: \n",
    "        w1: input to hidden weights [785 by hu]\n",
    "        w2: hidden to output weights [(hu+1) by 10]\n",
    "        data: matrix of N data points by 785 values, where the first value is the target (0-9), and the rest are\n",
    "            scaled gray-scale values between 0 and 1\n",
    "    output: confusion matrix 11x11 including labels (actual vs predicted)\n",
    "    \"\"\"\n",
    "    length = len(data[:,0])\n",
    "    xi = np.append(np.ones([length,1]), data[:, 1:],1) #Append 1s for bias & strip label from data[]\n",
    "    h_act = np.array(list(map(sigmoid, xi @ w1[:, :]))) #N by (hidden_units)\n",
    "    hi = np.append(np.ones([length,1]), h_act[:,:],1) #N by (hidden_units+1)\n",
    "#sigmoid necessary for out?\n",
    "    o_act = np.array(list(map(sigmoid, hi @ w2[:, :]))) #N by 10\n",
    "    \n",
    "    m = np.zeros([11,11])\n",
    "    m[0,1:] = np.arange(10)\n",
    "    m[1:,0] = np.arange(10)\n",
    "    \n",
    "    for i in range(0, length):\n",
    "        actual = int(data[i, 0])\n",
    "        predic = int((o_act[i,:]).argmax(axis=0))\n",
    "        m[actual+1, predic+1] += 1\n",
    "        \n",
    "    return m.astype(int)"
   ]
  },
  {
   "cell_type": "code",
   "execution_count": 31,
   "metadata": {},
   "outputs": [
    {
     "name": "stdout",
     "output_type": "stream",
     "text": [
      "***# Hidden =  10 ***************\n",
      "0.11351135113511351\n",
      "[[   0    0    1    2    3    4    5    6    7    8    9]\n",
      " [   0    0  980    0    0    0    0    0    0    0    0]\n",
      " [   1    0 1135    0    0    0    0    0    0    0    0]\n",
      " [   2    0 1032    0    0    0    0    0    0    0    0]\n",
      " [   3    0 1010    0    0    0    0    0    0    0    0]\n",
      " [   4    0  982    0    0    0    0    0    0    0    0]\n",
      " [   5    0  892    0    0    0    0    0    0    0    0]\n",
      " [   6    0  958    0    0    0    0    0    0    0    0]\n",
      " [   7    0 1027    0    0    0    0    0    0    0    0]\n",
      " [   8    0  974    0    0    0    0    0    0    0    0]\n",
      " [   9    0 1009    0    0    0    0    0    0    0    0]]\n",
      "***# Hidden =  20 ***************\n",
      "0.09740974097409741\n",
      "[[   0    0    1    2    3    4    5    6    7    8    9]\n",
      " [   0    0    0    0    0    0    0    0    0  980    0]\n",
      " [   1    0    0    0    0    0    0    0    0 1135    0]\n",
      " [   2    0    0    0    0    0    0    0    0 1032    0]\n",
      " [   3    0    0    0    0    0    0    0    0 1010    0]\n",
      " [   4    0    0    0    0    0    0    0    0  982    0]\n",
      " [   5    0    0    0    0    0    0    0    0  892    0]\n",
      " [   6    0    0    0    0    0    0    0    0  958    0]\n",
      " [   7    0    0    0    0    0    0    0    0 1027    0]\n",
      " [   8    0    0    0    0    0    0    0    0  974    0]\n",
      " [   9    0    0    0    0    0    0    0    0 1009    0]]\n",
      "***# Hidden =  100 ***************\n",
      "0.09580958095809582\n",
      "[[   0    0    1    2    3    4    5    6    7    8    9]\n",
      " [   0    0    0    0    0    0    0  980    0    0    0]\n",
      " [   1    0    0    0    0    0    0 1135    0    0    0]\n",
      " [   2    0    0    0    0    0    0 1032    0    0    0]\n",
      " [   3    0    0    0    0    0    0 1010    0    0    0]\n",
      " [   4    0    0    0    0    0    0  982    0    0    0]\n",
      " [   5    0    0    0    0    0    0  892    0    0    0]\n",
      " [   6    0    0    0    0    0    0  958    0    0    0]\n",
      " [   7    0    0    0    0    0    0 1027    0    0    0]\n",
      " [   8    0    0    0    0    0    0  974    0    0    0]\n",
      " [   9    0    0    0    0    0    0 1009    0    0    0]]\n"
     ]
    }
   ],
   "source": [
    "epochs = 1\n",
    "learning_rate = 0.1\n",
    "momentum = 0.9\n",
    "hidden_units = [10, 20, 100]\n",
    "\n",
    "\n",
    "for hu in hidden_units:\n",
    "    print(\"***# Hidden = \",hu,\"***************\")\n",
    "    w_hi = (np.random.rand(785,hu) * 0.10) - 0.05 #weights, input to hidden\n",
    "    w_oh = (np.random.rand(hu+1,10) * 0.10) - 0.05 #weights, hidden to output\n",
    "    acc_test = []\n",
    "    acc_train = []\n",
    "    print(acc(w_hi, w_oh, test_data))\n",
    "    print(cm(w_hi, w_oh, test_data))"
   ]
  },
  {
   "cell_type": "code",
   "execution_count": 24,
   "metadata": {},
   "outputs": [
    {
     "name": "stdout",
     "output_type": "stream",
     "text": [
      "[0.52497918747894, 0.549833997312478, 0.574442516811659, 0.598687660112452, 0.6899744811276125, 0.7109495026250039]\n"
     ]
    }
   ],
   "source": [
    "test1 = np.zeros(5)\n",
    "test2 = np.append(1, test1)\n",
    "print(list(map(sigmoid,[0.1, 0.2, 0.3, 0.4, 0.8, 0.9])))"
   ]
  },
  {
   "cell_type": "code",
   "execution_count": null,
   "metadata": {},
   "outputs": [],
   "source": []
  }
 ],
 "metadata": {
  "kernelspec": {
   "display_name": "Python 3",
   "language": "python",
   "name": "python3"
  },
  "language_info": {
   "codemirror_mode": {
    "name": "ipython",
    "version": 3
   },
   "file_extension": ".py",
   "mimetype": "text/x-python",
   "name": "python",
   "nbconvert_exporter": "python",
   "pygments_lexer": "ipython3",
   "version": "3.5.2"
  }
 },
 "nbformat": 4,
 "nbformat_minor": 2
}
