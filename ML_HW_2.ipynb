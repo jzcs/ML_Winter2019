{
 "cells": [
  {
   "cell_type": "markdown",
   "metadata": {},
   "source": [
    "# Homework 2: Two-layer neural network\n",
    "### Due Tuesday, January 29, 2019, 5pm\n",
    "#### Jesse Zhu\n",
    "#### ML-W2019\n",
    "\n",
    "Using the MNIST hand-written digits dataset, we aim to categorize the digits 0-9 with a two-layer neural network,\n",
    "composed of one hidden layer and one output layer. Both layers will use the sigmoid activation function, and the\n",
    "network is fully connected.\n",
    "\n",
    "Sigmoid function: 1/ (1+ e^-z)"
   ]
  },
  {
   "cell_type": "code",
   "execution_count": 1,
   "metadata": {},
   "outputs": [],
   "source": [
    "#import pandas as pd\n",
    "import numpy as np\n",
    "from matplotlib import pyplot as plt"
   ]
  },
  {
   "cell_type": "code",
   "execution_count": 2,
   "metadata": {},
   "outputs": [],
   "source": [
    "#IMPORT DATA#################\n",
    "testfile = \"mnist_test.csv\"\n",
    "trainfile = \"mnist_train.csv\"\n",
    "\n",
    "#Data is 785 columns by N rows. First column = Label (0-9), others = 0:255\n",
    "test_data = np.genfromtxt(testfile, skip_header=True, delimiter=',')\n",
    "train_data = np.genfromtxt(trainfile, skip_header=True, delimiter=',')\n",
    "\n",
    "#PREPROCESSING###############\n",
    "\n",
    "#SCALE to 0:1\n",
    "test_data[:,1:] /= 255\n",
    "train_data[:,1:] /= 255"
   ]
  },
  {
   "cell_type": "code",
   "execution_count": 79,
   "metadata": {},
   "outputs": [],
   "source": [
    "def sigmoid(z):\n",
    "    return 1/(1+np.exp(-z))\n",
    "\n",
    "#Accuraccy function\n",
    "def acc(w1, w2, data, debug = 0):\n",
    "    \"\"\"\n",
    "    input: \n",
    "        w1: input to hidden weights [785 by hu]\n",
    "        w2: hidden to output weights [(hu+1) by 10]\n",
    "        data: matrix of N data points by 785 values, where the first value is the target (0-9), and the rest are\n",
    "            scaled gray-scale values between 0 and 1\n",
    "    output: Percentage of correct classifications, where a classification is taken using the highest perceptron\n",
    "        output value\n",
    "    \"\"\"\n",
    "    length = len(data[:,0])\n",
    "    xi = np.append(np.ones([length,1]), data[:, 1:],1) #Append 1s for bias & strip label from data[]\n",
    "    h_act = np.array(list(map(sigmoid, xi @ w1[:, :]))) #N by (hidden_units)\n",
    "    hi = np.append(np.ones([length,1]), h_act[:,:],1) #N by (hidden_units+1)\n",
    "\n",
    "    o_act = np.array(list(map(sigmoid, hi @ w2[:, :]))) #N by 10\n",
    "\n",
    "    amax = o_act.argmax(axis=1) #Predicted value\n",
    "    if debug:\n",
    "        print(o_act.shape)\n",
    "        print(amax[0:25])\n",
    "    ret = np.sum(amax == data[:,0])\n",
    "    return ret/length\n",
    "\n",
    "#Confusion matrix\n",
    "def cm(w1,w2, data):\n",
    "    \"\"\"\n",
    "    input: \n",
    "        w1: input to hidden weights [785 by hu]\n",
    "        w2: hidden to output weights [(hu+1) by 10]\n",
    "        data: matrix of N data points by 785 values, where the first value is the target (0-9), and the rest are\n",
    "            scaled gray-scale values between 0 and 1\n",
    "    output: confusion matrix 11x11 including labels (actual vs predicted)\n",
    "    \"\"\"\n",
    "    length = len(data[:,0])\n",
    "    xi = np.append(np.ones([length,1]), data[:, 1:],1) #Append 1s for bias & strip label from data[]\n",
    "    h_act = np.array(list(map(sigmoid, xi @ w1[:, :]))) #N by (hidden_units)\n",
    "    hi = np.append(np.ones([length,1]), h_act[:,:],1) #N by (hidden_units+1)\n",
    "#sigmoid\n",
    "    o_act = np.array(list(map(sigmoid, hi @ w2[:, :]))) #N by 10\n",
    "    #o_act= hi @ w2[:, :]\n",
    "    #print(o_act[0:3,:])\n",
    "    \n",
    "    m = np.zeros([11,11])\n",
    "    m[0,1:] = np.arange(10)\n",
    "    m[1:,0] = np.arange(10)\n",
    "    \n",
    "    for i in range(0, length):\n",
    "        actual = int(data[i, 0])\n",
    "        predic = int((o_act[i,:]).argmax(axis=0))\n",
    "        m[actual+1, predic+1] += 1\n",
    "        \n",
    "    return m.astype(int)\n",
    "\n",
    "#Training through back-propagation\n",
    "def train(w1, w2, data, lr, m, debug = 0):\n",
    "    \"\"\"\n",
    "    input: \n",
    "        w1: input to hidden weights [785 by hu]\n",
    "        w2: hidden to output weights [(hu+1) by 10]\n",
    "        data: matrix of N data points by 785 values, where the first value is the target (0-9), and the rest are\n",
    "            scaled gray-scale values between 0 and 1\n",
    "        lr: learning rate, (0:1)\n",
    "        m: momentum, (0:1)\n",
    "    output: Altered input weight matricies\n",
    "    \"\"\"\n",
    "    length = len(data[:,0])\n",
    "    oh_deltas_prev = np.zeros(w2.shape) #initialize previous weights to 0 (momentum calculations)\n",
    "    hi_deltas_prev = np.zeros(w1.shape)\n",
    "\n",
    "    for i in range(0,length):\n",
    "        #Forward Prop\n",
    "        xi = np.append([1], data[i, 1:]) #add \"1\" to input beginning for offset -> 1x785\n",
    "        hidden = np.array(list(map(sigmoid, xi @ w1[:, :]))) #1 by (hidden_units)\n",
    "        hi = np.append([1], hidden) #1 by (hidden_units+1)\n",
    "        #out = np.array(list(map(sigmoid, hi @ w2[:, :]))) #1 by 10\n",
    "        out = np.array(list(map(sigmoid, np.dot(hi,w2[:, :])))) #1 by 10\n",
    "        \n",
    "        target = np.full((10),0.1)\n",
    "        tindex = int(data[i,0])\n",
    "        target[tindex] = 0.9 #1x10 of 0s, with target = 0.9, else 0.1\n",
    "        #Error\n",
    "        err_o = out * (1-out) *(target-out) #1 by 10 array, output error\n",
    "        #err_h = hidden * (1-hidden) * (w2[1:,:]@err_o) #hu by 1 array, hidden error\n",
    "        err_h = hidden * (1-hidden) * np.dot(w2[1:,:],err_o) #hu by 1 array, hidden error\n",
    "        \n",
    "        #Backpropagation Deltas\n",
    "        oh_deltas = lr * np.outer(hi, err_o) +m*oh_deltas_prev #(hu+1) by 10\n",
    "        hi_deltas = lr * np.outer(xi, err_h) +m*hi_deltas_prev #785 by hu\n",
    "        oh_deltas_prev = oh_deltas\n",
    "        hi_deltas_prev = hi_deltas\n",
    "        #Update weights\n",
    "        w2 += oh_deltas\n",
    "        w1 += hi_deltas\n",
    "    return"
   ]
  },
  {
   "cell_type": "code",
   "execution_count": 88,
   "metadata": {},
   "outputs": [
    {
     "name": "stdout",
     "output_type": "stream",
     "text": [
      "***# Hidden =  10 ***************\n",
      "012345678910111213141516171819202122232425262728293031323334353637383940414243444546474849 \n",
      "[[   0    0    1    2    3    4    5    6    7    8    9]\n",
      " [   0  932    0    4    2    6    1   11    9   15    0]\n",
      " [   1    0 1102    2    5    0    2    3    3   18    0]\n",
      " [   2   11    1  919   12    9    1    9   18   48    4]\n",
      " [   3    8    0   19  905    0   23    2   14   32    7]\n",
      " [   4    0    1    2    0  913    0   12    2   11   41]\n",
      " [   5   13    1    9   38   12  690   26    6   82   15]\n",
      " [   6   11    3   13    0    9    0  891    2   29    0]\n",
      " [   7    1    4   12    6    8    1    1  918   30   46]\n",
      " [   8    8    4    8   12    3    7   12    6  904   10]\n",
      " [   9    4    1    0   14   27    5    2   12   21  923]]\n",
      "final test acc =  0.9097909790979097\n",
      "final train acc =  0.9185486424773747\n"
     ]
    },
    {
     "data": {
      "image/png": "[encoded data removed]",
      "text/plain": [
       "<Figure size 432x288 with 1 Axes>"
      ]
     },
     "metadata": {
      "needs_background": "light"
     },
     "output_type": "display_data"
    },
    {
     "name": "stdout",
     "output_type": "stream",
     "text": [
      "***# Hidden =  20 ***************\n",
      "012345678910111213141516171819202122232425262728293031323334353637383940414243444546474849 \n",
      "[[   0    0    1    2    3    4    5    6    7    8    9]\n",
      " [   0  960    0    1    1    0    5    5    4    4    0]\n",
      " [   1    0 1113    4    3    0    1    2    0   11    1]\n",
      " [   2    6    3  955    3   10    0    9   11   31    4]\n",
      " [   3    5    1   12  929    0   26    1    5   25    6]\n",
      " [   4    1    1    5    1  888    0   17    2   10   57]\n",
      " [   5    7    2    6   23    1  806   12    7   24    4]\n",
      " [   6   16    3   14    1    8   14  890    1    9    2]\n",
      " [   7    0    9   19    7    0    1    0  956   10   25]\n",
      " [   8    8    7    2    8    3   10    8    2  917    9]\n",
      " [   9    6    5    1   10   14    7    0    6   18  942]]\n",
      "final test acc =  0.9356935693569357\n",
      "final train acc =  0.9551492524875415\n"
     ]
    },
    {
     "data": {
      "image/png": "[encoded data removed]",
      "text/plain": [
       "<Figure size 432x288 with 1 Axes>"
      ]
     },
     "metadata": {
      "needs_background": "light"
     },
     "output_type": "display_data"
    },
    {
     "name": "stdout",
     "output_type": "stream",
     "text": [
      "***# Hidden =  100 ***************\n",
      "012345678910111213141516171819202122232425262728293031323334353637383940414243444546474849 \n",
      "[[   0    0    1    2    3    4    5    6    7    8    9]\n",
      " [   0  970    0    4    0    0    0    1    1    3    1]\n",
      " [   1    1 1120    1    4    1    1    2    0    5    0]\n",
      " [   2    5    2  986    8    1    1    6    5   15    3]\n",
      " [   3    0    1    7  969    0   13    0    5   10    5]\n",
      " [   4    2    0    2    0  943    0    6    1    2   26]\n",
      " [   5    4    1    1    7    0  855    6    4    7    7]\n",
      " [   6    8    3    1    1    2   13  925    0    5    0]\n",
      " [   7    0    3   13    2    4    0    0  977   12   16]\n",
      " [   8    7    3    2    1    4    6    5    3  940    3]\n",
      " [   9    5    3    0   10   11    2    1    5    6  966]]\n",
      "final test acc =  0.9651965196519652\n",
      "final train acc =  0.9938332305538425\n"
     ]
    },
    {
     "data": {
      "image/png": "[encoded data removed]",
      "text/plain": [
       "<Figure size 432x288 with 1 Axes>"
      ]
     },
     "metadata": {
      "needs_background": "light"
     },
     "output_type": "display_data"
    }
   ],
   "source": [
    "################# EXPERIMENT 1 ####################\n",
    "\n",
    "epochs = 50\n",
    "learning_rate = 0.1\n",
    "momentum = 0.9\n",
    "hidden_units = [10, 20, 100]\n",
    "\n",
    "\n",
    "for hu in hidden_units:\n",
    "    print(\"***# Hidden = \",hu,\"***************\")\n",
    "    w_hi = (np.random.rand(785,hu) * 0.10) - 0.05 #weights, input to hidden\n",
    "    w_oh = (np.random.rand(hu+1,10) * 0.10) - 0.05 #weights, hidden to output\n",
    "    acc_test = []\n",
    "    acc_train = []\n",
    "\n",
    "    acc_test.append(acc(w_hi, w_oh,test_data)) #initial accuracy values\n",
    "    acc_train.append(acc(w_hi, w_oh,train_data))\n",
    "    \n",
    "    for i in range(0,epochs):\n",
    "        train(w_hi, w_oh, train_data, learning_rate, momentum)\n",
    "        acc_test.append(acc(w_hi, w_oh,test_data))\n",
    "        acc_train.append(acc(w_hi, w_oh,train_data))\n",
    "        print(i, end='', flush=True)\n",
    "    print(\" \") #newline\n",
    "    \n",
    "    print(cm(w_hi, w_oh, test_data))\n",
    "    print(\"final test acc = \", acc_test[len(acc_test)-1])\n",
    "    print(\"final train acc = \", acc_train[len(acc_train)-1])\n",
    "\n",
    "    plt.plot(acc_test)\n",
    "    plt.plot(acc_train)\n",
    "    plt.xlabel(\"epochs\")\n",
    "    plt.ylabel(\"accuracy(%)\")\n",
    "    title = \"Training and Test accuracy, hidden units = \" + str(hu)\n",
    "    plt.title(title)\n",
    "    plt.legend((\"test\", \"train\"),loc='lower right')\n",
    "    plt.show()"
   ]
  },
  {
   "cell_type": "code",
   "execution_count": null,
   "metadata": {},
   "outputs": [
    {
     "name": "stdout",
     "output_type": "stream",
     "text": [
      "***# Momentum =  0 ***************\n",
      "012345678910111213141516171819202122232425262728293031323334353637383940414243444546474849 \n",
      "[[   0    0    1    2    3    4    5    6    7    8    9]\n",
      " [   0  971    0    0    2    0    1    2    1    2    1]\n",
      " [   1    0 1124    1    2    0    1    3    2    2    0]\n",
      " [   2    3    4 1007    3    1    0    4    5    4    1]\n",
      " [   3    0    0    1  993    0    6    1    3    2    4]\n",
      " [   4    2    0    0    0  961    0    6    0    1   12]\n",
      " [   5    4    0    0   10    0  864    4    1    5    4]\n",
      " [   6    7    3    1    0    2    4  939    0    2    0]\n",
      " [   7    1    4   12    3    3    0    0  993    2    9]\n",
      " [   8    3    1    2    2    4    2    3    3  952    2]\n",
      " [   9    2    6    0    8    8    0    1    5    3  976]]\n",
      "final test acc =  0.978097809780978\n",
      "final train acc =  0.9952832547209121\n"
     ]
    },
    {
     "data": {
      "image/png": "[encoded data removed]",
      "text/plain": [
       "<Figure size 432x288 with 1 Axes>"
      ]
     },
     "metadata": {
      "needs_background": "light"
     },
     "output_type": "display_data"
    },
    {
     "name": "stdout",
     "output_type": "stream",
     "text": [
      "***# Momentum =  0.5 ***************\n",
      "01234567891011121314151617181920212223242526272829303132333435"
     ]
    }
   ],
   "source": [
    "################# EXPERIMENT 2 ####################\n",
    "\n",
    "epochs = 50\n",
    "learning_rate = 0.1\n",
    "momentums = [0, 0.5, 1] #VARY MOMENTUM\n",
    "hu = 100\n",
    "\n",
    "\n",
    "for momentum in momentums:\n",
    "    print(\"***# Momentum = \",momentum,\"***************\")\n",
    "    w_hi = (np.random.rand(785,hu) * 0.10) - 0.05 #weights, input to hidden\n",
    "    w_oh = (np.random.rand(hu+1,10) * 0.10) - 0.05 #weights, hidden to output\n",
    "    acc_test = []\n",
    "    acc_train = []\n",
    "\n",
    "    acc_test.append(acc(w_hi, w_oh,test_data)) #initial accuracy values\n",
    "    acc_train.append(acc(w_hi, w_oh,train_data))\n",
    "    \n",
    "    for i in range(0,epochs):\n",
    "        train(w_hi, w_oh, train_data, learning_rate, momentum)\n",
    "        acc_test.append(acc(w_hi, w_oh,test_data))\n",
    "        acc_train.append(acc(w_hi, w_oh,train_data))\n",
    "        print(i, end='', flush=True)\n",
    "    print(\" \") #newline\n",
    "    \n",
    "    print(cm(w_hi, w_oh, test_data))\n",
    "    print(\"final test acc = \", acc_test[len(acc_test)-1])\n",
    "    print(\"final train acc = \", acc_train[len(acc_train)-1])\n",
    "\n",
    "    plt.plot(acc_test)\n",
    "    plt.plot(acc_train)\n",
    "    plt.xlabel(\"epochs\")\n",
    "    plt.ylabel(\"accuracy(%)\")\n",
    "    title = \"Training and Test accuracy, momentum = \" + str(momentum)\n",
    "    plt.title(title)\n",
    "    plt.legend((\"test\", \"train\"),loc='lower right')\n",
    "    plt.show()"
   ]
  },
  {
   "cell_type": "code",
   "execution_count": null,
   "metadata": {},
   "outputs": [],
   "source": [
    "################# EXPERIMENT 3 ####################\n",
    "\n",
    "epochs = 50\n",
    "learning_rate = 0.1\n",
    "momentum = 0.9\n",
    "hu = 100\n",
    "data_frac = [0.25, 0.5] #Using a quarter, then a half of the training data\n",
    "length = len(train_data)\n",
    "\n",
    "for frac in data_frac:\n",
    "    ind = int(length*frac) #number of examples in subset of training data\n",
    "    part_data = train_data[0:ind,:]\n",
    "    print(\"***Fraction of total data = \",frac,\"***************\")\n",
    "    w_hi = (np.random.rand(785,hu) * 0.10) - 0.05 #weights, input to hidden\n",
    "    w_oh = (np.random.rand(hu+1,10) * 0.10) - 0.05 #weights, hidden to output\n",
    "    acc_test = []\n",
    "    acc_train = []\n",
    "\n",
    "    acc_test.append(acc(w_hi, w_oh,test_data)) #initial accuracy values\n",
    "    acc_train.append(acc(w_hi, w_oh,part_data))\n",
    "    \n",
    "    for i in range(0,epochs):\n",
    "        train(w_hi, w_oh, train_data, learning_rate, momentum)\n",
    "        acc_test.append(acc(w_hi, w_oh,test_data))\n",
    "        acc_train.append(acc(w_hi, w_oh,part_data))\n",
    "        print(i, end='', flush=True)\n",
    "    print(\" \") #newline\n",
    "    \n",
    "    print(cm(w_hi, w_oh, test_data))\n",
    "    print(\"final test acc = \", acc_test[len(acc_test)-1])\n",
    "    print(\"final train acc = \", acc_train[len(acc_train)-1])\n",
    "\n",
    "    plt.plot(acc_test)\n",
    "    plt.plot(acc_train)\n",
    "    plt.xlabel(\"epochs\")\n",
    "    plt.ylabel(\"accuracy(%)\")\n",
    "    title = \"Training and Test accuracy, fraction of data = \" + str(frac)\n",
    "    plt.title(title)\n",
    "    plt.legend((\"test\", \"train\"),loc='lower right')\n",
    "    plt.show()"
   ]
  },
  {
   "cell_type": "code",
   "execution_count": 78,
   "metadata": {},
   "outputs": [
    {
     "name": "stdout",
     "output_type": "stream",
     "text": [
      "[0.52497918747894, 0.549833997312478, 0.574442516811659, 0.598687660112452, 0.6899744811276125, 0.7109495026250039]\n",
      "[0.9 0.9 0.9 0.9 0.9 0.9 0.9 0.9 0.9 0.9]\n",
      "multiply\n",
      "[ 2 10 30]\n",
      "[ 2 10 30]\n",
      "[ 5 10 15]\n",
      "[[2 3 4]\n",
      " [1 1 1]]\n",
      "[1. 1. 1.]\n",
      "[9. 3.]\n",
      "[[0. 0. 0.]\n",
      " [0. 0. 0.]]\n"
     ]
    }
   ],
   "source": [
    "test1 = np.zeros(5)\n",
    "test2 = np.append(1, test1)\n",
    "print(list(map(sigmoid,[0.1, 0.2, 0.3, 0.4, 0.8, 0.9])))\n",
    "t3 = np.full((10),0.1)\n",
    "print(1-t3)\n",
    "t1 = np.array([1,2, 3])\n",
    "t2 = np.array([2,5, 10])\n",
    "print(\"multiply\")\n",
    "print(t1*t2)\n",
    "print(np.multiply(t1,t2))\n",
    "print(np.multiply(t1,5))\n",
    "\n",
    "t4 = np.array([[2,3,4],[1,1,1]])\n",
    "t5= np.ones([3])\n",
    "print(t4)\n",
    "print(t5)\n",
    "print(t4@t5)\n",
    "print(np.zeros(t4.shape))"
   ]
  },
  {
   "cell_type": "code",
   "execution_count": 87,
   "metadata": {},
   "outputs": [
    {
     "name": "stdout",
     "output_type": "stream",
     "text": [
      "0.2863738536834717\n",
      "0.2995340824127197\n"
     ]
    }
   ],
   "source": [
    "import time\n",
    "test1 = np.ones([5000,5000])\n",
    "\n",
    "start = time.time()\n",
    "test2 = test1*5\n",
    "end = time.time()\n",
    "print(end-start)\n",
    "\n",
    "start = time.time()\n",
    "test3 = np.multiply(5,test1)\n",
    "end = time.time()\n",
    "print(end-start)"
   ]
  },
  {
   "cell_type": "code",
   "execution_count": null,
   "metadata": {},
   "outputs": [],
   "source": []
  }
 ],
 "metadata": {
  "kernelspec": {
   "display_name": "Python 3",
   "language": "python",
   "name": "python3"
  },
  "language_info": {
   "codemirror_mode": {
    "name": "ipython",
    "version": 3
   },
   "file_extension": ".py",
   "mimetype": "text/x-python",
   "name": "python",
   "nbconvert_exporter": "python",
   "pygments_lexer": "ipython3",
   "version": "3.5.2"
  }
 },
 "nbformat": 4,
 "nbformat_minor": 2
}
