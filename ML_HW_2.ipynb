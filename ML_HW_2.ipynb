{
 "cells": [
  {
   "cell_type": "markdown",
   "metadata": {},
   "source": [
    "# Homework 2: Two-layer neural network\n",
    "### Due Tuesday, January 29, 2019, 5pm\n",
    "#### Jesse Zhu\n",
    "#### ML-W2019\n",
    "\n",
    "Using the MNIST hand-written digits dataset, we aim to categorize the digits 0-9 with a two-layer neural network,\n",
    "composed of one hidden layer and one output layer. Both layers will use the sigmoid activation function, and the\n",
    "network is fully connected.\n",
    "\n",
    "Sigmoid function: 1/ (1+ e^-z)"
   ]
  },
  {
   "cell_type": "code",
   "execution_count": 1,
   "metadata": {},
   "outputs": [],
   "source": [
    "#import pandas as pd\n",
    "import numpy as np\n",
    "from matplotlib import pyplot as plt"
   ]
  },
  {
   "cell_type": "code",
   "execution_count": null,
   "metadata": {},
   "outputs": [],
   "source": [
    "def sigmoid(z):\n",
    "    return 1/(1+np.exp(-z))\n",
    "\n",
    "class Network:\n",
    "    testfile = \"mnist_test.csv\"\n",
    "    trainfile = \"mnist_train.csv\"\n",
    "\n",
    "    # Initialize\n",
    "    def __init__(self, data):\n",
    "        \"\"\"\n",
    "        Opens and loads data, then scales it between 0 and 1.\n",
    "        \"\"\"\n",
    "        #Data is 785 columns by N rows. First column = Label (0-9), others = 0:255\n",
    "        self.test_data = np.genfromtxt(testfile, skip_header=True, delimiter=',')\n",
    "        self.train_data = np.genfromtxt(trainfile, skip_header=True, delimiter=',')\n",
    "        self.test_data[:,1:] /= 255\n",
    "        self.train_data[:,1:] /= 255"
   ]
  }
 ],
 "metadata": {
  "kernelspec": {
   "display_name": "Python 3",
   "language": "python",
   "name": "python3"
  },
  "language_info": {
   "codemirror_mode": {
    "name": "ipython",
    "version": 3
   },
   "file_extension": ".py",
   "mimetype": "text/x-python",
   "name": "python",
   "nbconvert_exporter": "python",
   "pygments_lexer": "ipython3",
   "version": "3.5.2"
  }
 },
 "nbformat": 4,
 "nbformat_minor": 2
}
