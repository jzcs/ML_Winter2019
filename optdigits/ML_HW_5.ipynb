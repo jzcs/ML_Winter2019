{
 "cells": [
  {
   "cell_type": "markdown",
   "metadata": {},
   "source": [
    "# Homework 5: K-means Clustering\n",
    "\n",
    "Due Tuesday March 5\n",
    "\n",
    "The OptDigits data from the UCI ML repository will be classified using K-means clustering. Each data instance has 64 attributes (pixels) with a value between 0-16, along with the class label.\n",
    "\n",
    "Clustering will be evaluated using average mean-square-error, mean- square-separation, mean entropy, and accuracy.\n",
    "\n",
    "## Experiment 1\n",
    "K = 10\n",
    "\n",
    "1) Run 5 times with random initial seeds\n",
    "\n",
    "    1b) Stop run when clusters stop changing\n",
    "    \n",
    "2) Choose run with smallest average MSE"
   ]
  },
  {
   "cell_type": "code",
   "execution_count": 1,
   "metadata": {},
   "outputs": [],
   "source": [
    "import pandas as pd\n",
    "import numpy as np  \n",
    "import matplotlib.pyplot as plt"
   ]
  },
  {
   "cell_type": "code",
   "execution_count": 4,
   "metadata": {},
   "outputs": [
    {
     "name": "stdout",
     "output_type": "stream",
     "text": [
      "   0   1   2   3   4   5   6   7   8   9  ...  55  56  57  58  59  60  61  62  \\\n",
      "0   0   1   6  15  12   1   0   0   0   7 ...   0   0   0   6  14   7   1   0   \n",
      "1   0   0  10  16   6   0   0   0   0   7 ...   0   0   0  10  16  15   3   0   \n",
      "2   0   0   8  15  16  13   0   0   0   1 ...   0   0   0   9  14   0   0   0   \n",
      "3   0   0   0   3  11  16   0   0   0   0 ...   0   0   0   0   1  15   2   0   \n",
      "4   0   0   5  14   4   0   0   0   0   0 ...   0   0   0   4  12  14   7   0   \n",
      "\n",
      "   63  64  \n",
      "0   0   0  \n",
      "1   0   0  \n",
      "2   0   7  \n",
      "3   0   4  \n",
      "4   0   6  \n",
      "\n",
      "[5 rows x 65 columns]\n"
     ]
    }
   ],
   "source": [
    "# Load Data #64 attributes + 1 class = 65\n",
    "traindata = pd.read_csv(\"optdigits.train\", header = None)\n",
    "testdata = pd.read_csv(\"optdigits.test\", header = None)\n",
    "\n",
    "print(traindata.head())\n",
    "#testdata.head()\n",
    "traindata = traindata.values #to numpy matrix\n",
    "testdata = testdata.values\n",
    "\n",
    "np.random.seed(0)"
   ]
  },
  {
   "cell_type": "code",
   "execution_count": 12,
   "metadata": {},
   "outputs": [
    {
     "name": "stdout",
     "output_type": "stream",
     "text": [
      "[3360 3337 2745  639  544 2591  714 2292  151 2723]\n"
     ]
    }
   ],
   "source": [
    "def rand_cent(data, k):\n",
    "    \"\"\"\n",
    "    input:\n",
    "        data: training data set, to compute length\n",
    "        k: Number of centroids\n",
    "    output:\n",
    "        init_cents: array of random indicies into data, of size k\n",
    "    \"\"\"\n",
    "    n = len(data) - 1\n",
    "    init_cents = np.random.randint(0, n, k)\n",
    "    return init_cents\n",
    "\n",
    "def cluster(data, cents, k):\n",
    "    \"\"\"\n",
    "    input:\n",
    "        data: training data set, to compute euclidian distance (n x 64, STRIP CLASS a)\n",
    "        k: Number of centroids\n",
    "        cents: array (len: k) of centroids (k x 64 matrix)\n",
    "    output:\n",
    "        \n",
    "    \"\"\"\n",
    "    dists = [] #k-size rows of euclidian distance between row = data_point, column = centroid\n",
    "    for cent in cents:\n",
    "        dist = np.linalg.norm(data - , axis = 1)\n",
    "\n",
    "dists = [] #k-size rows of euclidian distance between row = data_point, column = centroid\n",
    "closest = [] #Closest centroid 0:k\n",
    "k = 10\n",
    "\n",
    "print(rand_cent(traindata, k))\n"
   ]
  },
  {
   "cell_type": "code",
   "execution_count": 11,
   "metadata": {},
   "outputs": [
    {
     "ename": "NameError",
     "evalue": "name 'a' is not defined",
     "output_type": "error",
     "traceback": [
      "\u001b[0;31m---------------------------------------------------------------------------\u001b[0m",
      "\u001b[0;31mNameError\u001b[0m                                 Traceback (most recent call last)",
      "\u001b[0;32m<ipython-input-11-1a8d16917cbf>\u001b[0m in \u001b[0;36m<module>\u001b[0;34m\u001b[0m\n\u001b[0;32m----> 1\u001b[0;31m \u001b[0mdist\u001b[0m \u001b[0;34m=\u001b[0m \u001b[0mnp\u001b[0m\u001b[0;34m.\u001b[0m\u001b[0mlinalg\u001b[0m\u001b[0;34m.\u001b[0m\u001b[0mnorm\u001b[0m\u001b[0;34m(\u001b[0m\u001b[0ma\u001b[0m\u001b[0;34m-\u001b[0m\u001b[0mb\u001b[0m\u001b[0;34m)\u001b[0m\u001b[0;34m\u001b[0m\u001b[0m\n\u001b[0m",
      "\u001b[0;31mNameError\u001b[0m: name 'a' is not defined"
     ]
    }
   ],
   "source": [
    "dist = np.linalg.norm(a-b)"
   ]
  },
  {
   "cell_type": "code",
   "execution_count": 25,
   "metadata": {},
   "outputs": [
    {
     "name": "stdout",
     "output_type": "stream",
     "text": [
      "[[1 2 3]\n",
      " [2 3 4]\n",
      " [3 4 5]]\n",
      "[1 5 2]\n",
      "[[ 0 -3  1]\n",
      " [ 1 -2  2]\n",
      " [ 2 -1  3]]\n",
      "[3.16227766 3.         3.74165739]\n",
      "[[1]\n",
      " [5]\n",
      " [2]]\n"
     ]
    }
   ],
   "source": [
    "a = np.array([[1,2,3],[2,3,4],[3,4,5]])\n",
    "print(a)\n",
    "b = np.array([1,5,2])\n",
    "print(b)\n",
    "c = a-b\n",
    "print(c)\n",
    "#https://stackoverflow.com/questions/7741878/how-to-apply-numpy-linalg-norm-to-each-row-of-a-matrix\n",
    "print(np.linalg.norm(c, axis = 1))\n",
    "print(b.reshape(-1,1))"
   ]
  },
  {
   "cell_type": "code",
   "execution_count": null,
   "metadata": {},
   "outputs": [],
   "source": []
  }
 ],
 "metadata": {
  "kernelspec": {
   "display_name": "Python 3",
   "language": "python",
   "name": "python3"
  },
  "language_info": {
   "codemirror_mode": {
    "name": "ipython",
    "version": 3
   },
   "file_extension": ".py",
   "mimetype": "text/x-python",
   "name": "python",
   "nbconvert_exporter": "python",
   "pygments_lexer": "ipython3",
   "version": "3.5.2"
  }
 },
 "nbformat": 4,
 "nbformat_minor": 2
}
