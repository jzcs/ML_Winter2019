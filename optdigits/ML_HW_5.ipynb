{
 "cells": [
  {
   "cell_type": "markdown",
   "metadata": {},
   "source": [
    "# Homework 5: K-means Clustering\n",
    "\n",
    "Due Tuesday March 5\n",
    "\n",
    "The OptDigits data from the UCI ML repository will be classified using K-means clustering. Each data instance has 64 attributes (pixels) with a value between 0-16, along with the class label.\n",
    "\n",
    "Clustering will be evaluated using average mean-square-error, mean- square-separation, mean entropy, and accuracy.\n",
    "\n",
    "## Experiment 1\n",
    "K = 10\n",
    "\n",
    "1) Run 5 times with random initial seeds\n",
    "\n",
    "    1b) Stop run when clusters stop changing\n",
    "    \n",
    "2) Choose run with smallest average MSE"
   ]
  },
  {
   "cell_type": "code",
   "execution_count": 137,
   "metadata": {},
   "outputs": [],
   "source": [
    "import pandas as pd\n",
    "import numpy as np  \n",
    "import matplotlib.pyplot as plt\n",
    "import math\n",
    "from scipy import stats\n",
    "from sklearn.metrics import confusion_matrix"
   ]
  },
  {
   "cell_type": "code",
   "execution_count": 4,
   "metadata": {},
   "outputs": [
    {
     "name": "stdout",
     "output_type": "stream",
     "text": [
      "   0   1   2   3   4   5   6   7   8   9  ...  55  56  57  58  59  60  61  62  \\\n",
      "0   0   1   6  15  12   1   0   0   0   7 ...   0   0   0   6  14   7   1   0   \n",
      "1   0   0  10  16   6   0   0   0   0   7 ...   0   0   0  10  16  15   3   0   \n",
      "2   0   0   8  15  16  13   0   0   0   1 ...   0   0   0   9  14   0   0   0   \n",
      "3   0   0   0   3  11  16   0   0   0   0 ...   0   0   0   0   1  15   2   0   \n",
      "4   0   0   5  14   4   0   0   0   0   0 ...   0   0   0   4  12  14   7   0   \n",
      "\n",
      "   63  64  \n",
      "0   0   0  \n",
      "1   0   0  \n",
      "2   0   7  \n",
      "3   0   4  \n",
      "4   0   6  \n",
      "\n",
      "[5 rows x 65 columns]\n"
     ]
    }
   ],
   "source": [
    "# Load Data #64 attributes + 1 class = 65\n",
    "traindata = pd.read_csv(\"optdigits.train\", header = None)\n",
    "testdata = pd.read_csv(\"optdigits.test\", header = None)\n",
    "\n",
    "print(traindata.head())\n",
    "traindata = traindata.values #to numpy matrix\n",
    "testdata = testdata.values\n",
    "\n",
    "np.random.seed(0)"
   ]
  },
  {
   "cell_type": "code",
   "execution_count": 90,
   "metadata": {},
   "outputs": [],
   "source": [
    "def rand_cent(data, k):\n",
    "    \"\"\"\n",
    "    Random datapoint selection for initial centroids\n",
    "    input:\n",
    "        data: training data set, to compute length\n",
    "        k: Number of centroids\n",
    "    output:\n",
    "        init_cents: array of k-centroids (k-rows, n_attribute-cols)\n",
    "    \"\"\"\n",
    "    n = len(data) - 1\n",
    "    init_cents = np.zeros((k, data.shape[1]))\n",
    "    init_ind = np.random.randint(0, n, k)    #array of random indicies into data, of size k\n",
    "    for i in range(len(init_ind)):\n",
    "        init_cents[i] = data[init_ind[i]]\n",
    "    return init_cents\n",
    "\n",
    "def cluster(data, cents, k):\n",
    "    \"\"\"\n",
    "    Assigns data to clusters\n",
    "    input:\n",
    "        data: training data set, to compute euclidian distance (n x 64, STRIP CLASS at end first!)\n",
    "        k: Number of centroids\n",
    "        cents: array (len: k) of centroids (k x 64 matrix)\n",
    "    output:\n",
    "        #dists: k columns of euclidian distance between row = data_point, column = centroid\n",
    "        bins: n- length array mapping data-index to cluster (0 to k-1)\n",
    "    \"\"\"\n",
    "#     dists = [] #k columns of euclidian distance between row = data_point, column = centroid\n",
    "#     for cent in cents:\n",
    "#         dist = np.linalg.norm(data - cent, axis = 1)\n",
    "#         dists = np.concatenate((dists, dist.reshape(-1,1)), axis=1) if dists.size else dist.reshape(-1,1)\n",
    "#         #alternative, reshape at end?\n",
    "#         #dists = np.vstack(dists, dist) if dists.size else dist\n",
    "#     bins = np.argmin(dists, axis=1)\n",
    "    \n",
    "    dists = np.zeros((k, len(data))) #(k by n_data) of eucl distance between row = centroid, col = data_point\n",
    "    for i in range(len(cents)):\n",
    "        cent = cents[i]\n",
    "        dist = np.linalg.norm(data - cent, axis = 1) #1D array of length (data)\n",
    "        dists[i] = dist\n",
    "    bins = np.argmin(dists, axis=0)\n",
    "    \n",
    "    return bins\n",
    "\n",
    "def update(data, bins, k):\n",
    "    \"\"\"\n",
    "    Creates new centroids by averaging clusters\n",
    "    input:\n",
    "        data: training data set, to compute euclidian distance (n x 64, STRIP CLASS at end first!)\n",
    "        bins: n- length array mapping data-index to cluster (0 to k-1)\n",
    "        k: Number of centroids\n",
    "    output:\n",
    "        new_cents: Array of new centroids (k by ncol(aka n_attributes))\n",
    "    \"\"\"\n",
    "    ncol = data.shape[1] #number of columns in data (Attributes)\n",
    "    csize = np.zeros(k) #track number of data points in each cluster for mean calculation\n",
    "    ctotal = np.zeros((k, ncol)) #k rows, each with ncol (64) attributes\n",
    "    \n",
    "    for i in range(len(data)):\n",
    "        ctotal[bins[i]] += data[i]\n",
    "        csize[bins[i]] += 1\n",
    "    \n",
    "    csize[csize == 0] = 1 #for divide by 0 cases\n",
    "    new_cents = ctotal / csize.reshape(-1,1)\n",
    "    return new_cents\n",
    "\n",
    "def run_mult(data, k, n_runs):\n",
    "    \"\"\"\n",
    "    Runs the clustering until the centers no longer change, for n_runs.\n",
    "    input:\n",
    "        data: training data set, to compute euclidian distance (n x 64, STRIP CLASS at end first!)\n",
    "        k: Number of centroids\n",
    "    output:\n",
    "        Array of trained centroids (k by ncol(aka n_attributes) by n_runs)\n",
    "        \n",
    "    \"\"\"\n",
    "    final_cents = np.zeros((k, data.shape[1], n_runs)) #3D array with k by n_attributes by height n_runs\n",
    "    \n",
    "    for i in range(n_runs):\n",
    "        \n",
    "        new_cents = rand_cent(data , k)\n",
    "        counter = 0\n",
    "        while(True):\n",
    "            cents = new_cents\n",
    "            bins = cluster(data, cents, k)\n",
    "        #     print(bins.shape)\n",
    "        #     print(bins[0:100])\n",
    "            new_cents = update(data, bins, k)\n",
    "            counter += 1\n",
    "\n",
    "            if np.array_equal(cents, new_cents):\n",
    "                break\n",
    "            elif counter > 100:\n",
    "                print(\"max iterations exceeded, 100\")\n",
    "                break\n",
    "        print(\"iterations: \" + str(counter))\n",
    "        final_cents[:,:,i] = cents\n",
    "    return final_cents"
   ]
  },
  {
   "cell_type": "code",
   "execution_count": 89,
   "metadata": {},
   "outputs": [
    {
     "name": "stdout",
     "output_type": "stream",
     "text": [
      "iterations: 31\n",
      "iterations: 32\n",
      "iterations: 26\n",
      "iterations: 41\n",
      "iterations: 24\n"
     ]
    }
   ],
   "source": [
    "k = 10\n",
    "train = traindata[:,:-1] #without labels\n",
    "\n",
    "cents_5 = run_mult(train, k, 5)"
   ]
  },
  {
   "cell_type": "code",
   "execution_count": 148,
   "metadata": {},
   "outputs": [
    {
     "name": "stdout",
     "output_type": "stream",
     "text": [
      "avg mses: [643.3606393787893, 647.5086661650396, 643.4561750961491, 643.4322835539555, 647.6597981670526]\n",
      "best avg_mse =  0 @  643.3606393787893\n",
      "mss:  1302.3024352266348\n",
      "[283, 372, 312, 458, 530, 781, 167, 301, 229, 390] 3823\n",
      "mean entropy:  0.9671064023612094\n",
      "modes [1. 0. 4. 7. 8. 3. 2. 5. 2. 6.]\n",
      "accuracy = 0.7417918753478019\n",
      "confusion matrix (digits 0-9)\n",
      "[[176   0   0   0   2   0   0   0   0   0]\n",
      " [  0  56  23   1   0   0   2   0 100   0]\n",
      " [  1   1 162   0   0   0   0   2  11   0]\n",
      " [  0   0   2 163   0   1   0   9   8   0]\n",
      " [  0   5   0   0 162   0   0   6   8   0]\n",
      " [  0   1   0  31   1 148   1   0   0   0]\n",
      " [  1   0   0   0   1   0 176   0   3   0]\n",
      " [  0   7   0   0   1   1   0 168   2   0]\n",
      " [  1   8   1  34   0   4   2   2 122   0]\n",
      " [  0  23   0 145   0   6   0   5   1   0]]\n",
      "cluster  0  mode =  1.0\n",
      "8  by  8\n"
     ]
    },
    {
     "data": {
      "image/png": "[encoded data removed]",
      "text/plain": [
       "<Figure size 432x288 with 1 Axes>"
      ]
     },
     "metadata": {
      "needs_background": "light"
     },
     "output_type": "display_data"
    },
    {
     "name": "stdout",
     "output_type": "stream",
     "text": [
      "cluster  1  mode =  0.0\n",
      "8  by  8\n"
     ]
    },
    {
     "data": {
      "image/png": "[encoded data removed]",
      "text/plain": [
       "<Figure size 432x288 with 1 Axes>"
      ]
     },
     "metadata": {
      "needs_background": "light"
     },
     "output_type": "display_data"
    },
    {
     "name": "stdout",
     "output_type": "stream",
     "text": [
      "cluster  2  mode =  4.0\n",
      "8  by  8\n"
     ]
    },
    {
     "data": {
      "image/png": "[encoded data removed]",
      "text/plain": [
       "<Figure size 432x288 with 1 Axes>"
      ]
     },
     "metadata": {
      "needs_background": "light"
     },
     "output_type": "display_data"
    },
    {
     "name": "stdout",
     "output_type": "stream",
     "text": [
      "cluster  3  mode =  7.0\n",
      "8  by  8\n"
     ]
    },
    {
     "data": {
      "image/png": "[encoded data removed]",
      "text/plain": [
       "<Figure size 432x288 with 1 Axes>"
      ]
     },
     "metadata": {
      "needs_background": "light"
     },
     "output_type": "display_data"
    },
    {
     "name": "stdout",
     "output_type": "stream",
     "text": [
      "cluster  4  mode =  8.0\n",
      "8  by  8\n"
     ]
    },
    {
     "data": {
      "image/png": "[encoded data removed]",
      "text/plain": [
       "<Figure size 432x288 with 1 Axes>"
      ]
     },
     "metadata": {
      "needs_background": "light"
     },
     "output_type": "display_data"
    },
    {
     "name": "stdout",
     "output_type": "stream",
     "text": [
      "cluster  5  mode =  3.0\n",
      "8  by  8\n"
     ]
    },
    {
     "data": {
      "image/png": "[encoded data removed]",
      "text/plain": [
       "<Figure size 432x288 with 1 Axes>"
      ]
     },
     "metadata": {
      "needs_background": "light"
     },
     "output_type": "display_data"
    },
    {
     "name": "stdout",
     "output_type": "stream",
     "text": [
      "cluster  6  mode =  2.0\n",
      "8  by  8\n"
     ]
    },
    {
     "data": {
      "image/png": "[encoded data removed]",
      "text/plain": [
       "<Figure size 432x288 with 1 Axes>"
      ]
     },
     "metadata": {
      "needs_background": "light"
     },
     "output_type": "display_data"
    },
    {
     "name": "stdout",
     "output_type": "stream",
     "text": [
      "cluster  7  mode =  5.0\n",
      "8  by  8\n"
     ]
    },
    {
     "data": {
      "image/png": "[encoded data removed]",
      "text/plain": [
       "<Figure size 432x288 with 1 Axes>"
      ]
     },
     "metadata": {
      "needs_background": "light"
     },
     "output_type": "display_data"
    },
    {
     "name": "stdout",
     "output_type": "stream",
     "text": [
      "cluster  8  mode =  2.0\n",
      "8  by  8\n"
     ]
    },
    {
     "data": {
      "image/png": "[encoded data removed]",
      "text/plain": [
       "<Figure size 432x288 with 1 Axes>"
      ]
     },
     "metadata": {
      "needs_background": "light"
     },
     "output_type": "display_data"
    },
    {
     "name": "stdout",
     "output_type": "stream",
     "text": [
      "cluster  9  mode =  6.0\n",
      "8  by  8\n"
     ]
    },
    {
     "data": {
      "image/png": "[encoded data removed]",
      "text/plain": [
       "<Figure size 432x288 with 1 Axes>"
      ]
     },
     "metadata": {
      "needs_background": "light"
     },
     "output_type": "display_data"
    }
   ],
   "source": [
    "def avg_mse(data, cents, k):\n",
    "    \"\"\"\n",
    "    Average mean square error\n",
    "    input:\n",
    "        data: training data set, to compute euclidian distance (n x 64, STRIP CLASS at end first!)\n",
    "        cents (k by ncol(aka n_attributes))\n",
    "        k: num clusters\n",
    "    output:\n",
    "        ret: avg MSE\n",
    "    \"\"\"\n",
    "    mses = []\n",
    "    bins = cluster(data, cents, k)\n",
    "    data = np.concatenate((data, bins.reshape(-1,1)), axis=1) #concat bin column to the right side (65th column)\n",
    "    \n",
    "    for i in range(len(cents)):\n",
    "        if np.sum(cents[i]) == 0:\n",
    "            continue\n",
    "        cent_data = data[data[:,64]==i][:,:-1] #data with bin = i\n",
    "        dist = np.linalg.norm(cent_data - cents[i], axis = 1)\n",
    "        mse = np.mean(dist**2) #average dist^2\n",
    "        mses += [mse]\n",
    "    return np.mean(mses)\n",
    "\n",
    "def mss(cents, k):\n",
    "    \"\"\"\n",
    "    Mean Square Separation\n",
    "    input:\n",
    "        cents (k by ncol(aka n_attributes))\n",
    "        k: num clusters\n",
    "    output:\n",
    "        ret: MSS\n",
    "    \"\"\"\n",
    "    total = [] #Array of d(mu.i, mu.j)^2, aka running total to be averaged later\n",
    "    for i in range(k):\n",
    "        for j in range(i+1,k):\n",
    "            dist = np.linalg.norm(cents[i] - cents[j])\n",
    "            total += [dist**2] #add dist squared\n",
    "    return np.mean(total)\n",
    "\n",
    "def m_entropy(train, cents, k):\n",
    "    \"\"\"\n",
    "    Mean Entropy\n",
    "    input:\n",
    "        train: training data set, (n x 65, WITH CLASS AT END)\n",
    "        test: test data, to classify\n",
    "        cents (k by ncol(aka n_attributes))\n",
    "        k: num clusters\n",
    "    output:\n",
    "        ret: Mean entropy\n",
    "    \"\"\"\n",
    "    total = 0 #Running totl of entropy\n",
    "    \n",
    "    data_train = train[:,:-1] #strip label\n",
    "    bins = cluster(data_train, cents, k) #predicted cluster\n",
    "    label = train[:,64] #provided class label\n",
    "    bincount = [len(bins[bins[:] == x ]) for x in range(k)] #number of instances in each bin\n",
    "    bintotal = len(bins)\n",
    "    print(bincount, bintotal)\n",
    "    \n",
    "    #sum weighted(mean)-entropy per cluster\n",
    "    for i in range(k):\n",
    "        w = bincount[i]/bintotal #instances in cluster i / total instances\n",
    "        entropy = 0\n",
    "        for j in range(k): #instances in cluster i, that belong to class j\n",
    "            numj = sum(label[bins[:]==i] == j)\n",
    "            probj = numj / bincount[i]\n",
    "            if numj == 0:\n",
    "                continue\n",
    "            entropy += -(probj * math.log(probj, 2))\n",
    "        total += w*entropy\n",
    "    \n",
    "    return total\n",
    "\n",
    "#Drawing function\n",
    "def draw_digit(data):\n",
    "    \"\"\"\n",
    "    input:\n",
    "        vector of grayscaled pixel values\n",
    "    output: image of (sqrt(vector) by sqrt(vector) pixels)\n",
    "    \"\"\"\n",
    "    size = int(len(data)**0.5)\n",
    "    print(size,\" by \", size)\n",
    "    img = np.reshape(data, (size, size))\n",
    "    #print(img)\n",
    "    pic = plt.imshow(img)\n",
    "    plt.show(pic)\n",
    "    return\n",
    "\n",
    "def classify(train, test, cents, k):\n",
    "    \"\"\"\n",
    "    Associates each cluster with the most frequent class contained within.\n",
    "    Assign each test point the class of the nearest cluster.\n",
    "    input:\n",
    "        train: training data set, (n x 65, WITH CLASS AT END)\n",
    "        test: test data, to classify\n",
    "        cents (k by ncol(aka n_attributes))\n",
    "        k: num clusters\n",
    "    output:\n",
    "        pred: predicted classes of the test_data\n",
    "        modes: cluster modes\n",
    "    \"\"\"\n",
    "    data_train = train[:,:-1] #strip label\n",
    "    bins = cluster(data_train, cents, k) #predicted label\n",
    "    #data_train = np.concatenate((data_train, bins.reshape(-1,1)), axis=1) #concat bin column to the right side (65th column)\n",
    "    modes = np.zeros(k)\n",
    "    pred = np.zeros(len(test)) #Predicted classes of test data\n",
    "    \n",
    "    for i in range(len(cents)):\n",
    "        if np.sum(cents[i]) == 0:\n",
    "            continue\n",
    "        #train_cent_i = train[data_train[:,64]==i] #all training data labels, of cluster = i\n",
    "        train_cent_i = train[bins==i]\n",
    "        real_labels = train_cent_i[:,64]\n",
    "        m = stats.mode(real_labels)\n",
    "#         print(\"m\")\n",
    "#         print(m[0])\n",
    "        modes[i] = m[0]\n",
    "    \n",
    "    data_test = test[:,:-1] #strip label\n",
    "    bins_test = cluster(data_test, cents, k)\n",
    "    pred = [modes[x] for x in bins_test]\n",
    "    \n",
    "    print(\"modes\", modes)\n",
    "    return pred, modes\n",
    "\n",
    "#****** CLASSIFICATION and METRICS *******************\n",
    "#MSE\n",
    "avg_mses = []\n",
    "for i in range(cents_5.shape[2]):\n",
    "    avg_mses += [avg_mse(train, cents_5[:,:,i], k)]\n",
    "\n",
    "best_ind = np.argmin(avg_mses)\n",
    "best_cents = cents_5[:,:,best_ind]\n",
    "\n",
    "print(\"avg mses:\", avg_mses)\n",
    "print(\"best avg_mse = \",best_ind,\"@ \", avg_mses[best_ind])\n",
    "\n",
    "#Mean Square Separation\n",
    "my_mss = mss(best_cents, k)\n",
    "print(\"mss: \", my_mss)\n",
    "\n",
    "#Mean Entropy\n",
    "my_ent = m_entropy(traindata, best_cents, k)\n",
    "print(\"mean entropy: \", my_ent)\n",
    "\n",
    "#Classify\n",
    "my_pred, my_modes = classify(traindata,testdata,best_cents,k)\n",
    "\n",
    "#Accuracy\n",
    "accuracy = np.sum(my_pred == testdata[:,64]) / len(my_pred)\n",
    "print(\"accuracy = \" + str(accuracy))\n",
    "\n",
    "\n",
    "#Confusion matrix\n",
    "cm = confusion_matrix(testdata[:,64], my_pred)\n",
    "print(\"confusion matrix (digits 0-9)\")\n",
    "print(cm)\n",
    "\n",
    "#Visualize non-empty clusters\n",
    "for i in range(len(best_cents)):\n",
    "    if sum(best_cents[i]) == 0:\n",
    "        continue\n",
    "    print(\"cluster \", i, \" mode = \", my_modes[i])\n",
    "    draw_digit(best_cents[i])\n"
   ]
  },
  {
   "cell_type": "markdown",
   "metadata": {},
   "source": [
    "## Experiment 1 Discussion\n",
    "The best average MSE was 643, MSS was 1302, and mean entropy was 0.967. Accuracy on the test data was 0.74 -- a decent result given we have ten classes.\n",
    "\n",
    "We see in the modes that the digit \"2\" is represented twice, but at the cost of the digit \"9\" not being represented at all. This is reflected in the confusion matrix (zero 9's predicted). Using the cluster average values, we can visualize each cluster as seen above, and for the most part we can match the images with their associated cluster modes.\n",
    "\n",
    "Interestingly enough, the accuracy was higher when choosing the best run based on Mean-error, rather than mean-square-error when we forgot to square the distance in the MSE function originally. This may suggest a couple of outliers cause the best MSE to differ from the best ME, as squaring accentuates points further from their cluster centers. The accuracy was ~79% when choosing run_index = 3 (whereas the MSE chose run_index = 0). We will note that index=3 was the second best still when using squared-error.\n",
    "\n",
    "# Experiment 2\n",
    "We repeat experiment 1, except with 30 clusters.\n",
    "k = 30"
   ]
  },
  {
   "cell_type": "code",
   "execution_count": 149,
   "metadata": {},
   "outputs": [
    {
     "name": "stdout",
     "output_type": "stream",
     "text": [
      "iterations: 29\n",
      "iterations: 29\n",
      "iterations: 33\n",
      "iterations: 26\n",
      "iterations: 30\n"
     ]
    }
   ],
   "source": [
    "k2 = 30\n",
    "train = traindata[:,:-1] #without labels\n",
    "\n",
    "cents_5_e2 = run_mult(train, k2, 5)"
   ]
  },
  {
   "cell_type": "code",
   "execution_count": 151,
   "metadata": {},
   "outputs": [
    {
     "name": "stdout",
     "output_type": "stream",
     "text": [
      "avg mses: [483.88289373479336, 478.2082203520066, 491.0342002562123, 479.78682583118916, 477.0359078266181]\n",
      "best avg_mse =  4 @  477.0359078266181\n",
      "mss:  1550.3181302871806\n",
      "[73, 63, 115, 188, 194, 90, 131, 97, 65, 186, 125, 143, 68, 89, 127, 109, 103, 95, 136, 222, 100, 107, 90, 84, 161, 101, 102, 152, 180, 327] 3823\n",
      "mean entropy:  0.3533753677463645\n",
      "modes [2. 9. 6. 7. 0. 1. 1. 9. 4. 7. 5. 9. 6. 2. 5. 8. 1. 2. 2. 8. 5. 4. 1. 4.\n",
      " 9. 6. 6. 4. 0. 3.]\n",
      "accuracy = 0.9087367835281024\n",
      "confusion matrix (digits 0-9)\n",
      "[[177   0   0   0   1   0   0   0   0   0]\n",
      " [  0 162  13   1   0   1   2   0   0   3]\n",
      " [  0   1 174   0   0   0   0   2   0   0]\n",
      " [  0   0   2 136   0   3   0   6  10  26]\n",
      " [  0   6   0   0 173   0   1   0   0   1]\n",
      " [  0   0   0   0   1 174   0   0   0   7]\n",
      " [  0   3   0   0   0   1 175   0   2   0]\n",
      " [  0   0   0   0   7   0   0 159   2  11]\n",
      " [  0  20   1   1   2   2   1   1 137   9]\n",
      " [  1   0   0   4   7   1   0   0   1 166]]\n",
      "cluster  0  mode =  2.0\n",
      "8  by  8\n"
     ]
    },
    {
     "data": {
      "image/png": "[encoded data removed]",
      "text/plain": [
       "<Figure size 432x288 with 1 Axes>"
      ]
     },
     "metadata": {
      "needs_background": "light"
     },
     "output_type": "display_data"
    },
    {
     "name": "stdout",
     "output_type": "stream",
     "text": [
      "cluster  1  mode =  9.0\n",
      "8  by  8\n"
     ]
    },
    {
     "data": {
      "image/png": "[encoded data removed]",
      "text/plain": [
       "<Figure size 432x288 with 1 Axes>"
      ]
     },
     "metadata": {
      "needs_background": "light"
     },
     "output_type": "display_data"
    },
    {
     "name": "stdout",
     "output_type": "stream",
     "text": [
      "cluster  2  mode =  6.0\n",
      "8  by  8\n"
     ]
    },
    {
     "data": {
      "image/png": "[encoded data removed]",
      "text/plain": [
       "<Figure size 432x288 with 1 Axes>"
      ]
     },
     "metadata": {
      "needs_background": "light"
     },
     "output_type": "display_data"
    },
    {
     "name": "stdout",
     "output_type": "stream",
     "text": [
      "cluster  3  mode =  7.0\n",
      "8  by  8\n"
     ]
    },
    {
     "data": {
      "image/png": "[encoded data removed]",
      "text/plain": [
       "<Figure size 432x288 with 1 Axes>"
      ]
     },
     "metadata": {
      "needs_background": "light"
     },
     "output_type": "display_data"
    },
    {
     "name": "stdout",
     "output_type": "stream",
     "text": [
      "cluster  4  mode =  0.0\n",
      "8  by  8\n"
     ]
    },
    {
     "data": {
      "image/png": "[encoded data removed]",
      "text/plain": [
       "<Figure size 432x288 with 1 Axes>"
      ]
     },
     "metadata": {
      "needs_background": "light"
     },
     "output_type": "display_data"
    },
    {
     "name": "stdout",
     "output_type": "stream",
     "text": [
      "cluster  5  mode =  1.0\n",
      "8  by  8\n"
     ]
    },
    {
     "data": {
      "image/png": "[encoded data removed]",
      "text/plain": [
       "<Figure size 432x288 with 1 Axes>"
      ]
     },
     "metadata": {
      "needs_background": "light"
     },
     "output_type": "display_data"
    },
    {
     "name": "stdout",
     "output_type": "stream",
     "text": [
      "cluster  6  mode =  1.0\n",
      "8  by  8\n"
     ]
    },
    {
     "data": {
      "image/png": "[encoded data removed]",
      "text/plain": [
       "<Figure size 432x288 with 1 Axes>"
      ]
     },
     "metadata": {
      "needs_background": "light"
     },
     "output_type": "display_data"
    },
    {
     "name": "stdout",
     "output_type": "stream",
     "text": [
      "cluster  7  mode =  9.0\n",
      "8  by  8\n"
     ]
    },
    {
     "data": {
      "image/png": "[encoded data removed]",
      "text/plain": [
       "<Figure size 432x288 with 1 Axes>"
      ]
     },
     "metadata": {
      "needs_background": "light"
     },
     "output_type": "display_data"
    },
    {
     "name": "stdout",
     "output_type": "stream",
     "text": [
      "cluster  8  mode =  4.0\n",
      "8  by  8\n"
     ]
    },
    {
     "data": {
      "image/png": "[encoded data removed]",
      "text/plain": [
       "<Figure size 432x288 with 1 Axes>"
      ]
     },
     "metadata": {
      "needs_background": "light"
     },
     "output_type": "display_data"
    },
    {
     "name": "stdout",
     "output_type": "stream",
     "text": [
      "cluster  9  mode =  7.0\n",
      "8  by  8\n"
     ]
    },
    {
     "data": {
      "image/png": "[encoded data removed]",
      "text/plain": [
       "<Figure size 432x288 with 1 Axes>"
      ]
     },
     "metadata": {
      "needs_background": "light"
     },
     "output_type": "display_data"
    },
    {
     "name": "stdout",
     "output_type": "stream",
     "text": [
      "cluster  10  mode =  5.0\n",
      "8  by  8\n"
     ]
    },
    {
     "data": {
      "image/png": "[encoded data removed]",
      "text/plain": [
       "<Figure size 432x288 with 1 Axes>"
      ]
     },
     "metadata": {
      "needs_background": "light"
     },
     "output_type": "display_data"
    },
    {
     "name": "stdout",
     "output_type": "stream",
     "text": [
      "cluster  11  mode =  9.0\n",
      "8  by  8\n"
     ]
    },
    {
     "data": {
      "image/png": "[encoded data removed]",
      "text/plain": [
       "<Figure size 432x288 with 1 Axes>"
      ]
     },
     "metadata": {
      "needs_background": "light"
     },
     "output_type": "display_data"
    },
    {
     "name": "stdout",
     "output_type": "stream",
     "text": [
      "cluster  12  mode =  6.0\n",
      "8  by  8\n"
     ]
    },
    {
     "data": {
      "image/png": "[encoded data removed]",
      "text/plain": [
       "<Figure size 432x288 with 1 Axes>"
      ]
     },
     "metadata": {
      "needs_background": "light"
     },
     "output_type": "display_data"
    },
    {
     "name": "stdout",
     "output_type": "stream",
     "text": [
      "cluster  13  mode =  2.0\n",
      "8  by  8\n"
     ]
    },
    {
     "data": {
      "image/png": "[encoded data removed]",
      "text/plain": [
       "<Figure size 432x288 with 1 Axes>"
      ]
     },
     "metadata": {
      "needs_background": "light"
     },
     "output_type": "display_data"
    },
    {
     "name": "stdout",
     "output_type": "stream",
     "text": [
      "cluster  14  mode =  5.0\n",
      "8  by  8\n"
     ]
    },
    {
     "data": {
      "image/png": "[encoded data removed]",
      "text/plain": [
       "<Figure size 432x288 with 1 Axes>"
      ]
     },
     "metadata": {
      "needs_background": "light"
     },
     "output_type": "display_data"
    },
    {
     "name": "stdout",
     "output_type": "stream",
     "text": [
      "cluster  15  mode =  8.0\n",
      "8  by  8\n"
     ]
    },
    {
     "data": {
      "image/png": "[encoded data removed]",
      "text/plain": [
       "<Figure size 432x288 with 1 Axes>"
      ]
     },
     "metadata": {
      "needs_background": "light"
     },
     "output_type": "display_data"
    },
    {
     "name": "stdout",
     "output_type": "stream",
     "text": [
      "cluster  16  mode =  1.0\n",
      "8  by  8\n"
     ]
    },
    {
     "data": {
      "image/png": "[encoded data removed]",
      "text/plain": [
       "<Figure size 432x288 with 1 Axes>"
      ]
     },
     "metadata": {
      "needs_background": "light"
     },
     "output_type": "display_data"
    },
    {
     "name": "stdout",
     "output_type": "stream",
     "text": [
      "cluster  17  mode =  2.0\n",
      "8  by  8\n"
     ]
    },
    {
     "data": {
      "image/png": "[encoded data removed]",
      "text/plain": [
       "<Figure size 432x288 with 1 Axes>"
      ]
     },
     "metadata": {
      "needs_background": "light"
     },
     "output_type": "display_data"
    },
    {
     "name": "stdout",
     "output_type": "stream",
     "text": [
      "cluster  18  mode =  2.0\n",
      "8  by  8\n"
     ]
    },
    {
     "data": {
      "image/png": "[encoded data removed]",
      "text/plain": [
       "<Figure size 432x288 with 1 Axes>"
      ]
     },
     "metadata": {
      "needs_background": "light"
     },
     "output_type": "display_data"
    },
    {
     "name": "stdout",
     "output_type": "stream",
     "text": [
      "cluster  19  mode =  8.0\n",
      "8  by  8\n"
     ]
    },
    {
     "data": {
      "image/png": "[encoded data removed]",
      "text/plain": [
       "<Figure size 432x288 with 1 Axes>"
      ]
     },
     "metadata": {
      "needs_background": "light"
     },
     "output_type": "display_data"
    },
    {
     "name": "stdout",
     "output_type": "stream",
     "text": [
      "cluster  20  mode =  5.0\n",
      "8  by  8\n"
     ]
    },
    {
     "data": {
      "image/png": "[encoded data removed]",
      "text/plain": [
       "<Figure size 432x288 with 1 Axes>"
      ]
     },
     "metadata": {
      "needs_background": "light"
     },
     "output_type": "display_data"
    },
    {
     "name": "stdout",
     "output_type": "stream",
     "text": [
      "cluster  21  mode =  4.0\n",
      "8  by  8\n"
     ]
    },
    {
     "data": {
      "image/png": "[encoded data removed]",
      "text/plain": [
       "<Figure size 432x288 with 1 Axes>"
      ]
     },
     "metadata": {
      "needs_background": "light"
     },
     "output_type": "display_data"
    },
    {
     "name": "stdout",
     "output_type": "stream",
     "text": [
      "cluster  22  mode =  1.0\n",
      "8  by  8\n"
     ]
    },
    {
     "data": {
      "image/png": "[encoded data removed]",
      "text/plain": [
       "<Figure size 432x288 with 1 Axes>"
      ]
     },
     "metadata": {
      "needs_background": "light"
     },
     "output_type": "display_data"
    },
    {
     "name": "stdout",
     "output_type": "stream",
     "text": [
      "cluster  23  mode =  4.0\n",
      "8  by  8\n"
     ]
    },
    {
     "data": {
      "image/png": "[encoded data removed]",
      "text/plain": [
       "<Figure size 432x288 with 1 Axes>"
      ]
     },
     "metadata": {
      "needs_background": "light"
     },
     "output_type": "display_data"
    },
    {
     "name": "stdout",
     "output_type": "stream",
     "text": [
      "cluster  24  mode =  9.0\n",
      "8  by  8\n"
     ]
    },
    {
     "data": {
      "image/png": "[encoded data removed]",
      "text/plain": [
       "<Figure size 432x288 with 1 Axes>"
      ]
     },
     "metadata": {
      "needs_background": "light"
     },
     "output_type": "display_data"
    },
    {
     "name": "stdout",
     "output_type": "stream",
     "text": [
      "cluster  25  mode =  6.0\n",
      "8  by  8\n"
     ]
    },
    {
     "data": {
      "image/png": "[encoded data removed]",
      "text/plain": [
       "<Figure size 432x288 with 1 Axes>"
      ]
     },
     "metadata": {
      "needs_background": "light"
     },
     "output_type": "display_data"
    },
    {
     "name": "stdout",
     "output_type": "stream",
     "text": [
      "cluster  26  mode =  6.0\n",
      "8  by  8\n"
     ]
    },
    {
     "data": {
      "image/png": "[encoded data removed]",
      "text/plain": [
       "<Figure size 432x288 with 1 Axes>"
      ]
     },
     "metadata": {
      "needs_background": "light"
     },
     "output_type": "display_data"
    },
    {
     "name": "stdout",
     "output_type": "stream",
     "text": [
      "cluster  27  mode =  4.0\n",
      "8  by  8\n"
     ]
    },
    {
     "data": {
      "image/png": "[encoded data removed]",
      "text/plain": [
       "<Figure size 432x288 with 1 Axes>"
      ]
     },
     "metadata": {
      "needs_background": "light"
     },
     "output_type": "display_data"
    },
    {
     "name": "stdout",
     "output_type": "stream",
     "text": [
      "cluster  28  mode =  0.0\n",
      "8  by  8\n"
     ]
    },
    {
     "data": {
      "image/png": "[encoded data removed]",
      "text/plain": [
       "<Figure size 432x288 with 1 Axes>"
      ]
     },
     "metadata": {
      "needs_background": "light"
     },
     "output_type": "display_data"
    },
    {
     "name": "stdout",
     "output_type": "stream",
     "text": [
      "cluster  29  mode =  3.0\n",
      "8  by  8\n"
     ]
    },
    {
     "data": {
      "image/png": "[encoded data removed]",
      "text/plain": [
       "<Figure size 432x288 with 1 Axes>"
      ]
     },
     "metadata": {
      "needs_background": "light"
     },
     "output_type": "display_data"
    }
   ],
   "source": [
    "#****** CLASSIFICATION and METRICS *******************\n",
    "#MSE\n",
    "avg_mses = []\n",
    "for i in range(cents_5_e2.shape[2]):\n",
    "    avg_mses += [avg_mse(train, cents_5_e2[:,:,i], k2)]\n",
    "\n",
    "best_ind = np.argmin(avg_mses)\n",
    "best_cents = cents_5_e2[:,:,best_ind]\n",
    "\n",
    "print(\"avg mses:\", avg_mses)\n",
    "print(\"best avg_mse = \",best_ind,\"@ \", avg_mses[best_ind])\n",
    "\n",
    "#Mean Square Separation\n",
    "my_mss = mss(best_cents, k2)\n",
    "print(\"mss: \", my_mss)\n",
    "\n",
    "#Mean Entropy\n",
    "my_ent = m_entropy(traindata, best_cents, k2)\n",
    "print(\"mean entropy: \", my_ent)\n",
    "\n",
    "#Classify\n",
    "my_pred, my_modes = classify(traindata,testdata,best_cents,k2)\n",
    "\n",
    "#Accuracy\n",
    "accuracy = np.sum(my_pred == testdata[:,64]) / len(my_pred)\n",
    "print(\"accuracy = \" + str(accuracy))\n",
    "\n",
    "\n",
    "#Confusion matrix\n",
    "cm = confusion_matrix(testdata[:,64], my_pred)\n",
    "print(\"confusion matrix (digits 0-9)\")\n",
    "print(cm)\n",
    "\n",
    "#Visualize non-empty clusters\n",
    "for i in range(len(best_cents)):\n",
    "    if sum(best_cents[i]) == 0:\n",
    "        continue\n",
    "    print(\"cluster \", i, \" mode = \", my_modes[i])\n",
    "    draw_digit(best_cents[i])"
   ]
  },
  {
   "cell_type": "markdown",
   "metadata": {},
   "source": [
    "## Experiment 2 Discussion\n",
    "\n",
    "The best average MSE was 477, MSS was 1550, and mean entropy was 0.353. Accuracy on the test data was 0.908. All metrics show significant improvement with 30 clusters vs experiment 1's 10 clusters. MSE dropped (643 to 477), MSS increased (1302 to 1550), and entropy dropped (~1 to 0.35). We can safely conclude that 30 clusters outperformed the 10 clusters, with a significant accuracy jump from 0.75 to 0.91. \n",
    "\n",
    "We see in the modes that with more clusters, all digits are represented as least once. This is reflected in the confusion matrix, as we no longer have any 0's in the diagonal. In fact, all digits have multiple clusters assigned to them, with the lone exception of \"3\", which only got a single cluster. This could suggest the number \"3\" is the most distinct, with fewer variations in writing styles, whereas we can see in the visualization for clusters 5 & 6 that the digit \"1\" can be written either as a solid vertical line (cluster 5), or as a line with the top part bent (cluster 6). The visualizations seem slightly clearer as well, as a result of the lower average entropy.\n"
   ]
  },
  {
   "cell_type": "code",
   "execution_count": 79,
   "metadata": {},
   "outputs": [
    {
     "name": "stdout",
     "output_type": "stream",
     "text": [
      "[[1 2 3]\n",
      " [2 3 4]\n",
      " [3 4 5]]\n",
      "[1 5 2]\n",
      "[[ 0 -3  1]\n",
      " [ 1 -2  2]\n",
      " [ 2 -1  3]]\n",
      "[3.16227766 3.         3.74165739]\n",
      "[[1]\n",
      " [5]\n",
      " [2]]\n",
      "[[1 2 3 1]\n",
      " [2 3 4 5]\n",
      " [3 4 5 2]]\n",
      "[[1 2 3]\n",
      " [2 3 4]\n",
      " [3 4 5]\n",
      " [1 5 2]]\n",
      "[0 0 0]\n",
      "3\n",
      "[[11  2 13]\n",
      " [ 2  3  4]\n",
      " [ 3  4  5]]\n",
      "[[1.1 0.2 1.3]\n",
      " [1.  1.5 2. ]\n",
      " [3.  4.  5. ]]\n",
      "[[11  2]\n",
      " [ 2  3]\n",
      " [ 3  4]]\n"
     ]
    }
   ],
   "source": [
    "#MISC TESTING GROUND AND RESOURCES USED\n",
    "\n",
    "a = np.array([[1,2,3],[2,3,4],[3,4,5]])\n",
    "print(a)\n",
    "b = np.array([1,5,2])\n",
    "print(b)\n",
    "c = a-b\n",
    "print(c)\n",
    "#https://stackoverflow.com/questions/7741878/how-to-apply-numpy-linalg-norm-to-each-row-of-a-matrix\n",
    "#https://docs.scipy.org/doc/numpy/reference/generated/numpy.concatenate.html\n",
    "print(np.linalg.norm(c, axis = 1))\n",
    "print(b.reshape(-1,1))\n",
    "print(np.concatenate((a, b.reshape(-1,1)), axis=1))\n",
    "print(np.vstack([a,b]))\n",
    "\n",
    "#https://stackoverflow.com/questions/22732589/concatenating-empty-array-in-numpy\n",
    "#e = []\n",
    "#print(np.concatenate((e,a), axis = 1))\n",
    "\n",
    "print(np.argmin(a, axis=1))\n",
    "\n",
    "print(b.shape[0])\n",
    "\n",
    "a[0] += [10, 0, 10]\n",
    "print(a)\n",
    "print(a/np.array([10, 2, 1]).reshape(-1,1))\n",
    "print(a[:,:-1])"
   ]
  },
  {
   "cell_type": "code",
   "execution_count": 140,
   "metadata": {},
   "outputs": [
    {
     "name": "stdout",
     "output_type": "stream",
     "text": [
      "[1 2]\n",
      "[1 2]\n",
      "[1 0]\n",
      "[[1 2]\n",
      " [2 3]\n",
      " [4 2]]\n",
      "select rows by val [[1 2]\n",
      " [4 2]]\n",
      "[1, 2]\n",
      "3\n",
      "list comprehension [11, 15, 11, 16]\n",
      "norm 7.810249675906654\n",
      "[ 1 25  1 36]\n",
      "2\n"
     ]
    }
   ],
   "source": [
    "#Array deep copy check\n",
    "a = np.array([1, 2])\n",
    "b = a\n",
    "print(b)\n",
    "a = np.array([2, 3])\n",
    "print(b)\n",
    "\n",
    "b[b==2] = 0\n",
    "print(b)\n",
    "#Select rows based on val\n",
    "c = np.array([[1,2],[2,3],[4,2]])\n",
    "print(c)\n",
    "d = c[c[:,1]==2]\n",
    "print(\"select rows by val\", d)\n",
    "\n",
    "e = []\n",
    "e += [1]\n",
    "e += [2]\n",
    "print(e)\n",
    "print(c.shape[0])\n",
    "\n",
    "#mode\n",
    "#https://stackoverflow.com/questions/16330831/most-efficient-way-to-find-mode-in-numpy-array\n",
    "\n",
    "\n",
    "#Array A1 contains indicies into array A2\n",
    "#List comprehension\n",
    "a1 = np.array([1, 5, 1, 6])\n",
    "a2 = np.array([10, 11, 12, 13, 14, 15, 16])\n",
    "b1 = [a2[x] for x in a1]\n",
    "print(\"list comprehension\", b1)\n",
    "\n",
    "#dist calc\n",
    "c1 = np.array([5, 5])\n",
    "c2 = np.array([10, 11])\n",
    "d1 = np.linalg.norm(c1-c2)\n",
    "print(\"norm\", d1)\n",
    "print(a1**2)\n",
    "print(sum(a1==1))"
   ]
  },
  {
   "cell_type": "code",
   "execution_count": null,
   "metadata": {},
   "outputs": [],
   "source": []
  }
 ],
 "metadata": {
  "kernelspec": {
   "display_name": "Python 3",
   "language": "python",
   "name": "python3"
  },
  "language_info": {
   "codemirror_mode": {
    "name": "ipython",
    "version": 3
   },
   "file_extension": ".py",
   "mimetype": "text/x-python",
   "name": "python",
   "nbconvert_exporter": "python",
   "pygments_lexer": "ipython3",
   "version": "3.5.2"
  }
 },
 "nbformat": 4,
 "nbformat_minor": 2
}
