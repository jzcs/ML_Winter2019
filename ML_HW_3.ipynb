{
 "cells": [
  {
   "cell_type": "markdown",
   "metadata": {},
   "source": [
    "# Homework 3: SVMs and Feature Selection\n",
    "### Due Tuesday Feb 12 5 PM\n",
    "\n",
    "In this assignment, we use the UCI spam email database (https://archive.ics.uci.edu/ml/datasets/Spambase) and analyse it using SVMs. As Python is our language of choice, we will be using the \"scikit-learn\" package which includes SVM functionality. \n",
    "\n",
    "Referencing:\n",
    "https://stackabuse.com/implementing-svm-and-kernel-svm-with-pythons-scikit-learn/\n",
    "https://stackoverflow.com/questions/13187778/convert-pandas-dataframe-to-numpy-array\n",
    "https://stackoverflow.com/questions/6710684/remove-one-column-for-a-numpy-array\n",
    "\n",
    "## Experiment 1: Linear SVM\n"
   ]
  },
  {
   "cell_type": "code",
   "execution_count": 61,
   "metadata": {},
   "outputs": [],
   "source": [
    "import pandas as pd\n",
    "import numpy as np  \n",
    "import matplotlib.pyplot as plt\n",
    "from sklearn import preprocessing\n",
    "from sklearn.model_selection import train_test_split\n",
    "from sklearn.svm import SVC\n",
    "from sklearn.metrics import (classification_report, confusion_matrix,\n",
    "roc_curve, auc, accuracy_score, precision_score, recall_score)"
   ]
  },
  {
   "cell_type": "code",
   "execution_count": 62,
   "metadata": {},
   "outputs": [
    {
     "name": "stdout",
     "output_type": "stream",
     "text": [
      "(4601, 58)\n",
      "[  0.      0.64    0.64    0.      0.32    0.      0.      0.      0.\n",
      "   0.      0.      0.64    0.      0.      0.      0.32    0.      1.29\n",
      "   1.93    0.      0.96    0.      0.      0.      0.      0.      0.\n",
      "   0.      0.      0.      0.      0.      0.      0.      0.      0.\n",
      "   0.      0.      0.      0.      0.      0.      0.      0.      0.\n",
      "   0.      0.      0.      0.      0.      0.      0.778   0.      0.\n",
      "   3.756  61.    278.      1.   ]\n",
      "(4601, 57)\n",
      "(4601,)\n",
      "1813.0\n"
     ]
    }
   ],
   "source": [
    "#Load Data\n",
    "spamdata = pd.read_csv(\"spambase.data\", header = None)\n",
    "\n",
    "spamdata.head()\n",
    "spam = spamdata.values #to numpy matrix\n",
    "print(spam.shape)\n",
    "print(spam[0,:])\n",
    "\n",
    "#split data from labels\n",
    "data = spam[:,:-1] \n",
    "label = spam[:,-1]\n",
    "\n",
    "print(data.shape)\n",
    "print(label.shape)\n",
    "print(sum(label)) #1813 / 4601 spam labels"
   ]
  },
  {
   "cell_type": "code",
   "execution_count": 63,
   "metadata": {},
   "outputs": [
    {
     "name": "stdout",
     "output_type": "stream",
     "text": [
      "(2300, 57)\n",
      "906.0\n",
      "[ 0.     0.     0.     0.     0.     0.79   0.     0.     0.     0.\n",
      "  0.     0.     0.     0.     0.     0.     0.     0.     2.38   0.\n",
      "  0.     0.     0.     0.     0.     0.     0.     0.     0.     0.\n",
      "  0.     0.     0.     0.     0.     0.     0.     0.     0.     0.\n",
      "  0.     0.     0.     0.     0.     0.     0.     0.     0.     0.147\n",
      "  0.     0.     0.     0.     2.913 27.    67.   ]\n",
      "[6.000e-01 0.000e+00 3.600e-01 0.000e+00 1.440e+00 0.000e+00 0.000e+00\n",
      " 0.000e+00 2.400e-01 1.320e+00 7.200e-01 2.520e+00 6.000e-01 0.000e+00\n",
      " 0.000e+00 6.000e-01 2.400e-01 0.000e+00 4.440e+00 0.000e+00 1.800e+00\n",
      " 0.000e+00 7.200e-01 9.600e-01 0.000e+00 0.000e+00 0.000e+00 0.000e+00\n",
      " 0.000e+00 0.000e+00 0.000e+00 0.000e+00 0.000e+00 0.000e+00 0.000e+00\n",
      " 0.000e+00 0.000e+00 0.000e+00 0.000e+00 0.000e+00 0.000e+00 0.000e+00\n",
      " 0.000e+00 0.000e+00 1.200e-01 0.000e+00 0.000e+00 0.000e+00 0.000e+00\n",
      " 4.000e-02 0.000e+00 1.010e-01 2.020e-01 0.000e+00 3.548e+00 5.400e+01\n",
      " 4.790e+02]\n",
      "[-0.34069387 -0.17554379 -0.55534662 -0.0459726  -0.47237684  2.96154112\n",
      " -0.3105653  -0.26987945 -0.31601557 -0.34841242 -0.28810783 -0.64326408\n",
      " -0.31109343 -0.17212384 -0.18944502 -0.29394471 -0.30603049 -0.34663347\n",
      "  0.3923503  -0.19963846 -0.66547392 -0.1209597  -0.27576818 -0.20350949\n",
      " -0.31266604 -0.28744403 -0.22804699 -0.22027923 -0.17314042 -0.21732696\n",
      " -0.14051932 -0.13724505 -0.15793485 -0.14107845 -0.17548167 -0.24384046\n",
      " -0.3154893  -0.06369167 -0.20700257 -0.18175601 -0.12414853 -0.18105778\n",
      " -0.20748125 -0.13504151 -0.28365297 -0.19757009 -0.07949001 -0.09968396\n",
      " -0.15365885  0.03785058 -0.14166559 -0.29413121 -0.28092769 -0.12277575\n",
      " -0.05814271 -0.16311078 -0.33793115]\n",
      "[ 1.60887298 -0.17554379  0.13612256 -0.0459726   1.67868747 -0.37581536\n",
      " -0.3105653  -0.26987945  0.48497899  1.483876    3.30320995  2.42893438\n",
      "  1.78003629 -0.17212384 -0.18944502  0.36158809  0.20782146 -0.34663347\n",
      "  1.55140141 -0.19963846  0.78836166 -0.1209597   1.74410047  1.61903747\n",
      " -0.31266604 -0.28744403 -0.22804699 -0.22027923 -0.17314042 -0.21732696\n",
      " -0.14051932 -0.13724505 -0.15793485 -0.14107845 -0.17548167 -0.24384046\n",
      " -0.3154893  -0.06369167 -0.20700257 -0.18175601 -0.12414853 -0.18105778\n",
      " -0.20748125 -0.13504151 -0.17427827 -0.19757009 -0.07949001 -0.09968396\n",
      " -0.15365885 -0.40957863 -0.14166559 -0.1932632   0.48274327 -0.12277575\n",
      " -0.03993506  0.06631571  0.31335863]\n"
     ]
    }
   ],
   "source": [
    "# ******PREPROCESSING **********************************\n",
    "#Split training/test data\n",
    "X_train, X_test, y_train, y_test = train_test_split(data, label, test_size = 0.50, stratify = label) \n",
    "print(X_train.shape)\n",
    "print(sum(y_train)) #approx half of 1813 for equal split\n",
    "print(X_train[0,:])\n",
    "print(X_test[0,:])\n",
    "\n",
    "#Scale data by training set\n",
    "scaler = preprocessing.StandardScaler().fit(X_train)\n",
    "X_train_scaled = scaler.transform(X_train)\n",
    "X_test_scaled = scaler.transform(X_test)\n",
    "\n",
    "print(X_train_scaled[0,:])\n",
    "print(X_test_scaled[0,:])"
   ]
  },
  {
   "cell_type": "code",
   "execution_count": 64,
   "metadata": {},
   "outputs": [
    {
     "name": "stdout",
     "output_type": "stream",
     "text": [
      "865.0\n"
     ]
    }
   ],
   "source": [
    "#*** TRAINING ******************************\n",
    " \n",
    "svclassifier = SVC(kernel='linear') #linear SVC is faster\n",
    "\n",
    "svclassifier.fit(X_train_scaled, y_train)\n",
    "\n",
    "y_pred = svclassifier.predict(X_test_scaled)\n",
    "y_score = svclassifier.decision_function(X_test_scaled)\n",
    "print(sum(y_pred))"
   ]
  },
  {
   "cell_type": "code",
   "execution_count": 65,
   "metadata": {},
   "outputs": [
    {
     "name": "stdout",
     "output_type": "stream",
     "text": [
      "[[1328   66]\n",
      " [ 108  799]]\n",
      "              precision    recall  f1-score   support\n",
      "\n",
      "         0.0       0.92      0.95      0.94      1394\n",
      "         1.0       0.92      0.88      0.90       907\n",
      "\n",
      "   micro avg       0.92      0.92      0.92      2301\n",
      "   macro avg       0.92      0.92      0.92      2301\n",
      "weighted avg       0.92      0.92      0.92      2301\n",
      "\n",
      "accuracy 0.924380704041721\n",
      "precision 0.923699421965318\n",
      "recall 0.8809261300992283\n"
     ]
    }
   ],
   "source": [
    "#https://scikit-learn.org/stable/modules/generated/sklearn.metrics.classification_report.html\n",
    "print(confusion_matrix(y_test,y_pred))  \n",
    "print(classification_report(y_test,y_pred))\n",
    "#metrics.accuracy_score, precision_score, recall_score\n",
    "#https://stackoverflow.com/questions/31421413/how-to-compute-precision-recall-accuracy-and-f1-score-for-the-multiclass-case\n",
    "print(\"accuracy \"+ str(accuracy_score(y_test, y_pred)))\n",
    "print(\"precision \"+ str(precision_score(y_test, y_pred)))\n",
    "print(\"recall \"+ str(recall_score(y_test, y_pred)))"
   ]
  },
  {
   "cell_type": "code",
   "execution_count": 66,
   "metadata": {},
   "outputs": [
    {
     "data": {
      "image/png": "[encoded data removed]",
      "text/plain": [
       "<Figure size 432x288 with 1 Axes>"
      ]
     },
     "metadata": {
      "needs_background": "light"
     },
     "output_type": "display_data"
    }
   ],
   "source": [
    "# ROC Plot\n",
    "# https://stackoverflow.com/questions/25009284/how-to-plot-roc-curve-in-python\n",
    "# https://scikit-learn.org/stable/auto_examples/model_selection/plot_roc.html\n",
    "#https://stackoverflow.com/questions/38862419/how-to-plot-an-roc-curve-for-binary-valued-scores-using-scikit-learn\n",
    "    \n",
    "fpr, tpr, threshold = roc_curve(y_test, y_score)\n",
    "\n",
    "roc_auc = auc(fpr, tpr)\n",
    "\n",
    "plt.title('Receiver Operating Characteristic')\n",
    "plt.plot(fpr, tpr, 'b', label = 'AUC = %0.2f' % roc_auc)\n",
    "plt.legend(loc = 'lower right')\n",
    "plt.plot([0, 1], [0, 1],'r--')\n",
    "plt.xlim([0, 1])\n",
    "plt.ylim([0, 1])\n",
    "plt.ylabel('True Positive Rate')\n",
    "plt.xlabel('False Positive Rate')\n",
    "plt.show()"
   ]
  },
  {
   "cell_type": "markdown",
   "metadata": {},
   "source": [
    "## Experiment 2: Feature Selection\n",
    "\n",
    "Using the learned model from experiment 1, we then select the m features (2...57) with the highest |w_m| values, and train a linear SVM with only the selected features.\n",
    "\n",
    "https://stats.stackexchange.com/questions/39243/how-does-one-interpret-svm-feature-weights\n",
    "https://docs.scipy.org/doc/numpy-1.15.0/reference/generated/numpy.argsort.html"
   ]
  },
  {
   "cell_type": "code",
   "execution_count": 73,
   "metadata": {
    "scrolled": true
   },
   "outputs": [
    {
     "name": "stdout",
     "output_type": "stream",
     "text": [
      "[-4.66241163e-02 -3.93082202e-02 -3.10242994e-03  3.25350557e-01\n",
      "  2.60865391e-01  1.55341461e-01  5.85351333e-01  2.08086537e-01\n",
      "  1.84730805e-01 -2.37854280e-05 -1.07542322e-01 -3.92737458e-02\n",
      " -6.85566445e-02 -1.14615551e-01  5.61190418e-02  7.77660337e-01\n",
      "  4.01582791e-01  1.42259854e-01  1.26269229e-02  3.64701971e-01\n",
      "  1.76417508e-01  2.89799146e-02  6.35221901e-01  3.29061816e-01\n",
      " -1.84652898e+00 -5.48983664e-01 -3.03854785e+00  1.36602407e-01\n",
      " -6.51421855e-01 -1.43232264e-01 -1.01215787e+00  1.44259544e-01\n",
      " -1.70586074e-01  2.42241420e-01 -4.43198003e-01  1.38373354e-01\n",
      " -1.15571713e-01 -7.65313974e-02 -1.03168843e-01 -5.78097757e-02\n",
      " -7.59924467e-01 -4.82210917e-01 -4.38221176e-02 -6.77095514e-01\n",
      " -4.53734835e-01 -1.05740358e+00 -6.31025883e-02 -4.24122678e-01\n",
      " -7.95237501e-02 -3.86748969e-02 -6.09415446e-04  2.08106550e-01\n",
      "  9.12194303e-01  2.52982447e-01  9.77613202e-01  9.03722553e-01\n",
      "  5.71846439e-02]\n",
      "[26 24 45 30 54 52 55 15 40 43 28 22  6 25 41 44 34 47 16 19 23  3  4 53\n",
      " 33 51  7  8 20 32  5 31 29 17 35 27 36 13 10 38 48 37 12 46 39 56 14  0\n",
      " 42  1 11 49 21 18  2 50  9]\n"
     ]
    }
   ],
   "source": [
    "weights = svclassifier.coef_\n",
    "print(weights)\n",
    "w_orig = np.absolute(svclassifier.coef_) #absolute value for distance from 0\n",
    "w_argsort = np.argsort(w_orig) #max first\n",
    "w_argsort = w_argsort[0][::-1] #by reversing sort\n",
    "print(w_argsort)"
   ]
  },
  {
   "cell_type": "code",
   "execution_count": 106,
   "metadata": {},
   "outputs": [
    {
     "name": "stdout",
     "output_type": "stream",
     "text": [
      "(4601, 1)\n",
      "(4601, 2)\n",
      "3530.37 2528.27\n",
      "(4601, 3)\n",
      "3530.37 2528.27\n",
      "(4601, 4)\n",
      "3530.37 2528.27\n",
      "(4601, 5)\n",
      "3530.37 2528.27\n",
      "(4601, 6)\n",
      "3530.37 2528.27\n",
      "(4601, 7)\n",
      "3530.37 2528.27\n",
      "(4601, 8)\n",
      "3530.37 2528.27\n",
      "(4601, 9)\n",
      "3530.37 2528.27\n",
      "(4601, 10)\n",
      "3530.37 2528.27\n",
      "(4601, 11)\n",
      "3530.37 2528.27\n",
      "(4601, 12)\n",
      "3530.37 2528.27\n",
      "(4601, 13)\n",
      "3530.37 2528.27\n",
      "(4601, 14)\n",
      "3530.37 2528.27\n",
      "(4601, 15)\n",
      "3530.37 2528.27\n",
      "(4601, 16)\n",
      "3530.37 2528.27\n",
      "(4601, 17)\n",
      "3530.37 2528.27\n",
      "(4601, 18)\n",
      "3530.37 2528.27\n",
      "(4601, 19)\n",
      "3530.37 2528.27\n",
      "(4601, 20)\n",
      "3530.37 2528.27\n",
      "(4601, 21)\n",
      "3530.37 2528.27\n",
      "(4601, 22)\n",
      "3530.37 2528.27\n",
      "(4601, 23)\n",
      "3530.37 2528.27\n",
      "(4601, 24)\n",
      "3530.37 2528.27\n",
      "(4601, 25)\n",
      "3530.37 2528.27\n",
      "(4601, 26)\n",
      "3530.37 2528.27\n",
      "(4601, 27)\n",
      "3530.37 2528.27\n",
      "(4601, 28)\n",
      "3530.37 2528.27\n",
      "(4601, 29)\n",
      "3530.37 2528.27\n",
      "(4601, 30)\n",
      "3530.37 2528.27\n",
      "(4601, 31)\n",
      "3530.37 2528.27\n",
      "(4601, 32)\n",
      "3530.37 2528.27\n",
      "(4601, 33)\n",
      "3530.37 2528.27\n",
      "(4601, 34)\n",
      "3530.37 2528.27\n",
      "(4601, 35)\n",
      "3530.37 2528.27\n",
      "(4601, 36)\n",
      "3530.37 2528.27\n",
      "(4601, 37)\n",
      "3530.37 2528.27\n",
      "(4601, 38)\n",
      "3530.37 2528.27\n",
      "(4601, 39)\n",
      "3530.37 2528.27\n",
      "(4601, 40)\n",
      "3530.37 2528.27\n",
      "(4601, 41)\n",
      "3530.37 2528.27\n",
      "(4601, 42)\n",
      "3530.37 2528.27\n",
      "(4601, 43)\n",
      "3530.37 2528.27\n",
      "(4601, 44)\n",
      "3530.37 2528.27\n",
      "(4601, 45)\n",
      "3530.37 2528.27\n",
      "(4601, 46)\n",
      "3530.37 2528.27\n",
      "(4601, 47)\n",
      "3530.37 2528.27\n",
      "(4601, 48)\n",
      "3530.37 2528.27\n",
      "(4601, 49)\n",
      "3530.37 2528.27\n",
      "(4601, 50)\n",
      "3530.37 2528.27\n",
      "(4601, 51)\n",
      "3530.37 2528.27\n",
      "(4601, 52)\n",
      "3530.37 2528.27\n",
      "(4601, 53)\n",
      "3530.37 2528.27\n",
      "(4601, 54)\n",
      "3530.37 2528.27\n",
      "(4601, 55)\n",
      "3530.37 2528.27\n",
      "(4601, 56)\n",
      "3530.37 2528.27\n",
      "(4601, 57)\n",
      "3530.37 2528.27\n",
      "[0.6836158192090396, 0.7540199913081269, 0.7492394611038679, 0.8265971316818774, 0.8296392872664059, 0.8570186875271621, 0.8813559322033898, 0.8865710560625815, 0.8817905258583225, 0.8761408083441982, 0.8713602781399391, 0.8956975228161669, 0.9048239895697523, 0.9122120817036071, 0.9000434593654932, 0.9030856149500217, 0.9087353324641461, 0.903954802259887, 0.9117774880486745, 0.9078661451542808, 0.9156888309430682, 0.9217731421121251, 0.9161234245980009, 0.913515862668405, 0.9222077357670578, 0.9269882659713168, 0.9261190786614515, 0.9248152976966536, 0.9217731421121251, 0.9187309865275967, 0.9174272055627988, 0.9252498913515863, 0.9161234245980009, 0.914819643633203, 0.9248152976966536, 0.9139504563233377, 0.9178617992177314, 0.9274228596262495, 0.9109083007388092, 0.919600173837462, 0.9256844850065189, 0.9261190786614515, 0.9300304215558453, 0.9200347674923947, 0.930465015210778, 0.919600173837462, 0.9295958279009127, 0.9252498913515863, 0.9274228596262495, 0.9252498913515863, 0.930465015210778, 0.9343763581051716, 0.9256844850065189, 0.9213385484571925, 0.9256844850065189, 0.9217731421121251]\n"
     ]
    }
   ],
   "source": [
    "#split data from label\n",
    "#data = spam[:,:-1] \n",
    "label = spam[:,-1]\n",
    "n_feat = 57\n",
    "\n",
    "a = spam[:,w_argsort[0]] #start with top value\n",
    "a = a.reshape(-1,1)\n",
    "print(a.shape)\n",
    "acc = []\n",
    "for m in range(2,n_feat+1): #2 to 57\n",
    "    b = spam[:,w_argsort[m-1]].reshape(-1,1)\n",
    "    a = np.concatenate((a, b), axis=1)\n",
    "    print(a.shape)\n",
    "    #print(sum(a[:,0]), sum(a[:,1]))\n",
    "\n",
    "    data = a\n",
    "    \n",
    "    # ******PREPROCESSING **********************************\n",
    "    #Split training/test data\n",
    "    X_train, X_test, y_train, y_test = train_test_split(data, label, test_size = 0.50, stratify = label) \n",
    "\n",
    "    #Scale data by training set\n",
    "    scaler = preprocessing.StandardScaler().fit(X_train)\n",
    "    X_train_scaled = scaler.transform(X_train)\n",
    "    X_test_scaled = scaler.transform(X_test)\n",
    "    \n",
    "    #*** TRAINING ******************************\n",
    "    svclassifier = SVC(kernel='linear') #linear SVC is faster\n",
    "    svclassifier.fit(X_train_scaled, y_train)\n",
    "\n",
    "    y_pred = svclassifier.predict(X_test_scaled)\n",
    "    #y_score = svclassifier.decision_function(X_test_scaled)\n",
    "\n",
    "    acc.append(accuracy_score(y_test, y_pred))\n",
    "print(acc)"
   ]
  },
  {
   "cell_type": "code",
   "execution_count": 108,
   "metadata": {},
   "outputs": [
    {
     "name": "stdout",
     "output_type": "stream",
     "text": [
      "[2, 3, 4, 5, 6, 7, 8, 9, 10, 11, 12, 13, 14, 15, 16, 17, 18, 19, 20, 21, 22, 23, 24, 25, 26, 27, 28, 29, 30, 31, 32, 33, 34, 35, 36, 37, 38, 39, 40, 41, 42, 43, 44, 45, 46, 47, 48, 49, 50, 51, 52, 53, 54, 55, 56, 57]\n"
     ]
    },
    {
     "data": {
      "image/png": "[encoded data removed]",
      "text/plain": [
       "<Figure size 432x288 with 1 Axes>"
      ]
     },
     "metadata": {
      "needs_background": "light"
     },
     "output_type": "display_data"
    }
   ],
   "source": [
    "x_vals = range(2,n_feat+1)\n",
    "print(list(x_vals))\n",
    "plt.title('Feature Selection Accuracy vs number features')\n",
    "plt.plot(x_vals, acc, 'b', label = 'accuracy')\n",
    "plt.legend(loc = 'lower right')\n",
    "plt.ylim([0, 1])\n",
    "plt.xlim([2, n_feat+1])\n",
    "plt.ylabel('Accuracy')\n",
    "plt.xlabel('m, number features selected')\n",
    "plt.show()"
   ]
  },
  {
   "cell_type": "code",
   "execution_count": null,
   "metadata": {},
   "outputs": [],
   "source": []
  }
 ],
 "metadata": {
  "kernelspec": {
   "display_name": "Python 3",
   "language": "python",
   "name": "python3"
  },
  "language_info": {
   "codemirror_mode": {
    "name": "ipython",
    "version": 3
   },
   "file_extension": ".py",
   "mimetype": "text/x-python",
   "name": "python",
   "nbconvert_exporter": "python",
   "pygments_lexer": "ipython3",
   "version": "3.5.2"
  }
 },
 "nbformat": 4,
 "nbformat_minor": 2
}
