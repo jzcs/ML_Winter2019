{
 "cells": [
  {
   "cell_type": "markdown",
   "metadata": {},
   "source": [
    "# Homework 3: SVMs and Feature Selection\n",
    "### Due Tuesday Feb 12 5 PM\n",
    "\n",
    "In this assignment, we use the UCI spam email database (https://archive.ics.uci.edu/ml/datasets/Spambase) and analyse it using SVMs. As Python is our language of choice, we will be using the \"scikit-learn\" package which includes SVM functionality. \n",
    "\n",
    "Referencing:\n",
    "https://stackabuse.com/implementing-svm-and-kernel-svm-with-pythons-scikit-learn/\n",
    "https://stackoverflow.com/questions/13187778/convert-pandas-dataframe-to-numpy-array\n",
    "https://stackoverflow.com/questions/6710684/remove-one-column-for-a-numpy-array"
   ]
  },
  {
   "cell_type": "code",
   "execution_count": 32,
   "metadata": {},
   "outputs": [],
   "source": [
    "#import pandas as pd  \n",
    "import numpy as np  \n",
    "import matplotlib.pyplot as plt\n",
    "from sklearn import preprocessing\n",
    "from sklearn.model_selection import train_test_split\n",
    "from sklearn.svm import SVC\n",
    "from sklearn.metrics import classification_report, confusion_matrix  "
   ]
  },
  {
   "cell_type": "code",
   "execution_count": 25,
   "metadata": {},
   "outputs": [
    {
     "name": "stdout",
     "output_type": "stream",
     "text": [
      "(4601, 58)\n",
      "[  0.      0.64    0.64    0.      0.32    0.      0.      0.      0.\n",
      "   0.      0.      0.64    0.      0.      0.      0.32    0.      1.29\n",
      "   1.93    0.      0.96    0.      0.      0.      0.      0.      0.\n",
      "   0.      0.      0.      0.      0.      0.      0.      0.      0.\n",
      "   0.      0.      0.      0.      0.      0.      0.      0.      0.\n",
      "   0.      0.      0.      0.      0.      0.      0.778   0.      0.\n",
      "   3.756  61.    278.      1.   ]\n",
      "(4601, 57)\n",
      "(4601,)\n",
      "1813.0\n"
     ]
    }
   ],
   "source": [
    "#Load Data\n",
    "spamdata = pd.read_csv(\"spambase.data\", header = None)\n",
    "\n",
    "spamdata.head()\n",
    "spam = spamdata.values #to numpy matrix\n",
    "print(spam.shape)\n",
    "print(spam[0,:])\n",
    "\n",
    "#split data from labels\n",
    "data = spam[:,:-1] \n",
    "label = spam[:,-1]\n",
    "\n",
    "print(data.shape)\n",
    "print(label.shape)\n",
    "print(sum(label)) #1813 / 4601 spam labels"
   ]
  },
  {
   "cell_type": "code",
   "execution_count": 31,
   "metadata": {},
   "outputs": [
    {
     "name": "stdout",
     "output_type": "stream",
     "text": [
      "(2300, 57)\n",
      "906.0\n",
      "[ 0.     0.     0.     0.     0.9    0.     0.     0.     0.     0.\n",
      "  0.     0.     0.     0.     0.     0.     0.     0.     2.7    0.\n",
      "  0.9    0.     0.     0.     0.     0.     0.     0.     0.     0.\n",
      "  0.     0.     0.     0.     0.     0.     1.8    0.     0.     0.\n",
      "  0.     0.     1.8    0.     0.9    0.     0.     0.     0.     0.\n",
      "  0.     0.281  0.     0.     1.551 13.    76.   ]\n",
      "[3.300e-01 3.300e-01 9.900e-01 0.000e+00 0.000e+00 6.600e-01 0.000e+00\n",
      " 0.000e+00 0.000e+00 0.000e+00 0.000e+00 3.300e-01 0.000e+00 0.000e+00\n",
      " 0.000e+00 0.000e+00 0.000e+00 0.000e+00 2.650e+00 0.000e+00 3.300e-01\n",
      " 0.000e+00 0.000e+00 0.000e+00 1.990e+00 0.000e+00 0.000e+00 0.000e+00\n",
      " 0.000e+00 0.000e+00 0.000e+00 0.000e+00 0.000e+00 0.000e+00 0.000e+00\n",
      " 0.000e+00 0.000e+00 0.000e+00 0.000e+00 0.000e+00 3.300e-01 0.000e+00\n",
      " 0.000e+00 0.000e+00 3.300e-01 0.000e+00 0.000e+00 0.000e+00 0.000e+00\n",
      " 0.000e+00 0.000e+00 5.100e-02 0.000e+00 0.000e+00 1.786e+00 2.800e+01\n",
      " 1.340e+02]\n",
      "[-0.34154352 -0.16671423 -0.54442545 -0.05305835  0.81009098 -0.37203574\n",
      " -0.29328847 -0.26373385 -0.31139762 -0.34051994 -0.29455605 -0.63831504\n",
      " -0.30223714 -0.16558164 -0.18656159 -0.28381278 -0.33405986 -0.34487358\n",
      "  0.5682659  -0.18512884  0.09668151 -0.12290298 -0.28324081 -0.19903622\n",
      " -0.34396287 -0.29296387 -0.23354452 -0.25223389 -0.17087411 -0.23839554\n",
      " -0.15838792 -0.15595605 -0.20249351 -0.1569039  -0.18897003 -0.26105443\n",
      "  3.86878275 -0.05760201 -0.20803325 -0.18742616 -0.10589941 -0.18369791\n",
      "  7.86931895 -0.14060721  0.55307746 -0.18631606 -0.07433225 -0.09758962\n",
      " -0.16716603 -0.46825302 -0.16198907  0.010241   -0.31696094 -0.15796466\n",
      " -0.13875249 -0.17029911 -0.32284564]\n",
      "[ 0.69215746  0.07829235  1.38203301 -0.05305835 -0.46917569  2.12962649\n",
      " -0.29328847 -0.26373385 -0.31139762 -0.34051994 -0.29455605 -0.24277505\n",
      " -0.30223714 -0.16558164 -0.18656159 -0.28381278 -0.33405986 -0.34487358\n",
      "  0.54053055 -0.18512884 -0.39637275 -0.12290298 -0.28324081 -0.19903622\n",
      "  0.97432961 -0.29296387 -0.23354452 -0.25223389 -0.17087411 -0.23839554\n",
      " -0.15838792 -0.15595605 -0.20249351 -0.1569039  -0.18897003 -0.26105443\n",
      " -0.31425309 -0.05760201 -0.20803325 -0.18742616  0.86168999 -0.18369791\n",
      " -0.20693949 -0.14060721  0.00819608 -0.18631606 -0.07433225 -0.09758962\n",
      " -0.16716603 -0.46825302 -0.16198907 -0.2430666  -0.31696094 -0.15796466\n",
      " -0.12956872 -0.108395   -0.23322527]\n"
     ]
    }
   ],
   "source": [
    "# ******PREPROCESSING **********************************\n",
    "#Split training/test data\n",
    "X_train, X_test, y_train, y_test = train_test_split(data, label, test_size = 0.50, stratify = label) \n",
    "print(X_train.shape)\n",
    "print(sum(y_train)) #approx half of 1813 for equal split\n",
    "print(X_train[0,:])\n",
    "print(X_test[0,:])\n",
    "\n",
    "#Scale data by training set\n",
    "scaler = preprocessing.StandardScaler().fit(X_train)\n",
    "X_train_scaled = scaler.transform(X_train)\n",
    "X_test_scaled = scaler.transform(X_test)\n",
    "\n",
    "print(X_train_scaled[0,:])\n",
    "print(X_test_scaled[0,:])"
   ]
  },
  {
   "cell_type": "code",
   "execution_count": null,
   "metadata": {},
   "outputs": [],
   "source": [
    "#*** TRAINING ******************************\n",
    " \n",
    "svclassifier = SVC(kernel='linear')  \n",
    "svclassifier.fit(X_train, y_train)\n",
    "\n",
    "y_pred = svclassifier.predict(X_test)"
   ]
  },
  {
   "cell_type": "code",
   "execution_count": null,
   "metadata": {},
   "outputs": [],
   "source": [
    "print(confusion_matrix(y_test,y_pred))  \n",
    "print(classification_report(y_test,y_pred))"
   ]
  },
  {
   "cell_type": "code",
   "execution_count": null,
   "metadata": {},
   "outputs": [],
   "source": []
  }
 ],
 "metadata": {
  "kernelspec": {
   "display_name": "Python 3",
   "language": "python",
   "name": "python3"
  },
  "language_info": {
   "codemirror_mode": {
    "name": "ipython",
    "version": 3
   },
   "file_extension": ".py",
   "mimetype": "text/x-python",
   "name": "python",
   "nbconvert_exporter": "python",
   "pygments_lexer": "ipython3",
   "version": "3.5.2"
  }
 },
 "nbformat": 4,
 "nbformat_minor": 2
}
