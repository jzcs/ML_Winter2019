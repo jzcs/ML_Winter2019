{
 "cells": [
  {
   "cell_type": "markdown",
   "metadata": {},
   "source": [
    "# Homework 3: SVMs and Feature Selection\n",
    "### Due Tuesday Feb 12 5 PM\n",
    "\n",
    "In this assignment, we use the UCI spam email database (https://archive.ics.uci.edu/ml/datasets/Spambase) and analyse it using SVMs. As Python is our language of choice, we will be using the \"scikit-learn\" package which includes SVM functionality. \n",
    "\n",
    "Referencing:\n",
    "https://stackabuse.com/implementing-svm-and-kernel-svm-with-pythons-scikit-learn/\n",
    "https://stackoverflow.com/questions/13187778/convert-pandas-dataframe-to-numpy-array\n",
    "https://stackoverflow.com/questions/6710684/remove-one-column-for-a-numpy-array\n",
    "\n",
    "## Experiment 1: Linear SVM\n"
   ]
  },
  {
   "cell_type": "code",
   "execution_count": 6,
   "metadata": {},
   "outputs": [],
   "source": [
    "import pandas as pd\n",
    "import numpy as np  \n",
    "import matplotlib.pyplot as plt\n",
    "from sklearn import preprocessing\n",
    "from sklearn.model_selection import train_test_split\n",
    "from sklearn.svm import SVC\n",
    "from sklearn.metrics import classification_report, confusion_matrix, roc_curve, auc"
   ]
  },
  {
   "cell_type": "code",
   "execution_count": 2,
   "metadata": {},
   "outputs": [
    {
     "name": "stdout",
     "output_type": "stream",
     "text": [
      "(4601, 58)\n",
      "[  0.      0.64    0.64    0.      0.32    0.      0.      0.      0.\n",
      "   0.      0.      0.64    0.      0.      0.      0.32    0.      1.29\n",
      "   1.93    0.      0.96    0.      0.      0.      0.      0.      0.\n",
      "   0.      0.      0.      0.      0.      0.      0.      0.      0.\n",
      "   0.      0.      0.      0.      0.      0.      0.      0.      0.\n",
      "   0.      0.      0.      0.      0.      0.      0.778   0.      0.\n",
      "   3.756  61.    278.      1.   ]\n",
      "(4601, 57)\n",
      "(4601,)\n",
      "1813.0\n"
     ]
    }
   ],
   "source": [
    "#Load Data\n",
    "spamdata = pd.read_csv(\"spambase.data\", header = None)\n",
    "\n",
    "spamdata.head()\n",
    "spam = spamdata.values #to numpy matrix\n",
    "print(spam.shape)\n",
    "print(spam[0,:])\n",
    "\n",
    "#split data from labels\n",
    "data = spam[:,:-1] \n",
    "label = spam[:,-1]\n",
    "\n",
    "print(data.shape)\n",
    "print(label.shape)\n",
    "print(sum(label)) #1813 / 4601 spam labels"
   ]
  },
  {
   "cell_type": "code",
   "execution_count": 3,
   "metadata": {},
   "outputs": [
    {
     "name": "stdout",
     "output_type": "stream",
     "text": [
      "(2300, 57)\n",
      "906.0\n",
      "[ 0.     0.     1.33   0.     0.     0.     0.     0.     0.     0.\n",
      "  0.     0.     0.     0.     0.     0.     0.     1.33   0.     0.\n",
      "  0.     0.     0.     0.     2.66   1.33   0.     1.33   0.     1.33\n",
      "  1.33   0.     0.     0.     1.33   1.33   0.     0.     0.     0.\n",
      "  0.     0.     0.     0.     0.     0.     0.     0.     0.     0.288\n",
      "  0.     0.144  0.     0.     1.857 10.    39.   ]\n",
      "[1.900e-01 1.900e-01 1.900e-01 0.000e+00 1.080e+00 1.900e-01 1.900e-01\n",
      " 9.800e-01 8.900e-01 5.900e-01 9.000e-02 1.080e+00 1.900e-01 8.900e-01\n",
      " 9.000e-02 0.000e+00 0.000e+00 1.180e+00 3.850e+00 5.900e-01 1.780e+00\n",
      " 0.000e+00 9.000e-02 2.900e-01 0.000e+00 0.000e+00 0.000e+00 0.000e+00\n",
      " 0.000e+00 0.000e+00 0.000e+00 0.000e+00 0.000e+00 0.000e+00 9.000e-02\n",
      " 0.000e+00 0.000e+00 0.000e+00 9.000e-02 9.000e-02 0.000e+00 0.000e+00\n",
      " 0.000e+00 0.000e+00 0.000e+00 0.000e+00 0.000e+00 0.000e+00 0.000e+00\n",
      " 0.000e+00 1.900e-01 4.120e-01 2.220e-01 1.500e-02 4.195e+00 4.900e+01\n",
      " 8.140e+02]\n",
      "[-0.35239716 -0.17298419  1.98822249 -0.02468843 -0.4534212  -0.34029623\n",
      " -0.30204091 -0.28532979 -0.33131437 -0.36056569 -0.30343803 -0.62618484\n",
      " -0.32011533 -0.1642675  -0.19306472 -0.2743272  -0.32437384  2.39251058\n",
      " -0.92433754 -0.15246303 -0.66286303 -0.11710473 -0.29403906 -0.21136982\n",
      "  1.23241267  1.22343475 -0.23759926  2.27936865 -0.17874628  2.90608663\n",
      "  2.99042049 -0.14154737 -0.16313801 -0.14458334  2.07475215  3.13893463\n",
      " -0.33663854 -0.06093428 -0.16037533 -0.18408925 -0.11798248 -0.16373595\n",
      " -0.19990382 -0.12831414 -0.28127655 -0.18911519 -0.07008886 -0.1028493\n",
      " -0.16126592  0.60339182 -0.13745664 -0.122313   -0.30178929 -0.09590261\n",
      " -0.1018869  -0.31577288 -0.3718567 ]\n",
      "[ 3.18674650e-01 -2.25212400e-02 -1.84019192e-01 -2.46884311e-02\n",
      "  1.09633147e+00  3.02493712e-01  1.62000285e-01  2.60632684e+00\n",
      "  3.04416106e+00  4.80481552e-01  8.47676090e-02  6.27284906e-01\n",
      "  3.05904533e-01  2.30820000e+00  1.70082917e-01 -2.74327201e-01\n",
      " -3.24373838e-01  2.08157370e+00  1.18037303e+00  9.51433707e-01\n",
      "  7.86354481e-01 -1.17104726e-01 -2.47677568e-02  4.52051527e-01\n",
      " -3.19154086e-01 -2.84380089e-01 -2.37599256e-01 -2.20797620e-01\n",
      " -1.78746280e-01 -2.23247671e-01 -1.46993862e-01 -1.41547371e-01\n",
      " -1.63138005e-01 -1.44583344e-01 -2.51889853e-02 -2.42968574e-01\n",
      " -3.36638536e-01 -6.09342833e-02  2.70657711e-02  8.03737578e-02\n",
      " -1.17982481e-01 -1.63735951e-01 -1.99903822e-01 -1.28314143e-01\n",
      " -2.81276550e-01 -1.89115193e-01 -7.00888606e-02 -1.02849304e-01\n",
      " -1.61265917e-01 -5.52259817e-01  1.38057600e+00  1.57679033e-01\n",
      "  6.10784799e-01 -6.94375100e-02 -1.63929887e-02 -8.56628379e-04\n",
      "  7.41376390e-01]\n"
     ]
    }
   ],
   "source": [
    "# ******PREPROCESSING **********************************\n",
    "#Split training/test data\n",
    "X_train, X_test, y_train, y_test = train_test_split(data, label, test_size = 0.50, stratify = label) \n",
    "print(X_train.shape)\n",
    "print(sum(y_train)) #approx half of 1813 for equal split\n",
    "print(X_train[0,:])\n",
    "print(X_test[0,:])\n",
    "\n",
    "#Scale data by training set\n",
    "scaler = preprocessing.StandardScaler().fit(X_train)\n",
    "X_train_scaled = scaler.transform(X_train)\n",
    "X_test_scaled = scaler.transform(X_test)\n",
    "\n",
    "print(X_train_scaled[0,:])\n",
    "print(X_test_scaled[0,:])"
   ]
  },
  {
   "cell_type": "code",
   "execution_count": 4,
   "metadata": {},
   "outputs": [],
   "source": [
    "#*** TRAINING ******************************\n",
    " \n",
    "svclassifier = SVC(kernel='linear')  \n",
    "svclassifier.fit(X_train_scaled, y_train)\n",
    "\n",
    "y_pred = svclassifier.predict(X_test_scaled)"
   ]
  },
  {
   "cell_type": "code",
   "execution_count": 5,
   "metadata": {},
   "outputs": [
    {
     "name": "stdout",
     "output_type": "stream",
     "text": [
      "[[1339   55]\n",
      " [  95  812]]\n",
      "              precision    recall  f1-score   support\n",
      "\n",
      "         0.0       0.93      0.96      0.95      1394\n",
      "         1.0       0.94      0.90      0.92       907\n",
      "\n",
      "   micro avg       0.93      0.93      0.93      2301\n",
      "   macro avg       0.94      0.93      0.93      2301\n",
      "weighted avg       0.93      0.93      0.93      2301\n",
      "\n"
     ]
    }
   ],
   "source": [
    "print(confusion_matrix(y_test,y_pred))  \n",
    "print(classification_report(y_test,y_pred))"
   ]
  },
  {
   "cell_type": "code",
   "execution_count": 9,
   "metadata": {},
   "outputs": [
    {
     "data": {
      "image/png": "[encoded data removed]",
      "text/plain": [
       "<Figure size 432x288 with 1 Axes>"
      ]
     },
     "metadata": {
      "needs_background": "light"
     },
     "output_type": "display_data"
    }
   ],
   "source": [
    "# ROC Plot\n",
    "# https://stackoverflow.com/questions/25009284/how-to-plot-roc-curve-in-python\n",
    "# https://scikit-learn.org/stable/auto_examples/model_selection/plot_roc.html\n",
    "fpr, tpr, threshold = roc_curve(y_test, y_pred)\n",
    "roc_auc = auc(fpr, tpr)\n",
    "\n",
    "plt.title('Receiver Operating Characteristic')\n",
    "plt.plot(fpr, tpr, 'b', label = 'AUC = %0.2f' % roc_auc)\n",
    "plt.legend(loc = 'lower right')\n",
    "plt.plot([0, 1], [0, 1],'r--')\n",
    "plt.xlim([0, 1])\n",
    "plt.ylim([0, 1])\n",
    "plt.ylabel('True Positive Rate')\n",
    "plt.xlabel('False Positive Rate')\n",
    "plt.show()"
   ]
  },
  {
   "cell_type": "markdown",
   "metadata": {},
   "source": [
    "## Experiment 2: Feature Selection\n",
    "\n",
    "Using the learned model from experiment 1, we then select the m features (2...57) with the highest |w_m| values, and train a linear SVM with only the selected features.\n",
    "\n",
    "https://stats.stackexchange.com/questions/39243/how-does-one-interpret-svm-feature-weights\n",
    "https://docs.scipy.org/doc/numpy-1.15.0/reference/generated/numpy.argsort.html"
   ]
  },
  {
   "cell_type": "code",
   "execution_count": 24,
   "metadata": {},
   "outputs": [
    {
     "name": "stdout",
     "output_type": "stream",
     "text": [
      "[[-1.93734168e-01 -9.25573853e-05 -3.44608755e-02  1.97427031e-01\n",
      "   3.01683944e-01  1.37713570e-01  6.13841935e-01  1.51595862e-01\n",
      "   2.46354768e-01  3.56116650e-02 -8.25937099e-03 -1.28834028e-01\n",
      "   6.23880783e-03 -6.41118439e-03  9.04719054e-02  5.30356001e-01\n",
      "   5.84192764e-01  1.00226660e-01  2.08099620e-02  4.44692403e-01\n",
      "   2.07670832e-01  7.95231937e-02  4.96068944e-01  2.83729399e-01\n",
      "  -2.35778807e+00 -5.73431203e-01 -3.57509777e+00  1.30680710e-01\n",
      "  -3.63425969e-01 -1.94363108e-01 -1.15456526e+00 -4.60502746e-01\n",
      "  -1.79968495e-01  2.16516354e-01 -7.65390766e-01  1.88319095e-01\n",
      "  -8.24328310e-03 -6.58312567e-02 -1.84969992e-01 -1.06594249e-01\n",
      "  -5.51973998e-01 -7.42139004e-01 -5.02579341e-02 -8.45322253e-01\n",
      "  -4.81096729e-01 -1.04035241e+00 -5.83796843e-02 -6.06553164e-01\n",
      "  -9.94884529e-02 -3.37942127e-02 -4.88224749e-02  4.05643555e-01\n",
      "   8.95611339e-01  3.83065678e-01  1.46965953e+00  6.86982078e-01\n",
      "   1.47022888e-01]]\n",
      "[26 24 54 30 45 52 43 34 41 55  6 47 16 25 40 15 22 44 31 19 51 53 28  4\n",
      " 23  8 33 20  3 29  0 35 38 32  7 56  5 27 11 39 17 48 14 21 37 46 42 50\n",
      "  9  2 49 18 10 36 13 12  1]\n"
     ]
    }
   ],
   "source": [
    "svclassifier.coef_.shape\n",
    "print(svclassifier.coef_)\n",
    "w_orig = np.absolute(svclassifier.coef_)\n",
    "w_argsort = np.argsort(w_orig) #max first\n",
    "w_argsort = w_argsort[0][::-1]\n",
    "print(w_argsort)"
   ]
  },
  {
   "cell_type": "code",
   "execution_count": null,
   "metadata": {},
   "outputs": [],
   "source": []
  }
 ],
 "metadata": {
  "kernelspec": {
   "display_name": "Python 3",
   "language": "python",
   "name": "python3"
  },
  "language_info": {
   "codemirror_mode": {
    "name": "ipython",
    "version": 3
   },
   "file_extension": ".py",
   "mimetype": "text/x-python",
   "name": "python",
   "nbconvert_exporter": "python",
   "pygments_lexer": "ipython3",
   "version": "3.5.2"
  }
 },
 "nbformat": 4,
 "nbformat_minor": 2
}
